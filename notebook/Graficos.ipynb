{
 "cells": [
  {
   "cell_type": "code",
   "execution_count": 157,
   "id": "according-aquatic",
   "metadata": {},
   "outputs": [],
   "source": [
    "import numpy as np\n",
    "import pandas as pd\n",
    "import matplotlib.pyplot as plt\n",
    "import plotly.express as px\n",
    "import plotly.graph_objects as go\n",
    "from plotly.subplots import make_subplots "
   ]
  },
  {
   "cell_type": "code",
   "execution_count": 158,
   "id": "breathing-handy",
   "metadata": {},
   "outputs": [
    {
     "output_type": "execute_result",
     "data": {
      "text/plain": [
       "       Unnamed: 0      X     video_id trending_date  \\\n",
       "0               1      0  LgVi6y5QIjM    2017-11-14   \n",
       "1               2      1  1ZAPwfrtAFY    2017-11-14   \n",
       "2               3      2  ZJ9We4bjcg0    2017-11-14   \n",
       "3               4      3  2hu_evXPpMM    2017-11-14   \n",
       "4               5      4  OKYUtHvgMhc    2017-11-14   \n",
       "...           ...    ...          ...           ...   \n",
       "39349       39350  40834  74vuuey4mrM    2018-06-10   \n",
       "39350       39351  40835  YvlYjLPgrCE    2018-06-11   \n",
       "39351       39352  40836  GZa2B-knFGw    2018-06-14   \n",
       "39352       39353  40838  l7E0kTvARsA    2018-06-01   \n",
       "39353       39354  40839  l7E0kTvARsA    2018-06-02   \n",
       "\n",
       "                                                   title    channel_title  \\\n",
       "0      Sing zu Ende! | Gesangseinlagen vom Feinsten |...        inscope21   \n",
       "1      The Trump Presidency: Last Week Tonight with J...  LastWeekTonight   \n",
       "2               18 SONGS mit Kelly MissesVlog (Sing-off)             rezo   \n",
       "3      Dagi Bee wird Heiraten | Coldmirror bekommt Eh...     HerrNewstime   \n",
       "4          Die Welt in 30 Jahren - Sommer 2047 -  VOLKAN           VOLKAN   \n",
       "...                                                  ...              ...   \n",
       "39349  Вашингтон. Орёл и Решка. Перезагрузка. АМЕРИК...     Орел и Решка   \n",
       "39350  Street Food in Ghana - GIANT CHOP-BAR LUNCH an...       Mark Wiens   \n",
       "39351  Village Food in West Africa - BEST FUFU and EX...       Mark Wiens   \n",
       "39352  Golak Bugni Bank Te Batua Full Movie (HD) | Ha...      Rhythm Boyz   \n",
       "39353  Golak Bugni Bank Te Batua Full Movie (HD) | Ha...      Rhythm Boyz   \n",
       "\n",
       "                    publish_time  \\\n",
       "0      2017-11-13 17:08:49+00:00   \n",
       "1      2017-11-13 07:30:00+00:00   \n",
       "2      2017-11-12 13:10:36+00:00   \n",
       "3      2017-11-12 16:33:18+00:00   \n",
       "4      2017-11-12 16:09:44+00:00   \n",
       "...                          ...   \n",
       "39349  2018-06-10 08:29:21+00:00   \n",
       "39350  2018-06-10 13:00:08+00:00   \n",
       "39351  2018-06-13 13:00:04+00:00   \n",
       "39352  2018-05-31 13:30:04+00:00   \n",
       "39353  2018-05-31 13:30:04+00:00   \n",
       "\n",
       "                                                    tags     views    likes  \\\n",
       "0      inscope21|\\sing zu ende\\\"|\\\"gesangseinlagen\\\"|...  252786.0  35885.0   \n",
       "1      last week tonight trump presidency|\\last week ...  161781.5   3787.0   \n",
       "2      kelly|\\missesvlog\\\"|\\\"kelly song\\\"|\\\"bausa\\\"|\\...  822213.0   3787.0   \n",
       "3      Dagi Bee|\\Heiraten\\\"|\\\"Coldmirror\\\"|\\\"YouTube\\...  228574.0  11349.0   \n",
       "4      Welt|\\Natur\\\"|\\\"Umwelt\\\"|\\\"Klima\\\"|\\\"Klimawand...   37877.0   1839.0   \n",
       "...                                                  ...       ...      ...   \n",
       "39349  орел и решка|\\орел и решка перезагрузка\\\"|\\\"ор...  110035.0   2317.0   \n",
       "39350  Ghana|\\Ghana food\\\"|\\\"Ghanaian food\\\"|\\\"fufu\\\"...  304116.0  11398.0   \n",
       "39351  ghana|\\fufu\\\"|\\\"West Africa\\\"|\\\"African food\\\"...  252328.0  13557.0   \n",
       "39352  full movie|\\full punjabi movie\\\"|\\\"golak\\\"|\\\"b...  781977.0  22027.0   \n",
       "39353  full movie|\\full punjabi movie\\\"|\\\"golak\\\"|\\\"b...  161781.5  41807.0   \n",
       "\n",
       "       ...                                  thumbnail_link  comments_disabled  \\\n",
       "0      ...  https://i.ytimg.com/vi/LgVi6y5QIjM/default.jpg              False   \n",
       "1      ...  https://i.ytimg.com/vi/1ZAPwfrtAFY/default.jpg              False   \n",
       "2      ...  https://i.ytimg.com/vi/ZJ9We4bjcg0/default.jpg              False   \n",
       "3      ...  https://i.ytimg.com/vi/2hu_evXPpMM/default.jpg              False   \n",
       "4      ...  https://i.ytimg.com/vi/OKYUtHvgMhc/default.jpg              False   \n",
       "...    ...                                             ...                ...   \n",
       "39349  ...  https://i.ytimg.com/vi/74vuuey4mrM/default.jpg              False   \n",
       "39350  ...  https://i.ytimg.com/vi/YvlYjLPgrCE/default.jpg              False   \n",
       "39351  ...  https://i.ytimg.com/vi/GZa2B-knFGw/default.jpg              False   \n",
       "39352  ...  https://i.ytimg.com/vi/l7E0kTvARsA/default.jpg              False   \n",
       "39353  ...  https://i.ytimg.com/vi/l7E0kTvARsA/default.jpg              False   \n",
       "\n",
       "      ratings_disabled  video_error_or_removed  \\\n",
       "0                False                   False   \n",
       "1                False                   False   \n",
       "2                False                   False   \n",
       "3                False                   False   \n",
       "4                False                   False   \n",
       "...                ...                     ...   \n",
       "39349            False                   False   \n",
       "39350            False                   False   \n",
       "39351            False                   False   \n",
       "39352            False                   False   \n",
       "39353            False                   False   \n",
       "\n",
       "                                             description                state  \\\n",
       "0      Heute gibt es mal wieder ein neues Format... w...   Schleswig Holstein   \n",
       "1      One year after the presidential election, John...             Saarland   \n",
       "2      18 Song Mashup über den (veränderten) Beat von...               Berlin   \n",
       "3      Dagi Bee wird Heiraten | Coldmirror bekommt Eh...            Thuringen   \n",
       "4      Über die Zukunft nachzudenken macht Spaß, oder...              Sachsen   \n",
       "...                                                  ...                  ...   \n",
       "39349  Орёл и Решка. Перезагрузка. АМЕРИКА (Heads an...      Rheinland Pfalz   \n",
       "39350  This was an incredible day of street food in G...  Nordrhein Westfalen   \n",
       "39351  This was one of the most rewarding experiences...   Schleswig Holstein   \n",
       "39352  Rhythm Boyz Entertainment & Hayre Omjee Studio...      Rheinland Pfalz   \n",
       "39353  Rhythm Boyz Entertainment & Hayre Omjee Studio...              Hamburg   \n",
       "\n",
       "             lat        lon                               geometry  \\\n",
       "0      54.783748   9.433315        POINT (9.433315388 54.78374778)   \n",
       "1      49.250390   6.970003        POINT (6.970003213 49.25039044)   \n",
       "2      52.521819  13.401549        POINT (13.40154862 52.52181866)   \n",
       "3      50.970053  11.029962        POINT (11.02996212 50.97005292)   \n",
       "4      50.829984  12.919976        POINT (12.91997595 50.82998395)   \n",
       "...          ...        ...                                    ...   \n",
       "39349  49.982472   8.273219        POINT (8.273219156 49.98247246)   \n",
       "39350  52.029988   8.530011  POINT (8.530011351000001 52.02998822)   \n",
       "39351  54.783748   9.433315        POINT (9.433315388 54.78374778)   \n",
       "39352  49.982472   8.273219        POINT (8.273219156 49.98247246)   \n",
       "39353  53.550025   9.999999        POINT (9.999999144 53.55002464)   \n",
       "\n",
       "         snippet.title  \n",
       "0        Entertainment  \n",
       "1        Entertainment  \n",
       "2        Entertainment  \n",
       "3        Entertainment  \n",
       "4        Entertainment  \n",
       "...                ...  \n",
       "39349  Travel & Events  \n",
       "39350  Travel & Events  \n",
       "39351  Travel & Events  \n",
       "39352           Movies  \n",
       "39353           Movies  \n",
       "\n",
       "[39354 rows x 22 columns]"
      ],
      "text/html": "<div>\n<style scoped>\n    .dataframe tbody tr th:only-of-type {\n        vertical-align: middle;\n    }\n\n    .dataframe tbody tr th {\n        vertical-align: top;\n    }\n\n    .dataframe thead th {\n        text-align: right;\n    }\n</style>\n<table border=\"1\" class=\"dataframe\">\n  <thead>\n    <tr style=\"text-align: right;\">\n      <th></th>\n      <th>Unnamed: 0</th>\n      <th>X</th>\n      <th>video_id</th>\n      <th>trending_date</th>\n      <th>title</th>\n      <th>channel_title</th>\n      <th>publish_time</th>\n      <th>tags</th>\n      <th>views</th>\n      <th>likes</th>\n      <th>...</th>\n      <th>thumbnail_link</th>\n      <th>comments_disabled</th>\n      <th>ratings_disabled</th>\n      <th>video_error_or_removed</th>\n      <th>description</th>\n      <th>state</th>\n      <th>lat</th>\n      <th>lon</th>\n      <th>geometry</th>\n      <th>snippet.title</th>\n    </tr>\n  </thead>\n  <tbody>\n    <tr>\n      <th>0</th>\n      <td>1</td>\n      <td>0</td>\n      <td>LgVi6y5QIjM</td>\n      <td>2017-11-14</td>\n      <td>Sing zu Ende! | Gesangseinlagen vom Feinsten |...</td>\n      <td>inscope21</td>\n      <td>2017-11-13 17:08:49+00:00</td>\n      <td>inscope21|\\sing zu ende\\\"|\\\"gesangseinlagen\\\"|...</td>\n      <td>252786.0</td>\n      <td>35885.0</td>\n      <td>...</td>\n      <td>https://i.ytimg.com/vi/LgVi6y5QIjM/default.jpg</td>\n      <td>False</td>\n      <td>False</td>\n      <td>False</td>\n      <td>Heute gibt es mal wieder ein neues Format... w...</td>\n      <td>Schleswig Holstein</td>\n      <td>54.783748</td>\n      <td>9.433315</td>\n      <td>POINT (9.433315388 54.78374778)</td>\n      <td>Entertainment</td>\n    </tr>\n    <tr>\n      <th>1</th>\n      <td>2</td>\n      <td>1</td>\n      <td>1ZAPwfrtAFY</td>\n      <td>2017-11-14</td>\n      <td>The Trump Presidency: Last Week Tonight with J...</td>\n      <td>LastWeekTonight</td>\n      <td>2017-11-13 07:30:00+00:00</td>\n      <td>last week tonight trump presidency|\\last week ...</td>\n      <td>161781.5</td>\n      <td>3787.0</td>\n      <td>...</td>\n      <td>https://i.ytimg.com/vi/1ZAPwfrtAFY/default.jpg</td>\n      <td>False</td>\n      <td>False</td>\n      <td>False</td>\n      <td>One year after the presidential election, John...</td>\n      <td>Saarland</td>\n      <td>49.250390</td>\n      <td>6.970003</td>\n      <td>POINT (6.970003213 49.25039044)</td>\n      <td>Entertainment</td>\n    </tr>\n    <tr>\n      <th>2</th>\n      <td>3</td>\n      <td>2</td>\n      <td>ZJ9We4bjcg0</td>\n      <td>2017-11-14</td>\n      <td>18 SONGS mit Kelly MissesVlog (Sing-off)</td>\n      <td>rezo</td>\n      <td>2017-11-12 13:10:36+00:00</td>\n      <td>kelly|\\missesvlog\\\"|\\\"kelly song\\\"|\\\"bausa\\\"|\\...</td>\n      <td>822213.0</td>\n      <td>3787.0</td>\n      <td>...</td>\n      <td>https://i.ytimg.com/vi/ZJ9We4bjcg0/default.jpg</td>\n      <td>False</td>\n      <td>False</td>\n      <td>False</td>\n      <td>18 Song Mashup über den (veränderten) Beat von...</td>\n      <td>Berlin</td>\n      <td>52.521819</td>\n      <td>13.401549</td>\n      <td>POINT (13.40154862 52.52181866)</td>\n      <td>Entertainment</td>\n    </tr>\n    <tr>\n      <th>3</th>\n      <td>4</td>\n      <td>3</td>\n      <td>2hu_evXPpMM</td>\n      <td>2017-11-14</td>\n      <td>Dagi Bee wird Heiraten | Coldmirror bekommt Eh...</td>\n      <td>HerrNewstime</td>\n      <td>2017-11-12 16:33:18+00:00</td>\n      <td>Dagi Bee|\\Heiraten\\\"|\\\"Coldmirror\\\"|\\\"YouTube\\...</td>\n      <td>228574.0</td>\n      <td>11349.0</td>\n      <td>...</td>\n      <td>https://i.ytimg.com/vi/2hu_evXPpMM/default.jpg</td>\n      <td>False</td>\n      <td>False</td>\n      <td>False</td>\n      <td>Dagi Bee wird Heiraten | Coldmirror bekommt Eh...</td>\n      <td>Thuringen</td>\n      <td>50.970053</td>\n      <td>11.029962</td>\n      <td>POINT (11.02996212 50.97005292)</td>\n      <td>Entertainment</td>\n    </tr>\n    <tr>\n      <th>4</th>\n      <td>5</td>\n      <td>4</td>\n      <td>OKYUtHvgMhc</td>\n      <td>2017-11-14</td>\n      <td>Die Welt in 30 Jahren - Sommer 2047 -  VOLKAN</td>\n      <td>VOLKAN</td>\n      <td>2017-11-12 16:09:44+00:00</td>\n      <td>Welt|\\Natur\\\"|\\\"Umwelt\\\"|\\\"Klima\\\"|\\\"Klimawand...</td>\n      <td>37877.0</td>\n      <td>1839.0</td>\n      <td>...</td>\n      <td>https://i.ytimg.com/vi/OKYUtHvgMhc/default.jpg</td>\n      <td>False</td>\n      <td>False</td>\n      <td>False</td>\n      <td>Über die Zukunft nachzudenken macht Spaß, oder...</td>\n      <td>Sachsen</td>\n      <td>50.829984</td>\n      <td>12.919976</td>\n      <td>POINT (12.91997595 50.82998395)</td>\n      <td>Entertainment</td>\n    </tr>\n    <tr>\n      <th>...</th>\n      <td>...</td>\n      <td>...</td>\n      <td>...</td>\n      <td>...</td>\n      <td>...</td>\n      <td>...</td>\n      <td>...</td>\n      <td>...</td>\n      <td>...</td>\n      <td>...</td>\n      <td>...</td>\n      <td>...</td>\n      <td>...</td>\n      <td>...</td>\n      <td>...</td>\n      <td>...</td>\n      <td>...</td>\n      <td>...</td>\n      <td>...</td>\n      <td>...</td>\n      <td>...</td>\n    </tr>\n    <tr>\n      <th>39349</th>\n      <td>39350</td>\n      <td>40834</td>\n      <td>74vuuey4mrM</td>\n      <td>2018-06-10</td>\n      <td>Вашингтон. Орёл и Решка. Перезагрузка. АМЕРИК...</td>\n      <td>Орел и Решка</td>\n      <td>2018-06-10 08:29:21+00:00</td>\n      <td>орел и решка|\\орел и решка перезагрузка\\\"|\\\"ор...</td>\n      <td>110035.0</td>\n      <td>2317.0</td>\n      <td>...</td>\n      <td>https://i.ytimg.com/vi/74vuuey4mrM/default.jpg</td>\n      <td>False</td>\n      <td>False</td>\n      <td>False</td>\n      <td>Орёл и Решка. Перезагрузка. АМЕРИКА (Heads an...</td>\n      <td>Rheinland Pfalz</td>\n      <td>49.982472</td>\n      <td>8.273219</td>\n      <td>POINT (8.273219156 49.98247246)</td>\n      <td>Travel &amp; Events</td>\n    </tr>\n    <tr>\n      <th>39350</th>\n      <td>39351</td>\n      <td>40835</td>\n      <td>YvlYjLPgrCE</td>\n      <td>2018-06-11</td>\n      <td>Street Food in Ghana - GIANT CHOP-BAR LUNCH an...</td>\n      <td>Mark Wiens</td>\n      <td>2018-06-10 13:00:08+00:00</td>\n      <td>Ghana|\\Ghana food\\\"|\\\"Ghanaian food\\\"|\\\"fufu\\\"...</td>\n      <td>304116.0</td>\n      <td>11398.0</td>\n      <td>...</td>\n      <td>https://i.ytimg.com/vi/YvlYjLPgrCE/default.jpg</td>\n      <td>False</td>\n      <td>False</td>\n      <td>False</td>\n      <td>This was an incredible day of street food in G...</td>\n      <td>Nordrhein Westfalen</td>\n      <td>52.029988</td>\n      <td>8.530011</td>\n      <td>POINT (8.530011351000001 52.02998822)</td>\n      <td>Travel &amp; Events</td>\n    </tr>\n    <tr>\n      <th>39351</th>\n      <td>39352</td>\n      <td>40836</td>\n      <td>GZa2B-knFGw</td>\n      <td>2018-06-14</td>\n      <td>Village Food in West Africa - BEST FUFU and EX...</td>\n      <td>Mark Wiens</td>\n      <td>2018-06-13 13:00:04+00:00</td>\n      <td>ghana|\\fufu\\\"|\\\"West Africa\\\"|\\\"African food\\\"...</td>\n      <td>252328.0</td>\n      <td>13557.0</td>\n      <td>...</td>\n      <td>https://i.ytimg.com/vi/GZa2B-knFGw/default.jpg</td>\n      <td>False</td>\n      <td>False</td>\n      <td>False</td>\n      <td>This was one of the most rewarding experiences...</td>\n      <td>Schleswig Holstein</td>\n      <td>54.783748</td>\n      <td>9.433315</td>\n      <td>POINT (9.433315388 54.78374778)</td>\n      <td>Travel &amp; Events</td>\n    </tr>\n    <tr>\n      <th>39352</th>\n      <td>39353</td>\n      <td>40838</td>\n      <td>l7E0kTvARsA</td>\n      <td>2018-06-01</td>\n      <td>Golak Bugni Bank Te Batua Full Movie (HD) | Ha...</td>\n      <td>Rhythm Boyz</td>\n      <td>2018-05-31 13:30:04+00:00</td>\n      <td>full movie|\\full punjabi movie\\\"|\\\"golak\\\"|\\\"b...</td>\n      <td>781977.0</td>\n      <td>22027.0</td>\n      <td>...</td>\n      <td>https://i.ytimg.com/vi/l7E0kTvARsA/default.jpg</td>\n      <td>False</td>\n      <td>False</td>\n      <td>False</td>\n      <td>Rhythm Boyz Entertainment &amp; Hayre Omjee Studio...</td>\n      <td>Rheinland Pfalz</td>\n      <td>49.982472</td>\n      <td>8.273219</td>\n      <td>POINT (8.273219156 49.98247246)</td>\n      <td>Movies</td>\n    </tr>\n    <tr>\n      <th>39353</th>\n      <td>39354</td>\n      <td>40839</td>\n      <td>l7E0kTvARsA</td>\n      <td>2018-06-02</td>\n      <td>Golak Bugni Bank Te Batua Full Movie (HD) | Ha...</td>\n      <td>Rhythm Boyz</td>\n      <td>2018-05-31 13:30:04+00:00</td>\n      <td>full movie|\\full punjabi movie\\\"|\\\"golak\\\"|\\\"b...</td>\n      <td>161781.5</td>\n      <td>41807.0</td>\n      <td>...</td>\n      <td>https://i.ytimg.com/vi/l7E0kTvARsA/default.jpg</td>\n      <td>False</td>\n      <td>False</td>\n      <td>False</td>\n      <td>Rhythm Boyz Entertainment &amp; Hayre Omjee Studio...</td>\n      <td>Hamburg</td>\n      <td>53.550025</td>\n      <td>9.999999</td>\n      <td>POINT (9.999999144 53.55002464)</td>\n      <td>Movies</td>\n    </tr>\n  </tbody>\n</table>\n<p>39354 rows × 22 columns</p>\n</div>"
     },
     "metadata": {},
     "execution_count": 158
    }
   ],
   "source": [
    "#df = pd.read_csv('DEvideos_cc50_202101.csv')\n",
    "#df = pd.read_csv('videos.csv', sep='\\t')\n",
    "df = pd.read_csv('videos (1).csv', sep='\\t')\n",
    "df"
   ]
  },
  {
   "cell_type": "code",
   "execution_count": 159,
   "id": "competent-activation",
   "metadata": {},
   "outputs": [
    {
     "output_type": "execute_result",
     "data": {
      "text/plain": [
       "                Categoría  Cantidad de videos\n",
       "0        Autos & Vehicles                 859\n",
       "1                  Comedy                2462\n",
       "2               Education                 840\n",
       "3           Entertainment               14815\n",
       "4        Film & Animation                2200\n",
       "5                  Gaming                1550\n",
       "6           Howto & Style                1706\n",
       "7                  Movies                   2\n",
       "8                   Music                2346\n",
       "9         News & Politics                2709\n",
       "10  Nonprofits & Activism                 228\n",
       "11         People & Blogs                5769\n",
       "12         Pets & Animals                 249\n",
       "13   Science & Technology                 788\n",
       "14                  Shows                 100\n",
       "15                 Sports                2592\n",
       "16        Travel & Events                 139"
      ],
      "text/html": "<div>\n<style scoped>\n    .dataframe tbody tr th:only-of-type {\n        vertical-align: middle;\n    }\n\n    .dataframe tbody tr th {\n        vertical-align: top;\n    }\n\n    .dataframe thead th {\n        text-align: right;\n    }\n</style>\n<table border=\"1\" class=\"dataframe\">\n  <thead>\n    <tr style=\"text-align: right;\">\n      <th></th>\n      <th>Categoría</th>\n      <th>Cantidad de videos</th>\n    </tr>\n  </thead>\n  <tbody>\n    <tr>\n      <th>0</th>\n      <td>Autos &amp; Vehicles</td>\n      <td>859</td>\n    </tr>\n    <tr>\n      <th>1</th>\n      <td>Comedy</td>\n      <td>2462</td>\n    </tr>\n    <tr>\n      <th>2</th>\n      <td>Education</td>\n      <td>840</td>\n    </tr>\n    <tr>\n      <th>3</th>\n      <td>Entertainment</td>\n      <td>14815</td>\n    </tr>\n    <tr>\n      <th>4</th>\n      <td>Film &amp; Animation</td>\n      <td>2200</td>\n    </tr>\n    <tr>\n      <th>5</th>\n      <td>Gaming</td>\n      <td>1550</td>\n    </tr>\n    <tr>\n      <th>6</th>\n      <td>Howto &amp; Style</td>\n      <td>1706</td>\n    </tr>\n    <tr>\n      <th>7</th>\n      <td>Movies</td>\n      <td>2</td>\n    </tr>\n    <tr>\n      <th>8</th>\n      <td>Music</td>\n      <td>2346</td>\n    </tr>\n    <tr>\n      <th>9</th>\n      <td>News &amp; Politics</td>\n      <td>2709</td>\n    </tr>\n    <tr>\n      <th>10</th>\n      <td>Nonprofits &amp; Activism</td>\n      <td>228</td>\n    </tr>\n    <tr>\n      <th>11</th>\n      <td>People &amp; Blogs</td>\n      <td>5769</td>\n    </tr>\n    <tr>\n      <th>12</th>\n      <td>Pets &amp; Animals</td>\n      <td>249</td>\n    </tr>\n    <tr>\n      <th>13</th>\n      <td>Science &amp; Technology</td>\n      <td>788</td>\n    </tr>\n    <tr>\n      <th>14</th>\n      <td>Shows</td>\n      <td>100</td>\n    </tr>\n    <tr>\n      <th>15</th>\n      <td>Sports</td>\n      <td>2592</td>\n    </tr>\n    <tr>\n      <th>16</th>\n      <td>Travel &amp; Events</td>\n      <td>139</td>\n    </tr>\n  </tbody>\n</table>\n</div>"
     },
     "metadata": {},
     "execution_count": 159
    }
   ],
   "source": [
    "aux = df.copy()\n",
    "aux['count'] = 1\n",
    "aux.groupby(['snippet.title']).count()\n",
    "aux = pd.DataFrame(aux.groupby(['snippet.title']).count().reset_index(), columns=['snippet.title', 'count'])\n",
    "aux = aux.rename(columns={'snippet.title': 'Categoría', 'count': 'Cantidad de videos'})\n",
    "aux"
   ]
  },
  {
   "cell_type": "code",
   "execution_count": 160,
   "id": "correct-perry",
   "metadata": {
    "tags": []
   },
   "outputs": [
    {
     "output_type": "display_data",
     "data": {
      "application/vnd.plotly.v1+json": {
       "config": {
        "plotlyServerURL": "https://plot.ly"
       },
       "data": [
        {
         "alignmentgroup": "True",
         "hovertemplate": "Categoría=%{x}<br>Cantidad de videos=%{y}<extra></extra>",
         "legendgroup": "",
         "marker": {
          "color": "#636efa",
          "pattern": {
           "shape": ""
          }
         },
         "name": "",
         "offsetgroup": "",
         "orientation": "v",
         "showlegend": false,
         "textposition": "auto",
         "type": "bar",
         "x": [
          "Autos & Vehicles",
          "Comedy",
          "Education",
          "Entertainment",
          "Film & Animation",
          "Gaming",
          "Howto & Style",
          "Movies",
          "Music",
          "News & Politics",
          "Nonprofits & Activism",
          "People & Blogs",
          "Pets & Animals",
          "Science & Technology",
          "Shows",
          "Sports",
          "Travel & Events"
         ],
         "xaxis": "x",
         "y": [
          859,
          2462,
          840,
          14815,
          2200,
          1550,
          1706,
          2,
          2346,
          2709,
          228,
          5769,
          249,
          788,
          100,
          2592,
          139
         ],
         "yaxis": "y"
        }
       ],
       "layout": {
        "barmode": "relative",
        "legend": {
         "tracegroupgap": 0
        },
        "template": {
         "data": {
          "bar": [
           {
            "error_x": {
             "color": "#2a3f5f"
            },
            "error_y": {
             "color": "#2a3f5f"
            },
            "marker": {
             "line": {
              "color": "#E5ECF6",
              "width": 0.5
             },
             "pattern": {
              "fillmode": "overlay",
              "size": 10,
              "solidity": 0.2
             }
            },
            "type": "bar"
           }
          ],
          "barpolar": [
           {
            "marker": {
             "line": {
              "color": "#E5ECF6",
              "width": 0.5
             },
             "pattern": {
              "fillmode": "overlay",
              "size": 10,
              "solidity": 0.2
             }
            },
            "type": "barpolar"
           }
          ],
          "carpet": [
           {
            "aaxis": {
             "endlinecolor": "#2a3f5f",
             "gridcolor": "white",
             "linecolor": "white",
             "minorgridcolor": "white",
             "startlinecolor": "#2a3f5f"
            },
            "baxis": {
             "endlinecolor": "#2a3f5f",
             "gridcolor": "white",
             "linecolor": "white",
             "minorgridcolor": "white",
             "startlinecolor": "#2a3f5f"
            },
            "type": "carpet"
           }
          ],
          "choropleth": [
           {
            "colorbar": {
             "outlinewidth": 0,
             "ticks": ""
            },
            "type": "choropleth"
           }
          ],
          "contour": [
           {
            "colorbar": {
             "outlinewidth": 0,
             "ticks": ""
            },
            "colorscale": [
             [
              0,
              "#0d0887"
             ],
             [
              0.1111111111111111,
              "#46039f"
             ],
             [
              0.2222222222222222,
              "#7201a8"
             ],
             [
              0.3333333333333333,
              "#9c179e"
             ],
             [
              0.4444444444444444,
              "#bd3786"
             ],
             [
              0.5555555555555556,
              "#d8576b"
             ],
             [
              0.6666666666666666,
              "#ed7953"
             ],
             [
              0.7777777777777778,
              "#fb9f3a"
             ],
             [
              0.8888888888888888,
              "#fdca26"
             ],
             [
              1,
              "#f0f921"
             ]
            ],
            "type": "contour"
           }
          ],
          "contourcarpet": [
           {
            "colorbar": {
             "outlinewidth": 0,
             "ticks": ""
            },
            "type": "contourcarpet"
           }
          ],
          "heatmap": [
           {
            "colorbar": {
             "outlinewidth": 0,
             "ticks": ""
            },
            "colorscale": [
             [
              0,
              "#0d0887"
             ],
             [
              0.1111111111111111,
              "#46039f"
             ],
             [
              0.2222222222222222,
              "#7201a8"
             ],
             [
              0.3333333333333333,
              "#9c179e"
             ],
             [
              0.4444444444444444,
              "#bd3786"
             ],
             [
              0.5555555555555556,
              "#d8576b"
             ],
             [
              0.6666666666666666,
              "#ed7953"
             ],
             [
              0.7777777777777778,
              "#fb9f3a"
             ],
             [
              0.8888888888888888,
              "#fdca26"
             ],
             [
              1,
              "#f0f921"
             ]
            ],
            "type": "heatmap"
           }
          ],
          "heatmapgl": [
           {
            "colorbar": {
             "outlinewidth": 0,
             "ticks": ""
            },
            "colorscale": [
             [
              0,
              "#0d0887"
             ],
             [
              0.1111111111111111,
              "#46039f"
             ],
             [
              0.2222222222222222,
              "#7201a8"
             ],
             [
              0.3333333333333333,
              "#9c179e"
             ],
             [
              0.4444444444444444,
              "#bd3786"
             ],
             [
              0.5555555555555556,
              "#d8576b"
             ],
             [
              0.6666666666666666,
              "#ed7953"
             ],
             [
              0.7777777777777778,
              "#fb9f3a"
             ],
             [
              0.8888888888888888,
              "#fdca26"
             ],
             [
              1,
              "#f0f921"
             ]
            ],
            "type": "heatmapgl"
           }
          ],
          "histogram": [
           {
            "marker": {
             "pattern": {
              "fillmode": "overlay",
              "size": 10,
              "solidity": 0.2
             }
            },
            "type": "histogram"
           }
          ],
          "histogram2d": [
           {
            "colorbar": {
             "outlinewidth": 0,
             "ticks": ""
            },
            "colorscale": [
             [
              0,
              "#0d0887"
             ],
             [
              0.1111111111111111,
              "#46039f"
             ],
             [
              0.2222222222222222,
              "#7201a8"
             ],
             [
              0.3333333333333333,
              "#9c179e"
             ],
             [
              0.4444444444444444,
              "#bd3786"
             ],
             [
              0.5555555555555556,
              "#d8576b"
             ],
             [
              0.6666666666666666,
              "#ed7953"
             ],
             [
              0.7777777777777778,
              "#fb9f3a"
             ],
             [
              0.8888888888888888,
              "#fdca26"
             ],
             [
              1,
              "#f0f921"
             ]
            ],
            "type": "histogram2d"
           }
          ],
          "histogram2dcontour": [
           {
            "colorbar": {
             "outlinewidth": 0,
             "ticks": ""
            },
            "colorscale": [
             [
              0,
              "#0d0887"
             ],
             [
              0.1111111111111111,
              "#46039f"
             ],
             [
              0.2222222222222222,
              "#7201a8"
             ],
             [
              0.3333333333333333,
              "#9c179e"
             ],
             [
              0.4444444444444444,
              "#bd3786"
             ],
             [
              0.5555555555555556,
              "#d8576b"
             ],
             [
              0.6666666666666666,
              "#ed7953"
             ],
             [
              0.7777777777777778,
              "#fb9f3a"
             ],
             [
              0.8888888888888888,
              "#fdca26"
             ],
             [
              1,
              "#f0f921"
             ]
            ],
            "type": "histogram2dcontour"
           }
          ],
          "mesh3d": [
           {
            "colorbar": {
             "outlinewidth": 0,
             "ticks": ""
            },
            "type": "mesh3d"
           }
          ],
          "parcoords": [
           {
            "line": {
             "colorbar": {
              "outlinewidth": 0,
              "ticks": ""
             }
            },
            "type": "parcoords"
           }
          ],
          "pie": [
           {
            "automargin": true,
            "type": "pie"
           }
          ],
          "scatter": [
           {
            "marker": {
             "colorbar": {
              "outlinewidth": 0,
              "ticks": ""
             }
            },
            "type": "scatter"
           }
          ],
          "scatter3d": [
           {
            "line": {
             "colorbar": {
              "outlinewidth": 0,
              "ticks": ""
             }
            },
            "marker": {
             "colorbar": {
              "outlinewidth": 0,
              "ticks": ""
             }
            },
            "type": "scatter3d"
           }
          ],
          "scattercarpet": [
           {
            "marker": {
             "colorbar": {
              "outlinewidth": 0,
              "ticks": ""
             }
            },
            "type": "scattercarpet"
           }
          ],
          "scattergeo": [
           {
            "marker": {
             "colorbar": {
              "outlinewidth": 0,
              "ticks": ""
             }
            },
            "type": "scattergeo"
           }
          ],
          "scattergl": [
           {
            "marker": {
             "colorbar": {
              "outlinewidth": 0,
              "ticks": ""
             }
            },
            "type": "scattergl"
           }
          ],
          "scattermapbox": [
           {
            "marker": {
             "colorbar": {
              "outlinewidth": 0,
              "ticks": ""
             }
            },
            "type": "scattermapbox"
           }
          ],
          "scatterpolar": [
           {
            "marker": {
             "colorbar": {
              "outlinewidth": 0,
              "ticks": ""
             }
            },
            "type": "scatterpolar"
           }
          ],
          "scatterpolargl": [
           {
            "marker": {
             "colorbar": {
              "outlinewidth": 0,
              "ticks": ""
             }
            },
            "type": "scatterpolargl"
           }
          ],
          "scatterternary": [
           {
            "marker": {
             "colorbar": {
              "outlinewidth": 0,
              "ticks": ""
             }
            },
            "type": "scatterternary"
           }
          ],
          "surface": [
           {
            "colorbar": {
             "outlinewidth": 0,
             "ticks": ""
            },
            "colorscale": [
             [
              0,
              "#0d0887"
             ],
             [
              0.1111111111111111,
              "#46039f"
             ],
             [
              0.2222222222222222,
              "#7201a8"
             ],
             [
              0.3333333333333333,
              "#9c179e"
             ],
             [
              0.4444444444444444,
              "#bd3786"
             ],
             [
              0.5555555555555556,
              "#d8576b"
             ],
             [
              0.6666666666666666,
              "#ed7953"
             ],
             [
              0.7777777777777778,
              "#fb9f3a"
             ],
             [
              0.8888888888888888,
              "#fdca26"
             ],
             [
              1,
              "#f0f921"
             ]
            ],
            "type": "surface"
           }
          ],
          "table": [
           {
            "cells": {
             "fill": {
              "color": "#EBF0F8"
             },
             "line": {
              "color": "white"
             }
            },
            "header": {
             "fill": {
              "color": "#C8D4E3"
             },
             "line": {
              "color": "white"
             }
            },
            "type": "table"
           }
          ]
         },
         "layout": {
          "annotationdefaults": {
           "arrowcolor": "#2a3f5f",
           "arrowhead": 0,
           "arrowwidth": 1
          },
          "autotypenumbers": "strict",
          "coloraxis": {
           "colorbar": {
            "outlinewidth": 0,
            "ticks": ""
           }
          },
          "colorscale": {
           "diverging": [
            [
             0,
             "#8e0152"
            ],
            [
             0.1,
             "#c51b7d"
            ],
            [
             0.2,
             "#de77ae"
            ],
            [
             0.3,
             "#f1b6da"
            ],
            [
             0.4,
             "#fde0ef"
            ],
            [
             0.5,
             "#f7f7f7"
            ],
            [
             0.6,
             "#e6f5d0"
            ],
            [
             0.7,
             "#b8e186"
            ],
            [
             0.8,
             "#7fbc41"
            ],
            [
             0.9,
             "#4d9221"
            ],
            [
             1,
             "#276419"
            ]
           ],
           "sequential": [
            [
             0,
             "#0d0887"
            ],
            [
             0.1111111111111111,
             "#46039f"
            ],
            [
             0.2222222222222222,
             "#7201a8"
            ],
            [
             0.3333333333333333,
             "#9c179e"
            ],
            [
             0.4444444444444444,
             "#bd3786"
            ],
            [
             0.5555555555555556,
             "#d8576b"
            ],
            [
             0.6666666666666666,
             "#ed7953"
            ],
            [
             0.7777777777777778,
             "#fb9f3a"
            ],
            [
             0.8888888888888888,
             "#fdca26"
            ],
            [
             1,
             "#f0f921"
            ]
           ],
           "sequentialminus": [
            [
             0,
             "#0d0887"
            ],
            [
             0.1111111111111111,
             "#46039f"
            ],
            [
             0.2222222222222222,
             "#7201a8"
            ],
            [
             0.3333333333333333,
             "#9c179e"
            ],
            [
             0.4444444444444444,
             "#bd3786"
            ],
            [
             0.5555555555555556,
             "#d8576b"
            ],
            [
             0.6666666666666666,
             "#ed7953"
            ],
            [
             0.7777777777777778,
             "#fb9f3a"
            ],
            [
             0.8888888888888888,
             "#fdca26"
            ],
            [
             1,
             "#f0f921"
            ]
           ]
          },
          "colorway": [
           "#636efa",
           "#EF553B",
           "#00cc96",
           "#ab63fa",
           "#FFA15A",
           "#19d3f3",
           "#FF6692",
           "#B6E880",
           "#FF97FF",
           "#FECB52"
          ],
          "font": {
           "color": "#2a3f5f"
          },
          "geo": {
           "bgcolor": "white",
           "lakecolor": "white",
           "landcolor": "#E5ECF6",
           "showlakes": true,
           "showland": true,
           "subunitcolor": "white"
          },
          "hoverlabel": {
           "align": "left"
          },
          "hovermode": "closest",
          "mapbox": {
           "style": "light"
          },
          "paper_bgcolor": "white",
          "plot_bgcolor": "#E5ECF6",
          "polar": {
           "angularaxis": {
            "gridcolor": "white",
            "linecolor": "white",
            "ticks": ""
           },
           "bgcolor": "#E5ECF6",
           "radialaxis": {
            "gridcolor": "white",
            "linecolor": "white",
            "ticks": ""
           }
          },
          "scene": {
           "xaxis": {
            "backgroundcolor": "#E5ECF6",
            "gridcolor": "white",
            "gridwidth": 2,
            "linecolor": "white",
            "showbackground": true,
            "ticks": "",
            "zerolinecolor": "white"
           },
           "yaxis": {
            "backgroundcolor": "#E5ECF6",
            "gridcolor": "white",
            "gridwidth": 2,
            "linecolor": "white",
            "showbackground": true,
            "ticks": "",
            "zerolinecolor": "white"
           },
           "zaxis": {
            "backgroundcolor": "#E5ECF6",
            "gridcolor": "white",
            "gridwidth": 2,
            "linecolor": "white",
            "showbackground": true,
            "ticks": "",
            "zerolinecolor": "white"
           }
          },
          "shapedefaults": {
           "line": {
            "color": "#2a3f5f"
           }
          },
          "ternary": {
           "aaxis": {
            "gridcolor": "white",
            "linecolor": "white",
            "ticks": ""
           },
           "baxis": {
            "gridcolor": "white",
            "linecolor": "white",
            "ticks": ""
           },
           "bgcolor": "#E5ECF6",
           "caxis": {
            "gridcolor": "white",
            "linecolor": "white",
            "ticks": ""
           }
          },
          "title": {
           "x": 0.05
          },
          "xaxis": {
           "automargin": true,
           "gridcolor": "white",
           "linecolor": "white",
           "ticks": "",
           "title": {
            "standoff": 15
           },
           "zerolinecolor": "white",
           "zerolinewidth": 2
          },
          "yaxis": {
           "automargin": true,
           "gridcolor": "white",
           "linecolor": "white",
           "ticks": "",
           "title": {
            "standoff": 15
           },
           "zerolinecolor": "white",
           "zerolinewidth": 2
          }
         }
        },
        "title": {
         "text": "Cantidad de videos en tendencia por categoría"
        },
        "xaxis": {
         "anchor": "y",
         "domain": [
          0,
          1
         ],
         "title": {
          "text": "Categoría"
         }
        },
        "yaxis": {
         "anchor": "x",
         "domain": [
          0,
          1
         ],
         "title": {
          "text": "Cantidad de videos"
         }
        }
       }
      }
     },
     "metadata": {}
    }
   ],
   "source": [
    "fig = px.bar(aux, x=aux['Categoría'], y=aux['Cantidad de videos'], title=\"Cantidad de videos en tendencia por categoría\")\n",
    "fig.show()"
   ]
  },
  {
   "cell_type": "code",
   "execution_count": 161,
   "id": "broken-green",
   "metadata": {
    "tags": []
   },
   "outputs": [
    {
     "output_type": "execute_result",
     "data": {
      "text/plain": [
       "                Categoría        Likes   Dislikes  Promedio de ratios\n",
       "0        Autos & Vehicles    6599487.0   236289.0               91.97\n",
       "1                  Comedy   39510290.0  1487547.0               52.96\n",
       "2               Education    4282179.0   274376.0               87.28\n",
       "3           Entertainment  142989689.0  7078932.0               82.90\n",
       "4        Film & Animation   22217540.0  1078954.0               78.85\n",
       "5                  Gaming   18428209.0   742747.0               87.83\n",
       "6           Howto & Style   10938315.0   602036.0               61.41\n",
       "7                  Movies      63834.0     2594.0               25.61\n",
       "8                   Music   36699912.0  1775162.0               66.56\n",
       "9         News & Politics   21251344.0  1252372.0              203.64\n",
       "10  Nonprofits & Activism    1087694.0    57982.0               54.53\n",
       "11         People & Blogs   43703746.0  2284041.0              121.59\n",
       "12         Pets & Animals    2140288.0   102599.0              107.69\n",
       "13   Science & Technology    8181902.0   427716.0               60.27\n",
       "14                  Shows     396922.0    93259.0                5.61\n",
       "15                 Sports   20516857.0  1333829.0              130.61\n",
       "16        Travel & Events    1087712.0    46087.0              119.95"
      ],
      "text/html": "<div>\n<style scoped>\n    .dataframe tbody tr th:only-of-type {\n        vertical-align: middle;\n    }\n\n    .dataframe tbody tr th {\n        vertical-align: top;\n    }\n\n    .dataframe thead th {\n        text-align: right;\n    }\n</style>\n<table border=\"1\" class=\"dataframe\">\n  <thead>\n    <tr style=\"text-align: right;\">\n      <th></th>\n      <th>Categoría</th>\n      <th>Likes</th>\n      <th>Dislikes</th>\n      <th>Promedio de ratios</th>\n    </tr>\n  </thead>\n  <tbody>\n    <tr>\n      <th>0</th>\n      <td>Autos &amp; Vehicles</td>\n      <td>6599487.0</td>\n      <td>236289.0</td>\n      <td>91.97</td>\n    </tr>\n    <tr>\n      <th>1</th>\n      <td>Comedy</td>\n      <td>39510290.0</td>\n      <td>1487547.0</td>\n      <td>52.96</td>\n    </tr>\n    <tr>\n      <th>2</th>\n      <td>Education</td>\n      <td>4282179.0</td>\n      <td>274376.0</td>\n      <td>87.28</td>\n    </tr>\n    <tr>\n      <th>3</th>\n      <td>Entertainment</td>\n      <td>142989689.0</td>\n      <td>7078932.0</td>\n      <td>82.90</td>\n    </tr>\n    <tr>\n      <th>4</th>\n      <td>Film &amp; Animation</td>\n      <td>22217540.0</td>\n      <td>1078954.0</td>\n      <td>78.85</td>\n    </tr>\n    <tr>\n      <th>5</th>\n      <td>Gaming</td>\n      <td>18428209.0</td>\n      <td>742747.0</td>\n      <td>87.83</td>\n    </tr>\n    <tr>\n      <th>6</th>\n      <td>Howto &amp; Style</td>\n      <td>10938315.0</td>\n      <td>602036.0</td>\n      <td>61.41</td>\n    </tr>\n    <tr>\n      <th>7</th>\n      <td>Movies</td>\n      <td>63834.0</td>\n      <td>2594.0</td>\n      <td>25.61</td>\n    </tr>\n    <tr>\n      <th>8</th>\n      <td>Music</td>\n      <td>36699912.0</td>\n      <td>1775162.0</td>\n      <td>66.56</td>\n    </tr>\n    <tr>\n      <th>9</th>\n      <td>News &amp; Politics</td>\n      <td>21251344.0</td>\n      <td>1252372.0</td>\n      <td>203.64</td>\n    </tr>\n    <tr>\n      <th>10</th>\n      <td>Nonprofits &amp; Activism</td>\n      <td>1087694.0</td>\n      <td>57982.0</td>\n      <td>54.53</td>\n    </tr>\n    <tr>\n      <th>11</th>\n      <td>People &amp; Blogs</td>\n      <td>43703746.0</td>\n      <td>2284041.0</td>\n      <td>121.59</td>\n    </tr>\n    <tr>\n      <th>12</th>\n      <td>Pets &amp; Animals</td>\n      <td>2140288.0</td>\n      <td>102599.0</td>\n      <td>107.69</td>\n    </tr>\n    <tr>\n      <th>13</th>\n      <td>Science &amp; Technology</td>\n      <td>8181902.0</td>\n      <td>427716.0</td>\n      <td>60.27</td>\n    </tr>\n    <tr>\n      <th>14</th>\n      <td>Shows</td>\n      <td>396922.0</td>\n      <td>93259.0</td>\n      <td>5.61</td>\n    </tr>\n    <tr>\n      <th>15</th>\n      <td>Sports</td>\n      <td>20516857.0</td>\n      <td>1333829.0</td>\n      <td>130.61</td>\n    </tr>\n    <tr>\n      <th>16</th>\n      <td>Travel &amp; Events</td>\n      <td>1087712.0</td>\n      <td>46087.0</td>\n      <td>119.95</td>\n    </tr>\n  </tbody>\n</table>\n</div>"
     },
     "metadata": {},
     "execution_count": 161
    }
   ],
   "source": [
    "aux = df.copy()\n",
    "aux = aux[['snippet.title', 'likes', 'dislikes']]\n",
    "aux = aux.loc[(aux != 0).any(1)]\n",
    "aux['rat'] = aux['likes'] / aux['dislikes']\n",
    "aux['count'] = 1\n",
    "aux = aux.groupby(['snippet.title']).sum().reset_index()\n",
    "aux['ratio avg'] = aux['rat'] / aux['count']\n",
    "aux = aux[['snippet.title', 'likes', 'dislikes', 'ratio avg']]\n",
    "aux['likes'] = aux['likes'].round(0)\n",
    "aux['dislikes'] = aux['dislikes'].round(0)\n",
    "aux = aux.rename(columns={'snippet.title': 'Categoría', 'likes': 'Likes', 'dislikes': 'Dislikes', 'ratio avg': 'Promedio de ratios'})\n",
    "aux = aux.round(2)\n",
    "aux"
   ]
  },
  {
   "cell_type": "code",
   "execution_count": 162,
   "id": "eligible-cooler",
   "metadata": {},
   "outputs": [
    {
     "output_type": "display_data",
     "data": {
      "application/vnd.plotly.v1+json": {
       "config": {
        "plotlyServerURL": "https://plot.ly"
       },
       "data": [
        {
         "mode": "lines",
         "name": "Likes",
         "type": "scatter",
         "x": [
          "Autos & Vehicles",
          "Comedy",
          "Education",
          "Entertainment",
          "Film & Animation",
          "Gaming",
          "Howto & Style",
          "Movies",
          "Music",
          "News & Politics",
          "Nonprofits & Activism",
          "People & Blogs",
          "Pets & Animals",
          "Science & Technology",
          "Shows",
          "Sports",
          "Travel & Events"
         ],
         "xaxis": "x",
         "y": [
          6599487,
          39510290,
          4282179,
          142989689,
          22217540,
          18428209,
          10938315,
          63834,
          36699912,
          21251344,
          1087694,
          43703746,
          2140288,
          8181902,
          396922,
          20516857,
          1087712
         ],
         "yaxis": "y"
        },
        {
         "mode": "lines",
         "name": "Dislikes",
         "type": "scatter",
         "x": [
          "Autos & Vehicles",
          "Comedy",
          "Education",
          "Entertainment",
          "Film & Animation",
          "Gaming",
          "Howto & Style",
          "Movies",
          "Music",
          "News & Politics",
          "Nonprofits & Activism",
          "People & Blogs",
          "Pets & Animals",
          "Science & Technology",
          "Shows",
          "Sports",
          "Travel & Events"
         ],
         "xaxis": "x2",
         "y": [
          236289,
          1487547,
          274376,
          7078932,
          1078954,
          742747,
          602036,
          2594,
          1775162,
          1252372,
          57982,
          2284041,
          102599,
          427716,
          93259,
          1333829,
          46087
         ],
         "yaxis": "y2"
        },
        {
         "mode": "lines",
         "name": "Promedio de ratios",
         "type": "scatter",
         "x": [
          "Autos & Vehicles",
          "Comedy",
          "Education",
          "Entertainment",
          "Film & Animation",
          "Gaming",
          "Howto & Style",
          "Movies",
          "Music",
          "News & Politics",
          "Nonprofits & Activism",
          "People & Blogs",
          "Pets & Animals",
          "Science & Technology",
          "Shows",
          "Sports",
          "Travel & Events"
         ],
         "xaxis": "x3",
         "y": [
          91.97,
          52.96,
          87.28,
          82.9,
          78.85,
          87.83,
          61.41,
          25.61,
          66.56,
          203.64,
          54.53,
          121.59,
          107.69,
          60.27,
          5.61,
          130.61,
          119.95
         ],
         "yaxis": "y3"
        }
       ],
       "layout": {
        "template": {
         "data": {
          "bar": [
           {
            "error_x": {
             "color": "#2a3f5f"
            },
            "error_y": {
             "color": "#2a3f5f"
            },
            "marker": {
             "line": {
              "color": "#E5ECF6",
              "width": 0.5
             },
             "pattern": {
              "fillmode": "overlay",
              "size": 10,
              "solidity": 0.2
             }
            },
            "type": "bar"
           }
          ],
          "barpolar": [
           {
            "marker": {
             "line": {
              "color": "#E5ECF6",
              "width": 0.5
             },
             "pattern": {
              "fillmode": "overlay",
              "size": 10,
              "solidity": 0.2
             }
            },
            "type": "barpolar"
           }
          ],
          "carpet": [
           {
            "aaxis": {
             "endlinecolor": "#2a3f5f",
             "gridcolor": "white",
             "linecolor": "white",
             "minorgridcolor": "white",
             "startlinecolor": "#2a3f5f"
            },
            "baxis": {
             "endlinecolor": "#2a3f5f",
             "gridcolor": "white",
             "linecolor": "white",
             "minorgridcolor": "white",
             "startlinecolor": "#2a3f5f"
            },
            "type": "carpet"
           }
          ],
          "choropleth": [
           {
            "colorbar": {
             "outlinewidth": 0,
             "ticks": ""
            },
            "type": "choropleth"
           }
          ],
          "contour": [
           {
            "colorbar": {
             "outlinewidth": 0,
             "ticks": ""
            },
            "colorscale": [
             [
              0,
              "#0d0887"
             ],
             [
              0.1111111111111111,
              "#46039f"
             ],
             [
              0.2222222222222222,
              "#7201a8"
             ],
             [
              0.3333333333333333,
              "#9c179e"
             ],
             [
              0.4444444444444444,
              "#bd3786"
             ],
             [
              0.5555555555555556,
              "#d8576b"
             ],
             [
              0.6666666666666666,
              "#ed7953"
             ],
             [
              0.7777777777777778,
              "#fb9f3a"
             ],
             [
              0.8888888888888888,
              "#fdca26"
             ],
             [
              1,
              "#f0f921"
             ]
            ],
            "type": "contour"
           }
          ],
          "contourcarpet": [
           {
            "colorbar": {
             "outlinewidth": 0,
             "ticks": ""
            },
            "type": "contourcarpet"
           }
          ],
          "heatmap": [
           {
            "colorbar": {
             "outlinewidth": 0,
             "ticks": ""
            },
            "colorscale": [
             [
              0,
              "#0d0887"
             ],
             [
              0.1111111111111111,
              "#46039f"
             ],
             [
              0.2222222222222222,
              "#7201a8"
             ],
             [
              0.3333333333333333,
              "#9c179e"
             ],
             [
              0.4444444444444444,
              "#bd3786"
             ],
             [
              0.5555555555555556,
              "#d8576b"
             ],
             [
              0.6666666666666666,
              "#ed7953"
             ],
             [
              0.7777777777777778,
              "#fb9f3a"
             ],
             [
              0.8888888888888888,
              "#fdca26"
             ],
             [
              1,
              "#f0f921"
             ]
            ],
            "type": "heatmap"
           }
          ],
          "heatmapgl": [
           {
            "colorbar": {
             "outlinewidth": 0,
             "ticks": ""
            },
            "colorscale": [
             [
              0,
              "#0d0887"
             ],
             [
              0.1111111111111111,
              "#46039f"
             ],
             [
              0.2222222222222222,
              "#7201a8"
             ],
             [
              0.3333333333333333,
              "#9c179e"
             ],
             [
              0.4444444444444444,
              "#bd3786"
             ],
             [
              0.5555555555555556,
              "#d8576b"
             ],
             [
              0.6666666666666666,
              "#ed7953"
             ],
             [
              0.7777777777777778,
              "#fb9f3a"
             ],
             [
              0.8888888888888888,
              "#fdca26"
             ],
             [
              1,
              "#f0f921"
             ]
            ],
            "type": "heatmapgl"
           }
          ],
          "histogram": [
           {
            "marker": {
             "pattern": {
              "fillmode": "overlay",
              "size": 10,
              "solidity": 0.2
             }
            },
            "type": "histogram"
           }
          ],
          "histogram2d": [
           {
            "colorbar": {
             "outlinewidth": 0,
             "ticks": ""
            },
            "colorscale": [
             [
              0,
              "#0d0887"
             ],
             [
              0.1111111111111111,
              "#46039f"
             ],
             [
              0.2222222222222222,
              "#7201a8"
             ],
             [
              0.3333333333333333,
              "#9c179e"
             ],
             [
              0.4444444444444444,
              "#bd3786"
             ],
             [
              0.5555555555555556,
              "#d8576b"
             ],
             [
              0.6666666666666666,
              "#ed7953"
             ],
             [
              0.7777777777777778,
              "#fb9f3a"
             ],
             [
              0.8888888888888888,
              "#fdca26"
             ],
             [
              1,
              "#f0f921"
             ]
            ],
            "type": "histogram2d"
           }
          ],
          "histogram2dcontour": [
           {
            "colorbar": {
             "outlinewidth": 0,
             "ticks": ""
            },
            "colorscale": [
             [
              0,
              "#0d0887"
             ],
             [
              0.1111111111111111,
              "#46039f"
             ],
             [
              0.2222222222222222,
              "#7201a8"
             ],
             [
              0.3333333333333333,
              "#9c179e"
             ],
             [
              0.4444444444444444,
              "#bd3786"
             ],
             [
              0.5555555555555556,
              "#d8576b"
             ],
             [
              0.6666666666666666,
              "#ed7953"
             ],
             [
              0.7777777777777778,
              "#fb9f3a"
             ],
             [
              0.8888888888888888,
              "#fdca26"
             ],
             [
              1,
              "#f0f921"
             ]
            ],
            "type": "histogram2dcontour"
           }
          ],
          "mesh3d": [
           {
            "colorbar": {
             "outlinewidth": 0,
             "ticks": ""
            },
            "type": "mesh3d"
           }
          ],
          "parcoords": [
           {
            "line": {
             "colorbar": {
              "outlinewidth": 0,
              "ticks": ""
             }
            },
            "type": "parcoords"
           }
          ],
          "pie": [
           {
            "automargin": true,
            "type": "pie"
           }
          ],
          "scatter": [
           {
            "marker": {
             "colorbar": {
              "outlinewidth": 0,
              "ticks": ""
             }
            },
            "type": "scatter"
           }
          ],
          "scatter3d": [
           {
            "line": {
             "colorbar": {
              "outlinewidth": 0,
              "ticks": ""
             }
            },
            "marker": {
             "colorbar": {
              "outlinewidth": 0,
              "ticks": ""
             }
            },
            "type": "scatter3d"
           }
          ],
          "scattercarpet": [
           {
            "marker": {
             "colorbar": {
              "outlinewidth": 0,
              "ticks": ""
             }
            },
            "type": "scattercarpet"
           }
          ],
          "scattergeo": [
           {
            "marker": {
             "colorbar": {
              "outlinewidth": 0,
              "ticks": ""
             }
            },
            "type": "scattergeo"
           }
          ],
          "scattergl": [
           {
            "marker": {
             "colorbar": {
              "outlinewidth": 0,
              "ticks": ""
             }
            },
            "type": "scattergl"
           }
          ],
          "scattermapbox": [
           {
            "marker": {
             "colorbar": {
              "outlinewidth": 0,
              "ticks": ""
             }
            },
            "type": "scattermapbox"
           }
          ],
          "scatterpolar": [
           {
            "marker": {
             "colorbar": {
              "outlinewidth": 0,
              "ticks": ""
             }
            },
            "type": "scatterpolar"
           }
          ],
          "scatterpolargl": [
           {
            "marker": {
             "colorbar": {
              "outlinewidth": 0,
              "ticks": ""
             }
            },
            "type": "scatterpolargl"
           }
          ],
          "scatterternary": [
           {
            "marker": {
             "colorbar": {
              "outlinewidth": 0,
              "ticks": ""
             }
            },
            "type": "scatterternary"
           }
          ],
          "surface": [
           {
            "colorbar": {
             "outlinewidth": 0,
             "ticks": ""
            },
            "colorscale": [
             [
              0,
              "#0d0887"
             ],
             [
              0.1111111111111111,
              "#46039f"
             ],
             [
              0.2222222222222222,
              "#7201a8"
             ],
             [
              0.3333333333333333,
              "#9c179e"
             ],
             [
              0.4444444444444444,
              "#bd3786"
             ],
             [
              0.5555555555555556,
              "#d8576b"
             ],
             [
              0.6666666666666666,
              "#ed7953"
             ],
             [
              0.7777777777777778,
              "#fb9f3a"
             ],
             [
              0.8888888888888888,
              "#fdca26"
             ],
             [
              1,
              "#f0f921"
             ]
            ],
            "type": "surface"
           }
          ],
          "table": [
           {
            "cells": {
             "fill": {
              "color": "#EBF0F8"
             },
             "line": {
              "color": "white"
             }
            },
            "header": {
             "fill": {
              "color": "#C8D4E3"
             },
             "line": {
              "color": "white"
             }
            },
            "type": "table"
           }
          ]
         },
         "layout": {
          "annotationdefaults": {
           "arrowcolor": "#2a3f5f",
           "arrowhead": 0,
           "arrowwidth": 1
          },
          "autotypenumbers": "strict",
          "coloraxis": {
           "colorbar": {
            "outlinewidth": 0,
            "ticks": ""
           }
          },
          "colorscale": {
           "diverging": [
            [
             0,
             "#8e0152"
            ],
            [
             0.1,
             "#c51b7d"
            ],
            [
             0.2,
             "#de77ae"
            ],
            [
             0.3,
             "#f1b6da"
            ],
            [
             0.4,
             "#fde0ef"
            ],
            [
             0.5,
             "#f7f7f7"
            ],
            [
             0.6,
             "#e6f5d0"
            ],
            [
             0.7,
             "#b8e186"
            ],
            [
             0.8,
             "#7fbc41"
            ],
            [
             0.9,
             "#4d9221"
            ],
            [
             1,
             "#276419"
            ]
           ],
           "sequential": [
            [
             0,
             "#0d0887"
            ],
            [
             0.1111111111111111,
             "#46039f"
            ],
            [
             0.2222222222222222,
             "#7201a8"
            ],
            [
             0.3333333333333333,
             "#9c179e"
            ],
            [
             0.4444444444444444,
             "#bd3786"
            ],
            [
             0.5555555555555556,
             "#d8576b"
            ],
            [
             0.6666666666666666,
             "#ed7953"
            ],
            [
             0.7777777777777778,
             "#fb9f3a"
            ],
            [
             0.8888888888888888,
             "#fdca26"
            ],
            [
             1,
             "#f0f921"
            ]
           ],
           "sequentialminus": [
            [
             0,
             "#0d0887"
            ],
            [
             0.1111111111111111,
             "#46039f"
            ],
            [
             0.2222222222222222,
             "#7201a8"
            ],
            [
             0.3333333333333333,
             "#9c179e"
            ],
            [
             0.4444444444444444,
             "#bd3786"
            ],
            [
             0.5555555555555556,
             "#d8576b"
            ],
            [
             0.6666666666666666,
             "#ed7953"
            ],
            [
             0.7777777777777778,
             "#fb9f3a"
            ],
            [
             0.8888888888888888,
             "#fdca26"
            ],
            [
             1,
             "#f0f921"
            ]
           ]
          },
          "colorway": [
           "#636efa",
           "#EF553B",
           "#00cc96",
           "#ab63fa",
           "#FFA15A",
           "#19d3f3",
           "#FF6692",
           "#B6E880",
           "#FF97FF",
           "#FECB52"
          ],
          "font": {
           "color": "#2a3f5f"
          },
          "geo": {
           "bgcolor": "white",
           "lakecolor": "white",
           "landcolor": "#E5ECF6",
           "showlakes": true,
           "showland": true,
           "subunitcolor": "white"
          },
          "hoverlabel": {
           "align": "left"
          },
          "hovermode": "closest",
          "mapbox": {
           "style": "light"
          },
          "paper_bgcolor": "white",
          "plot_bgcolor": "#E5ECF6",
          "polar": {
           "angularaxis": {
            "gridcolor": "white",
            "linecolor": "white",
            "ticks": ""
           },
           "bgcolor": "#E5ECF6",
           "radialaxis": {
            "gridcolor": "white",
            "linecolor": "white",
            "ticks": ""
           }
          },
          "scene": {
           "xaxis": {
            "backgroundcolor": "#E5ECF6",
            "gridcolor": "white",
            "gridwidth": 2,
            "linecolor": "white",
            "showbackground": true,
            "ticks": "",
            "zerolinecolor": "white"
           },
           "yaxis": {
            "backgroundcolor": "#E5ECF6",
            "gridcolor": "white",
            "gridwidth": 2,
            "linecolor": "white",
            "showbackground": true,
            "ticks": "",
            "zerolinecolor": "white"
           },
           "zaxis": {
            "backgroundcolor": "#E5ECF6",
            "gridcolor": "white",
            "gridwidth": 2,
            "linecolor": "white",
            "showbackground": true,
            "ticks": "",
            "zerolinecolor": "white"
           }
          },
          "shapedefaults": {
           "line": {
            "color": "#2a3f5f"
           }
          },
          "ternary": {
           "aaxis": {
            "gridcolor": "white",
            "linecolor": "white",
            "ticks": ""
           },
           "baxis": {
            "gridcolor": "white",
            "linecolor": "white",
            "ticks": ""
           },
           "bgcolor": "#E5ECF6",
           "caxis": {
            "gridcolor": "white",
            "linecolor": "white",
            "ticks": ""
           }
          },
          "title": {
           "x": 0.05
          },
          "xaxis": {
           "automargin": true,
           "gridcolor": "white",
           "linecolor": "white",
           "ticks": "",
           "title": {
            "standoff": 15
           },
           "zerolinecolor": "white",
           "zerolinewidth": 2
          },
          "yaxis": {
           "automargin": true,
           "gridcolor": "white",
           "linecolor": "white",
           "ticks": "",
           "title": {
            "standoff": 15
           },
           "zerolinecolor": "white",
           "zerolinewidth": 2
          }
         }
        },
        "title": {
         "text": "Likes, dislikes y promedio del ratio entre likes y dislikes, por categoría"
        },
        "xaxis": {
         "anchor": "y",
         "domain": [
          0,
          1
         ],
         "showticklabels": false,
         "visible": false
        },
        "xaxis2": {
         "anchor": "y2",
         "domain": [
          0,
          1
         ],
         "showticklabels": false,
         "visible": false
        },
        "xaxis3": {
         "anchor": "y3",
         "domain": [
          0,
          1
         ],
         "showticklabels": false,
         "visible": false
        },
        "xaxis4": {
         "anchor": "y4",
         "domain": [
          0,
          1
         ],
         "showticklabels": false,
         "visible": false
        },
        "yaxis": {
         "anchor": "x",
         "domain": [
          0.80625,
          1
         ]
        },
        "yaxis2": {
         "anchor": "x2",
         "domain": [
          0.5375,
          0.73125
         ]
        },
        "yaxis3": {
         "anchor": "x3",
         "domain": [
          0.26875,
          0.4625
         ]
        },
        "yaxis4": {
         "anchor": "x4",
         "domain": [
          0,
          0.19375
         ]
        }
       }
      }
     },
     "metadata": {}
    }
   ],
   "source": [
    "fig = make_subplots(rows=len(aux.columns), cols=1, start_cell=\"top-left\")\n",
    "\n",
    "i=1\n",
    "j=1\n",
    "\n",
    "for col in aux.columns[1:]:\n",
    "    trace = go.Scatter(x=aux['Categoría'], y=aux[col], mode='lines', name=aux.columns[j])\n",
    "    fig.append_trace(trace, i, 1)\n",
    "    i = i + 1\n",
    "    j = j + 1\n",
    "\n",
    "fig.update_xaxes(visible=False, showticklabels=False)\n",
    "fig.update_layout(title=\"Likes, dislikes y promedio del ratio entre likes y dislikes, por categoría\")\n",
    "\n",
    "fig.show()"
   ]
  },
  {
   "cell_type": "code",
   "execution_count": 163,
   "id": "bibliographic-palestinian",
   "metadata": {},
   "outputs": [
    {
     "output_type": "execute_result",
     "data": {
      "text/plain": [
       "                Categoría  Visualizaciones  Cantidad de comentarios  \\\n",
       "0        Autos & Vehicles     2.024836e+08                 745030.0   \n",
       "1                  Comedy     1.187439e+09                4250044.0   \n",
       "2               Education     2.079483e+08                 683710.0   \n",
       "3           Entertainment     4.380592e+09               17557337.0   \n",
       "4        Film & Animation     7.795144e+08                2862347.0   \n",
       "5                  Gaming     4.467563e+08                2239500.0   \n",
       "6           Howto & Style     3.728288e+08                1287456.0   \n",
       "7                  Movies     9.437585e+05                   3249.0   \n",
       "8                   Music     1.012247e+09                4133649.0   \n",
       "9         News & Politics     7.029392e+08                3224589.0   \n",
       "10  Nonprofits & Activism     9.260318e+07                 183403.0   \n",
       "11         People & Blogs     1.646653e+09                5612026.0   \n",
       "12         Pets & Animals     6.325213e+07                 256619.0   \n",
       "13   Science & Technology     2.553025e+08                1113466.0   \n",
       "14                  Shows     5.080437e+07                  67392.0   \n",
       "15                 Sports     1.005031e+09                2762660.0   \n",
       "16        Travel & Events     3.187413e+07                 111395.0   \n",
       "\n",
       "    Promedio de ratios  \n",
       "0              1774.72  \n",
       "1               771.63  \n",
       "2              3435.08  \n",
       "3               911.76  \n",
       "4              1109.14  \n",
       "5              1434.32  \n",
       "6              1481.17  \n",
       "7               394.31  \n",
       "8              1362.27  \n",
       "9              1801.31  \n",
       "10             1967.54  \n",
       "11             1646.88  \n",
       "12             1649.19  \n",
       "13             2185.77  \n",
       "14             1617.43  \n",
       "15             2391.79  \n",
       "16             4036.30  "
      ],
      "text/html": "<div>\n<style scoped>\n    .dataframe tbody tr th:only-of-type {\n        vertical-align: middle;\n    }\n\n    .dataframe tbody tr th {\n        vertical-align: top;\n    }\n\n    .dataframe thead th {\n        text-align: right;\n    }\n</style>\n<table border=\"1\" class=\"dataframe\">\n  <thead>\n    <tr style=\"text-align: right;\">\n      <th></th>\n      <th>Categoría</th>\n      <th>Visualizaciones</th>\n      <th>Cantidad de comentarios</th>\n      <th>Promedio de ratios</th>\n    </tr>\n  </thead>\n  <tbody>\n    <tr>\n      <th>0</th>\n      <td>Autos &amp; Vehicles</td>\n      <td>2.024836e+08</td>\n      <td>745030.0</td>\n      <td>1774.72</td>\n    </tr>\n    <tr>\n      <th>1</th>\n      <td>Comedy</td>\n      <td>1.187439e+09</td>\n      <td>4250044.0</td>\n      <td>771.63</td>\n    </tr>\n    <tr>\n      <th>2</th>\n      <td>Education</td>\n      <td>2.079483e+08</td>\n      <td>683710.0</td>\n      <td>3435.08</td>\n    </tr>\n    <tr>\n      <th>3</th>\n      <td>Entertainment</td>\n      <td>4.380592e+09</td>\n      <td>17557337.0</td>\n      <td>911.76</td>\n    </tr>\n    <tr>\n      <th>4</th>\n      <td>Film &amp; Animation</td>\n      <td>7.795144e+08</td>\n      <td>2862347.0</td>\n      <td>1109.14</td>\n    </tr>\n    <tr>\n      <th>5</th>\n      <td>Gaming</td>\n      <td>4.467563e+08</td>\n      <td>2239500.0</td>\n      <td>1434.32</td>\n    </tr>\n    <tr>\n      <th>6</th>\n      <td>Howto &amp; Style</td>\n      <td>3.728288e+08</td>\n      <td>1287456.0</td>\n      <td>1481.17</td>\n    </tr>\n    <tr>\n      <th>7</th>\n      <td>Movies</td>\n      <td>9.437585e+05</td>\n      <td>3249.0</td>\n      <td>394.31</td>\n    </tr>\n    <tr>\n      <th>8</th>\n      <td>Music</td>\n      <td>1.012247e+09</td>\n      <td>4133649.0</td>\n      <td>1362.27</td>\n    </tr>\n    <tr>\n      <th>9</th>\n      <td>News &amp; Politics</td>\n      <td>7.029392e+08</td>\n      <td>3224589.0</td>\n      <td>1801.31</td>\n    </tr>\n    <tr>\n      <th>10</th>\n      <td>Nonprofits &amp; Activism</td>\n      <td>9.260318e+07</td>\n      <td>183403.0</td>\n      <td>1967.54</td>\n    </tr>\n    <tr>\n      <th>11</th>\n      <td>People &amp; Blogs</td>\n      <td>1.646653e+09</td>\n      <td>5612026.0</td>\n      <td>1646.88</td>\n    </tr>\n    <tr>\n      <th>12</th>\n      <td>Pets &amp; Animals</td>\n      <td>6.325213e+07</td>\n      <td>256619.0</td>\n      <td>1649.19</td>\n    </tr>\n    <tr>\n      <th>13</th>\n      <td>Science &amp; Technology</td>\n      <td>2.553025e+08</td>\n      <td>1113466.0</td>\n      <td>2185.77</td>\n    </tr>\n    <tr>\n      <th>14</th>\n      <td>Shows</td>\n      <td>5.080437e+07</td>\n      <td>67392.0</td>\n      <td>1617.43</td>\n    </tr>\n    <tr>\n      <th>15</th>\n      <td>Sports</td>\n      <td>1.005031e+09</td>\n      <td>2762660.0</td>\n      <td>2391.79</td>\n    </tr>\n    <tr>\n      <th>16</th>\n      <td>Travel &amp; Events</td>\n      <td>3.187413e+07</td>\n      <td>111395.0</td>\n      <td>4036.30</td>\n    </tr>\n  </tbody>\n</table>\n</div>"
     },
     "metadata": {},
     "execution_count": 163
    }
   ],
   "source": [
    "aux = df.copy()\n",
    "aux = aux[['snippet.title', 'views', 'comment_count']]\n",
    "aux['rat'] = aux['views'] / aux['comment_count']\n",
    "aux['count'] = 1\n",
    "aux = aux.groupby(['snippet.title']).sum().reset_index()\n",
    "aux['ratio avg'] = aux['rat'] / aux['count']\n",
    "aux = aux[['snippet.title', 'views', 'comment_count', 'ratio avg']]\n",
    "aux['comment_count'] = aux['comment_count'].round(0)\n",
    "aux = aux.rename(columns={'snippet.title': 'Categoría', 'views': 'Visualizaciones', 'comment_count': 'Cantidad de comentarios', 'ratio avg': 'Promedio de ratios'})\n",
    "aux = aux.round(2)\n",
    "aux"
   ]
  },
  {
   "cell_type": "code",
   "execution_count": 164,
   "id": "charged-concord",
   "metadata": {},
   "outputs": [
    {
     "output_type": "display_data",
     "data": {
      "application/vnd.plotly.v1+json": {
       "config": {
        "plotlyServerURL": "https://plot.ly"
       },
       "data": [
        {
         "mode": "lines",
         "name": "Visualizaciones",
         "type": "scatter",
         "x": [
          "Autos & Vehicles",
          "Comedy",
          "Education",
          "Entertainment",
          "Film & Animation",
          "Gaming",
          "Howto & Style",
          "Movies",
          "Music",
          "News & Politics",
          "Nonprofits & Activism",
          "People & Blogs",
          "Pets & Animals",
          "Science & Technology",
          "Shows",
          "Sports",
          "Travel & Events"
         ],
         "xaxis": "x",
         "y": [
          202483570.49,
          1187438842.67,
          207948259.45,
          4380591949.55,
          779514404.04,
          446756307.28,
          372828757.87,
          943758.5,
          1012247252.33,
          702939229.84,
          92603175.78,
          1646652767.89,
          63252133.94,
          255302549.35,
          50804368.87,
          1005030715.68,
          31874134.18
         ],
         "yaxis": "y"
        },
        {
         "mode": "lines",
         "name": "Cantidad de comentarios",
         "type": "scatter",
         "x": [
          "Autos & Vehicles",
          "Comedy",
          "Education",
          "Entertainment",
          "Film & Animation",
          "Gaming",
          "Howto & Style",
          "Movies",
          "Music",
          "News & Politics",
          "Nonprofits & Activism",
          "People & Blogs",
          "Pets & Animals",
          "Science & Technology",
          "Shows",
          "Sports",
          "Travel & Events"
         ],
         "xaxis": "x2",
         "y": [
          745030,
          4250044,
          683710,
          17557337,
          2862347,
          2239500,
          1287456,
          3249,
          4133649,
          3224589,
          183403,
          5612026,
          256619,
          1113466,
          67392,
          2762660,
          111395
         ],
         "yaxis": "y2"
        },
        {
         "mode": "lines",
         "name": "Promedio de ratios",
         "type": "scatter",
         "x": [
          "Autos & Vehicles",
          "Comedy",
          "Education",
          "Entertainment",
          "Film & Animation",
          "Gaming",
          "Howto & Style",
          "Movies",
          "Music",
          "News & Politics",
          "Nonprofits & Activism",
          "People & Blogs",
          "Pets & Animals",
          "Science & Technology",
          "Shows",
          "Sports",
          "Travel & Events"
         ],
         "xaxis": "x3",
         "y": [
          1774.72,
          771.63,
          3435.08,
          911.76,
          1109.14,
          1434.32,
          1481.17,
          394.31,
          1362.27,
          1801.31,
          1967.54,
          1646.88,
          1649.19,
          2185.77,
          1617.43,
          2391.79,
          4036.3
         ],
         "yaxis": "y3"
        }
       ],
       "layout": {
        "template": {
         "data": {
          "bar": [
           {
            "error_x": {
             "color": "#2a3f5f"
            },
            "error_y": {
             "color": "#2a3f5f"
            },
            "marker": {
             "line": {
              "color": "#E5ECF6",
              "width": 0.5
             },
             "pattern": {
              "fillmode": "overlay",
              "size": 10,
              "solidity": 0.2
             }
            },
            "type": "bar"
           }
          ],
          "barpolar": [
           {
            "marker": {
             "line": {
              "color": "#E5ECF6",
              "width": 0.5
             },
             "pattern": {
              "fillmode": "overlay",
              "size": 10,
              "solidity": 0.2
             }
            },
            "type": "barpolar"
           }
          ],
          "carpet": [
           {
            "aaxis": {
             "endlinecolor": "#2a3f5f",
             "gridcolor": "white",
             "linecolor": "white",
             "minorgridcolor": "white",
             "startlinecolor": "#2a3f5f"
            },
            "baxis": {
             "endlinecolor": "#2a3f5f",
             "gridcolor": "white",
             "linecolor": "white",
             "minorgridcolor": "white",
             "startlinecolor": "#2a3f5f"
            },
            "type": "carpet"
           }
          ],
          "choropleth": [
           {
            "colorbar": {
             "outlinewidth": 0,
             "ticks": ""
            },
            "type": "choropleth"
           }
          ],
          "contour": [
           {
            "colorbar": {
             "outlinewidth": 0,
             "ticks": ""
            },
            "colorscale": [
             [
              0,
              "#0d0887"
             ],
             [
              0.1111111111111111,
              "#46039f"
             ],
             [
              0.2222222222222222,
              "#7201a8"
             ],
             [
              0.3333333333333333,
              "#9c179e"
             ],
             [
              0.4444444444444444,
              "#bd3786"
             ],
             [
              0.5555555555555556,
              "#d8576b"
             ],
             [
              0.6666666666666666,
              "#ed7953"
             ],
             [
              0.7777777777777778,
              "#fb9f3a"
             ],
             [
              0.8888888888888888,
              "#fdca26"
             ],
             [
              1,
              "#f0f921"
             ]
            ],
            "type": "contour"
           }
          ],
          "contourcarpet": [
           {
            "colorbar": {
             "outlinewidth": 0,
             "ticks": ""
            },
            "type": "contourcarpet"
           }
          ],
          "heatmap": [
           {
            "colorbar": {
             "outlinewidth": 0,
             "ticks": ""
            },
            "colorscale": [
             [
              0,
              "#0d0887"
             ],
             [
              0.1111111111111111,
              "#46039f"
             ],
             [
              0.2222222222222222,
              "#7201a8"
             ],
             [
              0.3333333333333333,
              "#9c179e"
             ],
             [
              0.4444444444444444,
              "#bd3786"
             ],
             [
              0.5555555555555556,
              "#d8576b"
             ],
             [
              0.6666666666666666,
              "#ed7953"
             ],
             [
              0.7777777777777778,
              "#fb9f3a"
             ],
             [
              0.8888888888888888,
              "#fdca26"
             ],
             [
              1,
              "#f0f921"
             ]
            ],
            "type": "heatmap"
           }
          ],
          "heatmapgl": [
           {
            "colorbar": {
             "outlinewidth": 0,
             "ticks": ""
            },
            "colorscale": [
             [
              0,
              "#0d0887"
             ],
             [
              0.1111111111111111,
              "#46039f"
             ],
             [
              0.2222222222222222,
              "#7201a8"
             ],
             [
              0.3333333333333333,
              "#9c179e"
             ],
             [
              0.4444444444444444,
              "#bd3786"
             ],
             [
              0.5555555555555556,
              "#d8576b"
             ],
             [
              0.6666666666666666,
              "#ed7953"
             ],
             [
              0.7777777777777778,
              "#fb9f3a"
             ],
             [
              0.8888888888888888,
              "#fdca26"
             ],
             [
              1,
              "#f0f921"
             ]
            ],
            "type": "heatmapgl"
           }
          ],
          "histogram": [
           {
            "marker": {
             "pattern": {
              "fillmode": "overlay",
              "size": 10,
              "solidity": 0.2
             }
            },
            "type": "histogram"
           }
          ],
          "histogram2d": [
           {
            "colorbar": {
             "outlinewidth": 0,
             "ticks": ""
            },
            "colorscale": [
             [
              0,
              "#0d0887"
             ],
             [
              0.1111111111111111,
              "#46039f"
             ],
             [
              0.2222222222222222,
              "#7201a8"
             ],
             [
              0.3333333333333333,
              "#9c179e"
             ],
             [
              0.4444444444444444,
              "#bd3786"
             ],
             [
              0.5555555555555556,
              "#d8576b"
             ],
             [
              0.6666666666666666,
              "#ed7953"
             ],
             [
              0.7777777777777778,
              "#fb9f3a"
             ],
             [
              0.8888888888888888,
              "#fdca26"
             ],
             [
              1,
              "#f0f921"
             ]
            ],
            "type": "histogram2d"
           }
          ],
          "histogram2dcontour": [
           {
            "colorbar": {
             "outlinewidth": 0,
             "ticks": ""
            },
            "colorscale": [
             [
              0,
              "#0d0887"
             ],
             [
              0.1111111111111111,
              "#46039f"
             ],
             [
              0.2222222222222222,
              "#7201a8"
             ],
             [
              0.3333333333333333,
              "#9c179e"
             ],
             [
              0.4444444444444444,
              "#bd3786"
             ],
             [
              0.5555555555555556,
              "#d8576b"
             ],
             [
              0.6666666666666666,
              "#ed7953"
             ],
             [
              0.7777777777777778,
              "#fb9f3a"
             ],
             [
              0.8888888888888888,
              "#fdca26"
             ],
             [
              1,
              "#f0f921"
             ]
            ],
            "type": "histogram2dcontour"
           }
          ],
          "mesh3d": [
           {
            "colorbar": {
             "outlinewidth": 0,
             "ticks": ""
            },
            "type": "mesh3d"
           }
          ],
          "parcoords": [
           {
            "line": {
             "colorbar": {
              "outlinewidth": 0,
              "ticks": ""
             }
            },
            "type": "parcoords"
           }
          ],
          "pie": [
           {
            "automargin": true,
            "type": "pie"
           }
          ],
          "scatter": [
           {
            "marker": {
             "colorbar": {
              "outlinewidth": 0,
              "ticks": ""
             }
            },
            "type": "scatter"
           }
          ],
          "scatter3d": [
           {
            "line": {
             "colorbar": {
              "outlinewidth": 0,
              "ticks": ""
             }
            },
            "marker": {
             "colorbar": {
              "outlinewidth": 0,
              "ticks": ""
             }
            },
            "type": "scatter3d"
           }
          ],
          "scattercarpet": [
           {
            "marker": {
             "colorbar": {
              "outlinewidth": 0,
              "ticks": ""
             }
            },
            "type": "scattercarpet"
           }
          ],
          "scattergeo": [
           {
            "marker": {
             "colorbar": {
              "outlinewidth": 0,
              "ticks": ""
             }
            },
            "type": "scattergeo"
           }
          ],
          "scattergl": [
           {
            "marker": {
             "colorbar": {
              "outlinewidth": 0,
              "ticks": ""
             }
            },
            "type": "scattergl"
           }
          ],
          "scattermapbox": [
           {
            "marker": {
             "colorbar": {
              "outlinewidth": 0,
              "ticks": ""
             }
            },
            "type": "scattermapbox"
           }
          ],
          "scatterpolar": [
           {
            "marker": {
             "colorbar": {
              "outlinewidth": 0,
              "ticks": ""
             }
            },
            "type": "scatterpolar"
           }
          ],
          "scatterpolargl": [
           {
            "marker": {
             "colorbar": {
              "outlinewidth": 0,
              "ticks": ""
             }
            },
            "type": "scatterpolargl"
           }
          ],
          "scatterternary": [
           {
            "marker": {
             "colorbar": {
              "outlinewidth": 0,
              "ticks": ""
             }
            },
            "type": "scatterternary"
           }
          ],
          "surface": [
           {
            "colorbar": {
             "outlinewidth": 0,
             "ticks": ""
            },
            "colorscale": [
             [
              0,
              "#0d0887"
             ],
             [
              0.1111111111111111,
              "#46039f"
             ],
             [
              0.2222222222222222,
              "#7201a8"
             ],
             [
              0.3333333333333333,
              "#9c179e"
             ],
             [
              0.4444444444444444,
              "#bd3786"
             ],
             [
              0.5555555555555556,
              "#d8576b"
             ],
             [
              0.6666666666666666,
              "#ed7953"
             ],
             [
              0.7777777777777778,
              "#fb9f3a"
             ],
             [
              0.8888888888888888,
              "#fdca26"
             ],
             [
              1,
              "#f0f921"
             ]
            ],
            "type": "surface"
           }
          ],
          "table": [
           {
            "cells": {
             "fill": {
              "color": "#EBF0F8"
             },
             "line": {
              "color": "white"
             }
            },
            "header": {
             "fill": {
              "color": "#C8D4E3"
             },
             "line": {
              "color": "white"
             }
            },
            "type": "table"
           }
          ]
         },
         "layout": {
          "annotationdefaults": {
           "arrowcolor": "#2a3f5f",
           "arrowhead": 0,
           "arrowwidth": 1
          },
          "autotypenumbers": "strict",
          "coloraxis": {
           "colorbar": {
            "outlinewidth": 0,
            "ticks": ""
           }
          },
          "colorscale": {
           "diverging": [
            [
             0,
             "#8e0152"
            ],
            [
             0.1,
             "#c51b7d"
            ],
            [
             0.2,
             "#de77ae"
            ],
            [
             0.3,
             "#f1b6da"
            ],
            [
             0.4,
             "#fde0ef"
            ],
            [
             0.5,
             "#f7f7f7"
            ],
            [
             0.6,
             "#e6f5d0"
            ],
            [
             0.7,
             "#b8e186"
            ],
            [
             0.8,
             "#7fbc41"
            ],
            [
             0.9,
             "#4d9221"
            ],
            [
             1,
             "#276419"
            ]
           ],
           "sequential": [
            [
             0,
             "#0d0887"
            ],
            [
             0.1111111111111111,
             "#46039f"
            ],
            [
             0.2222222222222222,
             "#7201a8"
            ],
            [
             0.3333333333333333,
             "#9c179e"
            ],
            [
             0.4444444444444444,
             "#bd3786"
            ],
            [
             0.5555555555555556,
             "#d8576b"
            ],
            [
             0.6666666666666666,
             "#ed7953"
            ],
            [
             0.7777777777777778,
             "#fb9f3a"
            ],
            [
             0.8888888888888888,
             "#fdca26"
            ],
            [
             1,
             "#f0f921"
            ]
           ],
           "sequentialminus": [
            [
             0,
             "#0d0887"
            ],
            [
             0.1111111111111111,
             "#46039f"
            ],
            [
             0.2222222222222222,
             "#7201a8"
            ],
            [
             0.3333333333333333,
             "#9c179e"
            ],
            [
             0.4444444444444444,
             "#bd3786"
            ],
            [
             0.5555555555555556,
             "#d8576b"
            ],
            [
             0.6666666666666666,
             "#ed7953"
            ],
            [
             0.7777777777777778,
             "#fb9f3a"
            ],
            [
             0.8888888888888888,
             "#fdca26"
            ],
            [
             1,
             "#f0f921"
            ]
           ]
          },
          "colorway": [
           "#636efa",
           "#EF553B",
           "#00cc96",
           "#ab63fa",
           "#FFA15A",
           "#19d3f3",
           "#FF6692",
           "#B6E880",
           "#FF97FF",
           "#FECB52"
          ],
          "font": {
           "color": "#2a3f5f"
          },
          "geo": {
           "bgcolor": "white",
           "lakecolor": "white",
           "landcolor": "#E5ECF6",
           "showlakes": true,
           "showland": true,
           "subunitcolor": "white"
          },
          "hoverlabel": {
           "align": "left"
          },
          "hovermode": "closest",
          "mapbox": {
           "style": "light"
          },
          "paper_bgcolor": "white",
          "plot_bgcolor": "#E5ECF6",
          "polar": {
           "angularaxis": {
            "gridcolor": "white",
            "linecolor": "white",
            "ticks": ""
           },
           "bgcolor": "#E5ECF6",
           "radialaxis": {
            "gridcolor": "white",
            "linecolor": "white",
            "ticks": ""
           }
          },
          "scene": {
           "xaxis": {
            "backgroundcolor": "#E5ECF6",
            "gridcolor": "white",
            "gridwidth": 2,
            "linecolor": "white",
            "showbackground": true,
            "ticks": "",
            "zerolinecolor": "white"
           },
           "yaxis": {
            "backgroundcolor": "#E5ECF6",
            "gridcolor": "white",
            "gridwidth": 2,
            "linecolor": "white",
            "showbackground": true,
            "ticks": "",
            "zerolinecolor": "white"
           },
           "zaxis": {
            "backgroundcolor": "#E5ECF6",
            "gridcolor": "white",
            "gridwidth": 2,
            "linecolor": "white",
            "showbackground": true,
            "ticks": "",
            "zerolinecolor": "white"
           }
          },
          "shapedefaults": {
           "line": {
            "color": "#2a3f5f"
           }
          },
          "ternary": {
           "aaxis": {
            "gridcolor": "white",
            "linecolor": "white",
            "ticks": ""
           },
           "baxis": {
            "gridcolor": "white",
            "linecolor": "white",
            "ticks": ""
           },
           "bgcolor": "#E5ECF6",
           "caxis": {
            "gridcolor": "white",
            "linecolor": "white",
            "ticks": ""
           }
          },
          "title": {
           "x": 0.05
          },
          "xaxis": {
           "automargin": true,
           "gridcolor": "white",
           "linecolor": "white",
           "ticks": "",
           "title": {
            "standoff": 15
           },
           "zerolinecolor": "white",
           "zerolinewidth": 2
          },
          "yaxis": {
           "automargin": true,
           "gridcolor": "white",
           "linecolor": "white",
           "ticks": "",
           "title": {
            "standoff": 15
           },
           "zerolinecolor": "white",
           "zerolinewidth": 2
          }
         }
        },
        "title": {
         "text": "Visualizaciones, comentarios y promedio del ratio entre visualizaciones y<br>comentarios, por categoría"
        },
        "xaxis": {
         "anchor": "y",
         "domain": [
          0,
          1
         ],
         "showticklabels": false,
         "visible": false
        },
        "xaxis2": {
         "anchor": "y2",
         "domain": [
          0,
          1
         ],
         "showticklabels": false,
         "visible": false
        },
        "xaxis3": {
         "anchor": "y3",
         "domain": [
          0,
          1
         ],
         "showticklabels": false,
         "visible": false
        },
        "xaxis4": {
         "anchor": "y4",
         "domain": [
          0,
          1
         ],
         "showticklabels": false,
         "visible": false
        },
        "yaxis": {
         "anchor": "x",
         "domain": [
          0.80625,
          1
         ]
        },
        "yaxis2": {
         "anchor": "x2",
         "domain": [
          0.5375,
          0.73125
         ]
        },
        "yaxis3": {
         "anchor": "x3",
         "domain": [
          0.26875,
          0.4625
         ]
        },
        "yaxis4": {
         "anchor": "x4",
         "domain": [
          0,
          0.19375
         ]
        }
       }
      }
     },
     "metadata": {}
    }
   ],
   "source": [
    "fig = make_subplots(rows=len(aux.columns), cols=1, start_cell=\"top-left\")\n",
    "\n",
    "i=1\n",
    "j=1\n",
    "\n",
    "for col in aux.columns[1:]:\n",
    "    trace = go.Scatter(x=aux['Categoría'], y=aux[col], mode='lines', name=aux.columns[j])\n",
    "    fig.append_trace(trace, i, 1)\n",
    "    i = i + 1\n",
    "    j = j + 1\n",
    "\n",
    "fig.update_xaxes(visible=False, showticklabels=False)\n",
    "fig.update_layout(title=\"Visualizaciones, comentarios y promedio del ratio entre visualizaciones y<br>comentarios, por categoría\")\n",
    "\n",
    "fig.show()"
   ]
  },
  {
   "cell_type": "code",
   "execution_count": 165,
   "id": "czech-integer",
   "metadata": {},
   "outputs": [
    {
     "output_type": "execute_result",
     "data": {
      "text/plain": [
       "          Fecha  Cantidad\n",
       "0    2017-11-14       196\n",
       "1    2017-11-15       192\n",
       "2    2017-11-16       192\n",
       "3    2017-11-17       194\n",
       "4    2017-11-18       194\n",
       "..          ...       ...\n",
       "200  2018-06-10       171\n",
       "201  2018-06-11       191\n",
       "202  2018-06-12       197\n",
       "203  2018-06-13       191\n",
       "204  2018-06-14       197\n",
       "\n",
       "[205 rows x 2 columns]"
      ],
      "text/html": "<div>\n<style scoped>\n    .dataframe tbody tr th:only-of-type {\n        vertical-align: middle;\n    }\n\n    .dataframe tbody tr th {\n        vertical-align: top;\n    }\n\n    .dataframe thead th {\n        text-align: right;\n    }\n</style>\n<table border=\"1\" class=\"dataframe\">\n  <thead>\n    <tr style=\"text-align: right;\">\n      <th></th>\n      <th>Fecha</th>\n      <th>Cantidad</th>\n    </tr>\n  </thead>\n  <tbody>\n    <tr>\n      <th>0</th>\n      <td>2017-11-14</td>\n      <td>196</td>\n    </tr>\n    <tr>\n      <th>1</th>\n      <td>2017-11-15</td>\n      <td>192</td>\n    </tr>\n    <tr>\n      <th>2</th>\n      <td>2017-11-16</td>\n      <td>192</td>\n    </tr>\n    <tr>\n      <th>3</th>\n      <td>2017-11-17</td>\n      <td>194</td>\n    </tr>\n    <tr>\n      <th>4</th>\n      <td>2017-11-18</td>\n      <td>194</td>\n    </tr>\n    <tr>\n      <th>...</th>\n      <td>...</td>\n      <td>...</td>\n    </tr>\n    <tr>\n      <th>200</th>\n      <td>2018-06-10</td>\n      <td>171</td>\n    </tr>\n    <tr>\n      <th>201</th>\n      <td>2018-06-11</td>\n      <td>191</td>\n    </tr>\n    <tr>\n      <th>202</th>\n      <td>2018-06-12</td>\n      <td>197</td>\n    </tr>\n    <tr>\n      <th>203</th>\n      <td>2018-06-13</td>\n      <td>191</td>\n    </tr>\n    <tr>\n      <th>204</th>\n      <td>2018-06-14</td>\n      <td>197</td>\n    </tr>\n  </tbody>\n</table>\n<p>205 rows × 2 columns</p>\n</div>"
     },
     "metadata": {},
     "execution_count": 165
    }
   ],
   "source": [
    "aux = df.copy()\n",
    "aux = aux[['trending_date']]\n",
    "aux['count'] = 1\n",
    "aux = aux.groupby('trending_date').count().reset_index()\n",
    "aux = aux.rename(columns={'trending_date': 'Fecha', 'count': 'Cantidad'})\n",
    "aux"
   ]
  },
  {
   "cell_type": "code",
   "execution_count": 166,
   "id": "painful-binary",
   "metadata": {},
   "outputs": [
    {
     "output_type": "display_data",
     "data": {
      "application/vnd.plotly.v1+json": {
       "config": {
        "plotlyServerURL": "https://plot.ly"
       },
       "data": [
        {
         "hovertemplate": "Fecha=%{x}<br>Cantidad=%{y}<extra></extra>",
         "legendgroup": "",
         "line": {
          "color": "#636efa",
          "dash": "solid"
         },
         "mode": "lines",
         "name": "",
         "orientation": "v",
         "showlegend": false,
         "type": "scatter",
         "x": [
          "2017-11-14",
          "2017-11-15",
          "2017-11-16",
          "2017-11-17",
          "2017-11-18",
          "2017-11-19",
          "2017-11-20",
          "2017-11-21",
          "2017-11-22",
          "2017-11-23",
          "2017-11-24",
          "2017-11-25",
          "2017-11-26",
          "2017-11-27",
          "2017-11-28",
          "2017-11-29",
          "2017-11-30",
          "2017-12-01",
          "2017-12-02",
          "2017-12-03",
          "2017-12-04",
          "2017-12-05",
          "2017-12-06",
          "2017-12-07",
          "2017-12-08",
          "2017-12-09",
          "2017-12-10",
          "2017-12-11",
          "2017-12-12",
          "2017-12-13",
          "2017-12-14",
          "2017-12-15",
          "2017-12-16",
          "2017-12-17",
          "2017-12-18",
          "2017-12-19",
          "2017-12-20",
          "2017-12-21",
          "2017-12-22",
          "2017-12-23",
          "2017-12-24",
          "2017-12-25",
          "2017-12-26",
          "2017-12-27",
          "2017-12-28",
          "2017-12-29",
          "2017-12-30",
          "2017-12-31",
          "2018-01-01",
          "2018-01-02",
          "2018-01-03",
          "2018-01-04",
          "2018-01-05",
          "2018-01-06",
          "2018-01-07",
          "2018-01-08",
          "2018-01-09",
          "2018-01-12",
          "2018-01-13",
          "2018-01-14",
          "2018-01-15",
          "2018-01-16",
          "2018-01-17",
          "2018-01-18",
          "2018-01-19",
          "2018-01-20",
          "2018-01-21",
          "2018-01-22",
          "2018-01-23",
          "2018-01-24",
          "2018-01-25",
          "2018-01-26",
          "2018-01-27",
          "2018-01-28",
          "2018-01-29",
          "2018-01-30",
          "2018-01-31",
          "2018-02-01",
          "2018-02-02",
          "2018-02-03",
          "2018-02-04",
          "2018-02-05",
          "2018-02-06",
          "2018-02-07",
          "2018-02-08",
          "2018-02-09",
          "2018-02-10",
          "2018-02-11",
          "2018-02-12",
          "2018-02-13",
          "2018-02-14",
          "2018-02-15",
          "2018-02-16",
          "2018-02-17",
          "2018-02-18",
          "2018-02-19",
          "2018-02-20",
          "2018-02-21",
          "2018-02-22",
          "2018-02-23",
          "2018-02-24",
          "2018-02-25",
          "2018-02-26",
          "2018-02-27",
          "2018-02-28",
          "2018-03-01",
          "2018-03-02",
          "2018-03-03",
          "2018-03-04",
          "2018-03-05",
          "2018-03-06",
          "2018-03-07",
          "2018-03-08",
          "2018-03-09",
          "2018-03-10",
          "2018-03-11",
          "2018-03-12",
          "2018-03-13",
          "2018-03-14",
          "2018-03-15",
          "2018-03-16",
          "2018-03-17",
          "2018-03-18",
          "2018-03-19",
          "2018-03-20",
          "2018-03-21",
          "2018-03-22",
          "2018-03-23",
          "2018-03-24",
          "2018-03-25",
          "2018-03-26",
          "2018-03-27",
          "2018-03-28",
          "2018-03-29",
          "2018-03-30",
          "2018-03-31",
          "2018-04-01",
          "2018-04-02",
          "2018-04-03",
          "2018-04-04",
          "2018-04-05",
          "2018-04-06",
          "2018-04-07",
          "2018-04-14",
          "2018-04-15",
          "2018-04-16",
          "2018-04-17",
          "2018-04-18",
          "2018-04-19",
          "2018-04-20",
          "2018-04-21",
          "2018-04-22",
          "2018-04-23",
          "2018-04-24",
          "2018-04-25",
          "2018-04-26",
          "2018-04-27",
          "2018-04-28",
          "2018-04-29",
          "2018-04-30",
          "2018-05-01",
          "2018-05-02",
          "2018-05-03",
          "2018-05-04",
          "2018-05-05",
          "2018-05-06",
          "2018-05-07",
          "2018-05-08",
          "2018-05-09",
          "2018-05-10",
          "2018-05-11",
          "2018-05-12",
          "2018-05-13",
          "2018-05-14",
          "2018-05-15",
          "2018-05-16",
          "2018-05-17",
          "2018-05-18",
          "2018-05-19",
          "2018-05-20",
          "2018-05-21",
          "2018-05-22",
          "2018-05-23",
          "2018-05-24",
          "2018-05-25",
          "2018-05-26",
          "2018-05-27",
          "2018-05-28",
          "2018-05-29",
          "2018-05-30",
          "2018-05-31",
          "2018-06-01",
          "2018-06-02",
          "2018-06-03",
          "2018-06-04",
          "2018-06-05",
          "2018-06-06",
          "2018-06-07",
          "2018-06-08",
          "2018-06-09",
          "2018-06-10",
          "2018-06-11",
          "2018-06-12",
          "2018-06-13",
          "2018-06-14"
         ],
         "xaxis": "x",
         "y": [
          196,
          192,
          192,
          194,
          194,
          192,
          197,
          198,
          192,
          185,
          190,
          189,
          195,
          194,
          193,
          192,
          186,
          188,
          188,
          191,
          194,
          191,
          188,
          193,
          190,
          192,
          193,
          194,
          194,
          195,
          194,
          189,
          194,
          193,
          190,
          192,
          192,
          193,
          194,
          192,
          189,
          191,
          190,
          193,
          191,
          193,
          192,
          188,
          186,
          188,
          193,
          189,
          194,
          190,
          189,
          195,
          191,
          192,
          195,
          195,
          192,
          192,
          193,
          189,
          189,
          191,
          192,
          190,
          191,
          190,
          191,
          194,
          195,
          195,
          195,
          192,
          189,
          189,
          192,
          192,
          189,
          188,
          190,
          191,
          186,
          188,
          195,
          190,
          193,
          188,
          190,
          192,
          190,
          194,
          195,
          195,
          191,
          193,
          191,
          193,
          193,
          193,
          190,
          189,
          194,
          195,
          192,
          193,
          195,
          196,
          188,
          196,
          191,
          189,
          192,
          194,
          195,
          189,
          189,
          190,
          197,
          194,
          190,
          191,
          191,
          192,
          193,
          195,
          194,
          195,
          193,
          194,
          189,
          189,
          197,
          195,
          192,
          192,
          193,
          193,
          196,
          195,
          192,
          191,
          192,
          190,
          191,
          190,
          192,
          193,
          192,
          196,
          194,
          195,
          190,
          193,
          197,
          191,
          191,
          189,
          195,
          189,
          192,
          192,
          193,
          193,
          191,
          197,
          196,
          194,
          190,
          190,
          189,
          162,
          195,
          196,
          190,
          194,
          193,
          196,
          189,
          191,
          195,
          195,
          197,
          193,
          193,
          181,
          194,
          194,
          194,
          197,
          194,
          191,
          196,
          197,
          190,
          193,
          195,
          195,
          171,
          191,
          197,
          191,
          197
         ],
         "yaxis": "y"
        }
       ],
       "layout": {
        "legend": {
         "tracegroupgap": 0
        },
        "template": {
         "data": {
          "bar": [
           {
            "error_x": {
             "color": "#2a3f5f"
            },
            "error_y": {
             "color": "#2a3f5f"
            },
            "marker": {
             "line": {
              "color": "#E5ECF6",
              "width": 0.5
             },
             "pattern": {
              "fillmode": "overlay",
              "size": 10,
              "solidity": 0.2
             }
            },
            "type": "bar"
           }
          ],
          "barpolar": [
           {
            "marker": {
             "line": {
              "color": "#E5ECF6",
              "width": 0.5
             },
             "pattern": {
              "fillmode": "overlay",
              "size": 10,
              "solidity": 0.2
             }
            },
            "type": "barpolar"
           }
          ],
          "carpet": [
           {
            "aaxis": {
             "endlinecolor": "#2a3f5f",
             "gridcolor": "white",
             "linecolor": "white",
             "minorgridcolor": "white",
             "startlinecolor": "#2a3f5f"
            },
            "baxis": {
             "endlinecolor": "#2a3f5f",
             "gridcolor": "white",
             "linecolor": "white",
             "minorgridcolor": "white",
             "startlinecolor": "#2a3f5f"
            },
            "type": "carpet"
           }
          ],
          "choropleth": [
           {
            "colorbar": {
             "outlinewidth": 0,
             "ticks": ""
            },
            "type": "choropleth"
           }
          ],
          "contour": [
           {
            "colorbar": {
             "outlinewidth": 0,
             "ticks": ""
            },
            "colorscale": [
             [
              0,
              "#0d0887"
             ],
             [
              0.1111111111111111,
              "#46039f"
             ],
             [
              0.2222222222222222,
              "#7201a8"
             ],
             [
              0.3333333333333333,
              "#9c179e"
             ],
             [
              0.4444444444444444,
              "#bd3786"
             ],
             [
              0.5555555555555556,
              "#d8576b"
             ],
             [
              0.6666666666666666,
              "#ed7953"
             ],
             [
              0.7777777777777778,
              "#fb9f3a"
             ],
             [
              0.8888888888888888,
              "#fdca26"
             ],
             [
              1,
              "#f0f921"
             ]
            ],
            "type": "contour"
           }
          ],
          "contourcarpet": [
           {
            "colorbar": {
             "outlinewidth": 0,
             "ticks": ""
            },
            "type": "contourcarpet"
           }
          ],
          "heatmap": [
           {
            "colorbar": {
             "outlinewidth": 0,
             "ticks": ""
            },
            "colorscale": [
             [
              0,
              "#0d0887"
             ],
             [
              0.1111111111111111,
              "#46039f"
             ],
             [
              0.2222222222222222,
              "#7201a8"
             ],
             [
              0.3333333333333333,
              "#9c179e"
             ],
             [
              0.4444444444444444,
              "#bd3786"
             ],
             [
              0.5555555555555556,
              "#d8576b"
             ],
             [
              0.6666666666666666,
              "#ed7953"
             ],
             [
              0.7777777777777778,
              "#fb9f3a"
             ],
             [
              0.8888888888888888,
              "#fdca26"
             ],
             [
              1,
              "#f0f921"
             ]
            ],
            "type": "heatmap"
           }
          ],
          "heatmapgl": [
           {
            "colorbar": {
             "outlinewidth": 0,
             "ticks": ""
            },
            "colorscale": [
             [
              0,
              "#0d0887"
             ],
             [
              0.1111111111111111,
              "#46039f"
             ],
             [
              0.2222222222222222,
              "#7201a8"
             ],
             [
              0.3333333333333333,
              "#9c179e"
             ],
             [
              0.4444444444444444,
              "#bd3786"
             ],
             [
              0.5555555555555556,
              "#d8576b"
             ],
             [
              0.6666666666666666,
              "#ed7953"
             ],
             [
              0.7777777777777778,
              "#fb9f3a"
             ],
             [
              0.8888888888888888,
              "#fdca26"
             ],
             [
              1,
              "#f0f921"
             ]
            ],
            "type": "heatmapgl"
           }
          ],
          "histogram": [
           {
            "marker": {
             "pattern": {
              "fillmode": "overlay",
              "size": 10,
              "solidity": 0.2
             }
            },
            "type": "histogram"
           }
          ],
          "histogram2d": [
           {
            "colorbar": {
             "outlinewidth": 0,
             "ticks": ""
            },
            "colorscale": [
             [
              0,
              "#0d0887"
             ],
             [
              0.1111111111111111,
              "#46039f"
             ],
             [
              0.2222222222222222,
              "#7201a8"
             ],
             [
              0.3333333333333333,
              "#9c179e"
             ],
             [
              0.4444444444444444,
              "#bd3786"
             ],
             [
              0.5555555555555556,
              "#d8576b"
             ],
             [
              0.6666666666666666,
              "#ed7953"
             ],
             [
              0.7777777777777778,
              "#fb9f3a"
             ],
             [
              0.8888888888888888,
              "#fdca26"
             ],
             [
              1,
              "#f0f921"
             ]
            ],
            "type": "histogram2d"
           }
          ],
          "histogram2dcontour": [
           {
            "colorbar": {
             "outlinewidth": 0,
             "ticks": ""
            },
            "colorscale": [
             [
              0,
              "#0d0887"
             ],
             [
              0.1111111111111111,
              "#46039f"
             ],
             [
              0.2222222222222222,
              "#7201a8"
             ],
             [
              0.3333333333333333,
              "#9c179e"
             ],
             [
              0.4444444444444444,
              "#bd3786"
             ],
             [
              0.5555555555555556,
              "#d8576b"
             ],
             [
              0.6666666666666666,
              "#ed7953"
             ],
             [
              0.7777777777777778,
              "#fb9f3a"
             ],
             [
              0.8888888888888888,
              "#fdca26"
             ],
             [
              1,
              "#f0f921"
             ]
            ],
            "type": "histogram2dcontour"
           }
          ],
          "mesh3d": [
           {
            "colorbar": {
             "outlinewidth": 0,
             "ticks": ""
            },
            "type": "mesh3d"
           }
          ],
          "parcoords": [
           {
            "line": {
             "colorbar": {
              "outlinewidth": 0,
              "ticks": ""
             }
            },
            "type": "parcoords"
           }
          ],
          "pie": [
           {
            "automargin": true,
            "type": "pie"
           }
          ],
          "scatter": [
           {
            "marker": {
             "colorbar": {
              "outlinewidth": 0,
              "ticks": ""
             }
            },
            "type": "scatter"
           }
          ],
          "scatter3d": [
           {
            "line": {
             "colorbar": {
              "outlinewidth": 0,
              "ticks": ""
             }
            },
            "marker": {
             "colorbar": {
              "outlinewidth": 0,
              "ticks": ""
             }
            },
            "type": "scatter3d"
           }
          ],
          "scattercarpet": [
           {
            "marker": {
             "colorbar": {
              "outlinewidth": 0,
              "ticks": ""
             }
            },
            "type": "scattercarpet"
           }
          ],
          "scattergeo": [
           {
            "marker": {
             "colorbar": {
              "outlinewidth": 0,
              "ticks": ""
             }
            },
            "type": "scattergeo"
           }
          ],
          "scattergl": [
           {
            "marker": {
             "colorbar": {
              "outlinewidth": 0,
              "ticks": ""
             }
            },
            "type": "scattergl"
           }
          ],
          "scattermapbox": [
           {
            "marker": {
             "colorbar": {
              "outlinewidth": 0,
              "ticks": ""
             }
            },
            "type": "scattermapbox"
           }
          ],
          "scatterpolar": [
           {
            "marker": {
             "colorbar": {
              "outlinewidth": 0,
              "ticks": ""
             }
            },
            "type": "scatterpolar"
           }
          ],
          "scatterpolargl": [
           {
            "marker": {
             "colorbar": {
              "outlinewidth": 0,
              "ticks": ""
             }
            },
            "type": "scatterpolargl"
           }
          ],
          "scatterternary": [
           {
            "marker": {
             "colorbar": {
              "outlinewidth": 0,
              "ticks": ""
             }
            },
            "type": "scatterternary"
           }
          ],
          "surface": [
           {
            "colorbar": {
             "outlinewidth": 0,
             "ticks": ""
            },
            "colorscale": [
             [
              0,
              "#0d0887"
             ],
             [
              0.1111111111111111,
              "#46039f"
             ],
             [
              0.2222222222222222,
              "#7201a8"
             ],
             [
              0.3333333333333333,
              "#9c179e"
             ],
             [
              0.4444444444444444,
              "#bd3786"
             ],
             [
              0.5555555555555556,
              "#d8576b"
             ],
             [
              0.6666666666666666,
              "#ed7953"
             ],
             [
              0.7777777777777778,
              "#fb9f3a"
             ],
             [
              0.8888888888888888,
              "#fdca26"
             ],
             [
              1,
              "#f0f921"
             ]
            ],
            "type": "surface"
           }
          ],
          "table": [
           {
            "cells": {
             "fill": {
              "color": "#EBF0F8"
             },
             "line": {
              "color": "white"
             }
            },
            "header": {
             "fill": {
              "color": "#C8D4E3"
             },
             "line": {
              "color": "white"
             }
            },
            "type": "table"
           }
          ]
         },
         "layout": {
          "annotationdefaults": {
           "arrowcolor": "#2a3f5f",
           "arrowhead": 0,
           "arrowwidth": 1
          },
          "autotypenumbers": "strict",
          "coloraxis": {
           "colorbar": {
            "outlinewidth": 0,
            "ticks": ""
           }
          },
          "colorscale": {
           "diverging": [
            [
             0,
             "#8e0152"
            ],
            [
             0.1,
             "#c51b7d"
            ],
            [
             0.2,
             "#de77ae"
            ],
            [
             0.3,
             "#f1b6da"
            ],
            [
             0.4,
             "#fde0ef"
            ],
            [
             0.5,
             "#f7f7f7"
            ],
            [
             0.6,
             "#e6f5d0"
            ],
            [
             0.7,
             "#b8e186"
            ],
            [
             0.8,
             "#7fbc41"
            ],
            [
             0.9,
             "#4d9221"
            ],
            [
             1,
             "#276419"
            ]
           ],
           "sequential": [
            [
             0,
             "#0d0887"
            ],
            [
             0.1111111111111111,
             "#46039f"
            ],
            [
             0.2222222222222222,
             "#7201a8"
            ],
            [
             0.3333333333333333,
             "#9c179e"
            ],
            [
             0.4444444444444444,
             "#bd3786"
            ],
            [
             0.5555555555555556,
             "#d8576b"
            ],
            [
             0.6666666666666666,
             "#ed7953"
            ],
            [
             0.7777777777777778,
             "#fb9f3a"
            ],
            [
             0.8888888888888888,
             "#fdca26"
            ],
            [
             1,
             "#f0f921"
            ]
           ],
           "sequentialminus": [
            [
             0,
             "#0d0887"
            ],
            [
             0.1111111111111111,
             "#46039f"
            ],
            [
             0.2222222222222222,
             "#7201a8"
            ],
            [
             0.3333333333333333,
             "#9c179e"
            ],
            [
             0.4444444444444444,
             "#bd3786"
            ],
            [
             0.5555555555555556,
             "#d8576b"
            ],
            [
             0.6666666666666666,
             "#ed7953"
            ],
            [
             0.7777777777777778,
             "#fb9f3a"
            ],
            [
             0.8888888888888888,
             "#fdca26"
            ],
            [
             1,
             "#f0f921"
            ]
           ]
          },
          "colorway": [
           "#636efa",
           "#EF553B",
           "#00cc96",
           "#ab63fa",
           "#FFA15A",
           "#19d3f3",
           "#FF6692",
           "#B6E880",
           "#FF97FF",
           "#FECB52"
          ],
          "font": {
           "color": "#2a3f5f"
          },
          "geo": {
           "bgcolor": "white",
           "lakecolor": "white",
           "landcolor": "#E5ECF6",
           "showlakes": true,
           "showland": true,
           "subunitcolor": "white"
          },
          "hoverlabel": {
           "align": "left"
          },
          "hovermode": "closest",
          "mapbox": {
           "style": "light"
          },
          "paper_bgcolor": "white",
          "plot_bgcolor": "#E5ECF6",
          "polar": {
           "angularaxis": {
            "gridcolor": "white",
            "linecolor": "white",
            "ticks": ""
           },
           "bgcolor": "#E5ECF6",
           "radialaxis": {
            "gridcolor": "white",
            "linecolor": "white",
            "ticks": ""
           }
          },
          "scene": {
           "xaxis": {
            "backgroundcolor": "#E5ECF6",
            "gridcolor": "white",
            "gridwidth": 2,
            "linecolor": "white",
            "showbackground": true,
            "ticks": "",
            "zerolinecolor": "white"
           },
           "yaxis": {
            "backgroundcolor": "#E5ECF6",
            "gridcolor": "white",
            "gridwidth": 2,
            "linecolor": "white",
            "showbackground": true,
            "ticks": "",
            "zerolinecolor": "white"
           },
           "zaxis": {
            "backgroundcolor": "#E5ECF6",
            "gridcolor": "white",
            "gridwidth": 2,
            "linecolor": "white",
            "showbackground": true,
            "ticks": "",
            "zerolinecolor": "white"
           }
          },
          "shapedefaults": {
           "line": {
            "color": "#2a3f5f"
           }
          },
          "ternary": {
           "aaxis": {
            "gridcolor": "white",
            "linecolor": "white",
            "ticks": ""
           },
           "baxis": {
            "gridcolor": "white",
            "linecolor": "white",
            "ticks": ""
           },
           "bgcolor": "#E5ECF6",
           "caxis": {
            "gridcolor": "white",
            "linecolor": "white",
            "ticks": ""
           }
          },
          "title": {
           "x": 0.05
          },
          "xaxis": {
           "automargin": true,
           "gridcolor": "white",
           "linecolor": "white",
           "ticks": "",
           "title": {
            "standoff": 15
           },
           "zerolinecolor": "white",
           "zerolinewidth": 2
          },
          "yaxis": {
           "automargin": true,
           "gridcolor": "white",
           "linecolor": "white",
           "ticks": "",
           "title": {
            "standoff": 15
           },
           "zerolinecolor": "white",
           "zerolinewidth": 2
          }
         }
        },
        "title": {
         "text": "Cantidad de videos en tendencia por fecha"
        },
        "xaxis": {
         "anchor": "y",
         "domain": [
          0,
          1
         ],
         "title": {
          "text": "Fecha"
         }
        },
        "yaxis": {
         "anchor": "x",
         "domain": [
          0,
          1
         ],
         "title": {
          "text": "Cantidad"
         }
        }
       }
      }
     },
     "metadata": {}
    }
   ],
   "source": [
    "fig = px.line(aux, x=aux['Fecha'], y=aux['Cantidad'], title=\"Cantidad de videos en tendencia por fecha\")\n",
    "fig.show()"
   ]
  },
  {
   "cell_type": "code",
   "execution_count": 167,
   "id": "neither-uncle",
   "metadata": {},
   "outputs": [
    {
     "output_type": "execute_result",
     "data": {
      "text/plain": [
       "                                Canal  Tendencia\n",
       "2937               Massengeschmack-TV          1\n",
       "3149                      Mr Whaatwaa          1\n",
       "3152                        Mr. Damon          1\n",
       "3153                       Mr. Drohne          1\n",
       "3154                      Mr. Freeman          1\n",
       "3155                         Mr. Moto          1\n",
       "3161                       MrBeanyman          1\n",
       "3169                    MrPyroManager          1\n",
       "3173                      MrWarburger          1\n",
       "3175                        Mrs Flury          1\n",
       "4500  The Daily Show with Trevor Noah        140\n",
       "4325                         Söz Dizi        140\n",
       "2178                   JP Performance        159\n",
       "3631                       Promiflash        172\n",
       "5102                              atv        179\n",
       "5575                            Çukur        180\n",
       "383                       Auf Streife        180\n",
       "5609                   Анатолий Шарий        182\n",
       "3866                    Ruhrpottwache        185\n",
       "1733                          Galileo        200"
      ],
      "text/html": "<div>\n<style scoped>\n    .dataframe tbody tr th:only-of-type {\n        vertical-align: middle;\n    }\n\n    .dataframe tbody tr th {\n        vertical-align: top;\n    }\n\n    .dataframe thead th {\n        text-align: right;\n    }\n</style>\n<table border=\"1\" class=\"dataframe\">\n  <thead>\n    <tr style=\"text-align: right;\">\n      <th></th>\n      <th>Canal</th>\n      <th>Tendencia</th>\n    </tr>\n  </thead>\n  <tbody>\n    <tr>\n      <th>2937</th>\n      <td>Massengeschmack-TV</td>\n      <td>1</td>\n    </tr>\n    <tr>\n      <th>3149</th>\n      <td>Mr Whaatwaa</td>\n      <td>1</td>\n    </tr>\n    <tr>\n      <th>3152</th>\n      <td>Mr. Damon</td>\n      <td>1</td>\n    </tr>\n    <tr>\n      <th>3153</th>\n      <td>Mr. Drohne</td>\n      <td>1</td>\n    </tr>\n    <tr>\n      <th>3154</th>\n      <td>Mr. Freeman</td>\n      <td>1</td>\n    </tr>\n    <tr>\n      <th>3155</th>\n      <td>Mr. Moto</td>\n      <td>1</td>\n    </tr>\n    <tr>\n      <th>3161</th>\n      <td>MrBeanyman</td>\n      <td>1</td>\n    </tr>\n    <tr>\n      <th>3169</th>\n      <td>MrPyroManager</td>\n      <td>1</td>\n    </tr>\n    <tr>\n      <th>3173</th>\n      <td>MrWarburger</td>\n      <td>1</td>\n    </tr>\n    <tr>\n      <th>3175</th>\n      <td>Mrs Flury</td>\n      <td>1</td>\n    </tr>\n    <tr>\n      <th>4500</th>\n      <td>The Daily Show with Trevor Noah</td>\n      <td>140</td>\n    </tr>\n    <tr>\n      <th>4325</th>\n      <td>Söz Dizi</td>\n      <td>140</td>\n    </tr>\n    <tr>\n      <th>2178</th>\n      <td>JP Performance</td>\n      <td>159</td>\n    </tr>\n    <tr>\n      <th>3631</th>\n      <td>Promiflash</td>\n      <td>172</td>\n    </tr>\n    <tr>\n      <th>5102</th>\n      <td>atv</td>\n      <td>179</td>\n    </tr>\n    <tr>\n      <th>5575</th>\n      <td>Çukur</td>\n      <td>180</td>\n    </tr>\n    <tr>\n      <th>383</th>\n      <td>Auf Streife</td>\n      <td>180</td>\n    </tr>\n    <tr>\n      <th>5609</th>\n      <td>Анатолий Шарий</td>\n      <td>182</td>\n    </tr>\n    <tr>\n      <th>3866</th>\n      <td>Ruhrpottwache</td>\n      <td>185</td>\n    </tr>\n    <tr>\n      <th>1733</th>\n      <td>Galileo</td>\n      <td>200</td>\n    </tr>\n  </tbody>\n</table>\n</div>"
     },
     "metadata": {},
     "execution_count": 167
    }
   ],
   "source": [
    "aux = df.copy()\n",
    "aux = aux[['channel_title']]\n",
    "aux['count'] = 1\n",
    "aux = aux.groupby('channel_title').count().reset_index()\n",
    "aux = aux.sort_values('count')\n",
    "aux = aux.rename(columns={'channel_title': 'Canal', 'count': 'Tendencia'})\n",
    "aux = pd.concat([aux.head(10), aux.tail(10)])\n",
    "aux"
   ]
  },
  {
   "cell_type": "code",
   "execution_count": 168,
   "metadata": {},
   "outputs": [
    {
     "output_type": "display_data",
     "data": {
      "application/vnd.plotly.v1+json": {
       "config": {
        "plotlyServerURL": "https://plot.ly"
       },
       "data": [
        {
         "alignmentgroup": "True",
         "hovertemplate": "Canal=%{x}<br>Tendencia=%{y}<extra></extra>",
         "legendgroup": "",
         "marker": {
          "color": "#636efa",
          "pattern": {
           "shape": ""
          }
         },
         "name": "",
         "offsetgroup": "",
         "orientation": "v",
         "showlegend": false,
         "textposition": "auto",
         "type": "bar",
         "x": [
          "Massengeschmack-TV",
          "Mr Whaatwaa",
          "Mr. Damon",
          "Mr. Drohne",
          "Mr. Freeman",
          "Mr. Moto",
          "MrBeanyman",
          "MrPyroManager",
          "MrWarburger",
          "Mrs Flury",
          "The Daily Show with Trevor Noah",
          "Söz Dizi",
          "JP Performance",
          "Promiflash",
          "atv",
          "Çukur",
          "Auf Streife",
          "Анатолий Шарий",
          "Ruhrpottwache",
          "Galileo"
         ],
         "xaxis": "x",
         "y": [
          1,
          1,
          1,
          1,
          1,
          1,
          1,
          1,
          1,
          1,
          140,
          140,
          159,
          172,
          179,
          180,
          180,
          182,
          185,
          200
         ],
         "yaxis": "y"
        }
       ],
       "layout": {
        "barmode": "relative",
        "legend": {
         "tracegroupgap": 0
        },
        "template": {
         "data": {
          "bar": [
           {
            "error_x": {
             "color": "#2a3f5f"
            },
            "error_y": {
             "color": "#2a3f5f"
            },
            "marker": {
             "line": {
              "color": "#E5ECF6",
              "width": 0.5
             },
             "pattern": {
              "fillmode": "overlay",
              "size": 10,
              "solidity": 0.2
             }
            },
            "type": "bar"
           }
          ],
          "barpolar": [
           {
            "marker": {
             "line": {
              "color": "#E5ECF6",
              "width": 0.5
             },
             "pattern": {
              "fillmode": "overlay",
              "size": 10,
              "solidity": 0.2
             }
            },
            "type": "barpolar"
           }
          ],
          "carpet": [
           {
            "aaxis": {
             "endlinecolor": "#2a3f5f",
             "gridcolor": "white",
             "linecolor": "white",
             "minorgridcolor": "white",
             "startlinecolor": "#2a3f5f"
            },
            "baxis": {
             "endlinecolor": "#2a3f5f",
             "gridcolor": "white",
             "linecolor": "white",
             "minorgridcolor": "white",
             "startlinecolor": "#2a3f5f"
            },
            "type": "carpet"
           }
          ],
          "choropleth": [
           {
            "colorbar": {
             "outlinewidth": 0,
             "ticks": ""
            },
            "type": "choropleth"
           }
          ],
          "contour": [
           {
            "colorbar": {
             "outlinewidth": 0,
             "ticks": ""
            },
            "colorscale": [
             [
              0,
              "#0d0887"
             ],
             [
              0.1111111111111111,
              "#46039f"
             ],
             [
              0.2222222222222222,
              "#7201a8"
             ],
             [
              0.3333333333333333,
              "#9c179e"
             ],
             [
              0.4444444444444444,
              "#bd3786"
             ],
             [
              0.5555555555555556,
              "#d8576b"
             ],
             [
              0.6666666666666666,
              "#ed7953"
             ],
             [
              0.7777777777777778,
              "#fb9f3a"
             ],
             [
              0.8888888888888888,
              "#fdca26"
             ],
             [
              1,
              "#f0f921"
             ]
            ],
            "type": "contour"
           }
          ],
          "contourcarpet": [
           {
            "colorbar": {
             "outlinewidth": 0,
             "ticks": ""
            },
            "type": "contourcarpet"
           }
          ],
          "heatmap": [
           {
            "colorbar": {
             "outlinewidth": 0,
             "ticks": ""
            },
            "colorscale": [
             [
              0,
              "#0d0887"
             ],
             [
              0.1111111111111111,
              "#46039f"
             ],
             [
              0.2222222222222222,
              "#7201a8"
             ],
             [
              0.3333333333333333,
              "#9c179e"
             ],
             [
              0.4444444444444444,
              "#bd3786"
             ],
             [
              0.5555555555555556,
              "#d8576b"
             ],
             [
              0.6666666666666666,
              "#ed7953"
             ],
             [
              0.7777777777777778,
              "#fb9f3a"
             ],
             [
              0.8888888888888888,
              "#fdca26"
             ],
             [
              1,
              "#f0f921"
             ]
            ],
            "type": "heatmap"
           }
          ],
          "heatmapgl": [
           {
            "colorbar": {
             "outlinewidth": 0,
             "ticks": ""
            },
            "colorscale": [
             [
              0,
              "#0d0887"
             ],
             [
              0.1111111111111111,
              "#46039f"
             ],
             [
              0.2222222222222222,
              "#7201a8"
             ],
             [
              0.3333333333333333,
              "#9c179e"
             ],
             [
              0.4444444444444444,
              "#bd3786"
             ],
             [
              0.5555555555555556,
              "#d8576b"
             ],
             [
              0.6666666666666666,
              "#ed7953"
             ],
             [
              0.7777777777777778,
              "#fb9f3a"
             ],
             [
              0.8888888888888888,
              "#fdca26"
             ],
             [
              1,
              "#f0f921"
             ]
            ],
            "type": "heatmapgl"
           }
          ],
          "histogram": [
           {
            "marker": {
             "pattern": {
              "fillmode": "overlay",
              "size": 10,
              "solidity": 0.2
             }
            },
            "type": "histogram"
           }
          ],
          "histogram2d": [
           {
            "colorbar": {
             "outlinewidth": 0,
             "ticks": ""
            },
            "colorscale": [
             [
              0,
              "#0d0887"
             ],
             [
              0.1111111111111111,
              "#46039f"
             ],
             [
              0.2222222222222222,
              "#7201a8"
             ],
             [
              0.3333333333333333,
              "#9c179e"
             ],
             [
              0.4444444444444444,
              "#bd3786"
             ],
             [
              0.5555555555555556,
              "#d8576b"
             ],
             [
              0.6666666666666666,
              "#ed7953"
             ],
             [
              0.7777777777777778,
              "#fb9f3a"
             ],
             [
              0.8888888888888888,
              "#fdca26"
             ],
             [
              1,
              "#f0f921"
             ]
            ],
            "type": "histogram2d"
           }
          ],
          "histogram2dcontour": [
           {
            "colorbar": {
             "outlinewidth": 0,
             "ticks": ""
            },
            "colorscale": [
             [
              0,
              "#0d0887"
             ],
             [
              0.1111111111111111,
              "#46039f"
             ],
             [
              0.2222222222222222,
              "#7201a8"
             ],
             [
              0.3333333333333333,
              "#9c179e"
             ],
             [
              0.4444444444444444,
              "#bd3786"
             ],
             [
              0.5555555555555556,
              "#d8576b"
             ],
             [
              0.6666666666666666,
              "#ed7953"
             ],
             [
              0.7777777777777778,
              "#fb9f3a"
             ],
             [
              0.8888888888888888,
              "#fdca26"
             ],
             [
              1,
              "#f0f921"
             ]
            ],
            "type": "histogram2dcontour"
           }
          ],
          "mesh3d": [
           {
            "colorbar": {
             "outlinewidth": 0,
             "ticks": ""
            },
            "type": "mesh3d"
           }
          ],
          "parcoords": [
           {
            "line": {
             "colorbar": {
              "outlinewidth": 0,
              "ticks": ""
             }
            },
            "type": "parcoords"
           }
          ],
          "pie": [
           {
            "automargin": true,
            "type": "pie"
           }
          ],
          "scatter": [
           {
            "marker": {
             "colorbar": {
              "outlinewidth": 0,
              "ticks": ""
             }
            },
            "type": "scatter"
           }
          ],
          "scatter3d": [
           {
            "line": {
             "colorbar": {
              "outlinewidth": 0,
              "ticks": ""
             }
            },
            "marker": {
             "colorbar": {
              "outlinewidth": 0,
              "ticks": ""
             }
            },
            "type": "scatter3d"
           }
          ],
          "scattercarpet": [
           {
            "marker": {
             "colorbar": {
              "outlinewidth": 0,
              "ticks": ""
             }
            },
            "type": "scattercarpet"
           }
          ],
          "scattergeo": [
           {
            "marker": {
             "colorbar": {
              "outlinewidth": 0,
              "ticks": ""
             }
            },
            "type": "scattergeo"
           }
          ],
          "scattergl": [
           {
            "marker": {
             "colorbar": {
              "outlinewidth": 0,
              "ticks": ""
             }
            },
            "type": "scattergl"
           }
          ],
          "scattermapbox": [
           {
            "marker": {
             "colorbar": {
              "outlinewidth": 0,
              "ticks": ""
             }
            },
            "type": "scattermapbox"
           }
          ],
          "scatterpolar": [
           {
            "marker": {
             "colorbar": {
              "outlinewidth": 0,
              "ticks": ""
             }
            },
            "type": "scatterpolar"
           }
          ],
          "scatterpolargl": [
           {
            "marker": {
             "colorbar": {
              "outlinewidth": 0,
              "ticks": ""
             }
            },
            "type": "scatterpolargl"
           }
          ],
          "scatterternary": [
           {
            "marker": {
             "colorbar": {
              "outlinewidth": 0,
              "ticks": ""
             }
            },
            "type": "scatterternary"
           }
          ],
          "surface": [
           {
            "colorbar": {
             "outlinewidth": 0,
             "ticks": ""
            },
            "colorscale": [
             [
              0,
              "#0d0887"
             ],
             [
              0.1111111111111111,
              "#46039f"
             ],
             [
              0.2222222222222222,
              "#7201a8"
             ],
             [
              0.3333333333333333,
              "#9c179e"
             ],
             [
              0.4444444444444444,
              "#bd3786"
             ],
             [
              0.5555555555555556,
              "#d8576b"
             ],
             [
              0.6666666666666666,
              "#ed7953"
             ],
             [
              0.7777777777777778,
              "#fb9f3a"
             ],
             [
              0.8888888888888888,
              "#fdca26"
             ],
             [
              1,
              "#f0f921"
             ]
            ],
            "type": "surface"
           }
          ],
          "table": [
           {
            "cells": {
             "fill": {
              "color": "#EBF0F8"
             },
             "line": {
              "color": "white"
             }
            },
            "header": {
             "fill": {
              "color": "#C8D4E3"
             },
             "line": {
              "color": "white"
             }
            },
            "type": "table"
           }
          ]
         },
         "layout": {
          "annotationdefaults": {
           "arrowcolor": "#2a3f5f",
           "arrowhead": 0,
           "arrowwidth": 1
          },
          "autotypenumbers": "strict",
          "coloraxis": {
           "colorbar": {
            "outlinewidth": 0,
            "ticks": ""
           }
          },
          "colorscale": {
           "diverging": [
            [
             0,
             "#8e0152"
            ],
            [
             0.1,
             "#c51b7d"
            ],
            [
             0.2,
             "#de77ae"
            ],
            [
             0.3,
             "#f1b6da"
            ],
            [
             0.4,
             "#fde0ef"
            ],
            [
             0.5,
             "#f7f7f7"
            ],
            [
             0.6,
             "#e6f5d0"
            ],
            [
             0.7,
             "#b8e186"
            ],
            [
             0.8,
             "#7fbc41"
            ],
            [
             0.9,
             "#4d9221"
            ],
            [
             1,
             "#276419"
            ]
           ],
           "sequential": [
            [
             0,
             "#0d0887"
            ],
            [
             0.1111111111111111,
             "#46039f"
            ],
            [
             0.2222222222222222,
             "#7201a8"
            ],
            [
             0.3333333333333333,
             "#9c179e"
            ],
            [
             0.4444444444444444,
             "#bd3786"
            ],
            [
             0.5555555555555556,
             "#d8576b"
            ],
            [
             0.6666666666666666,
             "#ed7953"
            ],
            [
             0.7777777777777778,
             "#fb9f3a"
            ],
            [
             0.8888888888888888,
             "#fdca26"
            ],
            [
             1,
             "#f0f921"
            ]
           ],
           "sequentialminus": [
            [
             0,
             "#0d0887"
            ],
            [
             0.1111111111111111,
             "#46039f"
            ],
            [
             0.2222222222222222,
             "#7201a8"
            ],
            [
             0.3333333333333333,
             "#9c179e"
            ],
            [
             0.4444444444444444,
             "#bd3786"
            ],
            [
             0.5555555555555556,
             "#d8576b"
            ],
            [
             0.6666666666666666,
             "#ed7953"
            ],
            [
             0.7777777777777778,
             "#fb9f3a"
            ],
            [
             0.8888888888888888,
             "#fdca26"
            ],
            [
             1,
             "#f0f921"
            ]
           ]
          },
          "colorway": [
           "#636efa",
           "#EF553B",
           "#00cc96",
           "#ab63fa",
           "#FFA15A",
           "#19d3f3",
           "#FF6692",
           "#B6E880",
           "#FF97FF",
           "#FECB52"
          ],
          "font": {
           "color": "#2a3f5f"
          },
          "geo": {
           "bgcolor": "white",
           "lakecolor": "white",
           "landcolor": "#E5ECF6",
           "showlakes": true,
           "showland": true,
           "subunitcolor": "white"
          },
          "hoverlabel": {
           "align": "left"
          },
          "hovermode": "closest",
          "mapbox": {
           "style": "light"
          },
          "paper_bgcolor": "white",
          "plot_bgcolor": "#E5ECF6",
          "polar": {
           "angularaxis": {
            "gridcolor": "white",
            "linecolor": "white",
            "ticks": ""
           },
           "bgcolor": "#E5ECF6",
           "radialaxis": {
            "gridcolor": "white",
            "linecolor": "white",
            "ticks": ""
           }
          },
          "scene": {
           "xaxis": {
            "backgroundcolor": "#E5ECF6",
            "gridcolor": "white",
            "gridwidth": 2,
            "linecolor": "white",
            "showbackground": true,
            "ticks": "",
            "zerolinecolor": "white"
           },
           "yaxis": {
            "backgroundcolor": "#E5ECF6",
            "gridcolor": "white",
            "gridwidth": 2,
            "linecolor": "white",
            "showbackground": true,
            "ticks": "",
            "zerolinecolor": "white"
           },
           "zaxis": {
            "backgroundcolor": "#E5ECF6",
            "gridcolor": "white",
            "gridwidth": 2,
            "linecolor": "white",
            "showbackground": true,
            "ticks": "",
            "zerolinecolor": "white"
           }
          },
          "shapedefaults": {
           "line": {
            "color": "#2a3f5f"
           }
          },
          "ternary": {
           "aaxis": {
            "gridcolor": "white",
            "linecolor": "white",
            "ticks": ""
           },
           "baxis": {
            "gridcolor": "white",
            "linecolor": "white",
            "ticks": ""
           },
           "bgcolor": "#E5ECF6",
           "caxis": {
            "gridcolor": "white",
            "linecolor": "white",
            "ticks": ""
           }
          },
          "title": {
           "x": 0.05
          },
          "xaxis": {
           "automargin": true,
           "gridcolor": "white",
           "linecolor": "white",
           "ticks": "",
           "title": {
            "standoff": 15
           },
           "zerolinecolor": "white",
           "zerolinewidth": 2
          },
          "yaxis": {
           "automargin": true,
           "gridcolor": "white",
           "linecolor": "white",
           "ticks": "",
           "title": {
            "standoff": 15
           },
           "zerolinecolor": "white",
           "zerolinewidth": 2
          }
         }
        },
        "title": {
         "text": "Frecuencia en que los canales se encuentran en tendencia"
        },
        "xaxis": {
         "anchor": "y",
         "domain": [
          0,
          1
         ],
         "title": {
          "text": "Canal"
         }
        },
        "yaxis": {
         "anchor": "x",
         "domain": [
          0,
          1
         ],
         "title": {
          "text": "Tendencia"
         }
        }
       }
      }
     },
     "metadata": {}
    }
   ],
   "source": [
    "fig = px.bar(aux, x=aux['Canal'], y=aux['Tendencia'], title=\"Frecuencia en que los canales se encuentran en tendencia\")\n",
    "fig.show()"
   ]
  },
  {
   "cell_type": "code",
   "execution_count": 169,
   "metadata": {},
   "outputs": [
    {
     "output_type": "execute_result",
     "data": {
      "text/plain": [
       "                     state  Visualizaciones         Likes      Dislikes\n",
       "0        Baden Wurttemberg     8.119452e+08  2.493568e+07  1.214649e+06\n",
       "1                   Bayern     7.388311e+08  2.258450e+07  1.133954e+06\n",
       "2                   Berlin     7.824877e+08  2.379965e+07  1.146620e+06\n",
       "3              Brandenburg     7.749253e+08  2.430241e+07  1.153849e+06\n",
       "4                   Bremen     7.935513e+08  2.429791e+07  1.224909e+06\n",
       "5                  Hamburg     8.227177e+08  2.595908e+07  1.256706e+06\n",
       "6                   Hessen     8.026644e+08  2.508046e+07  1.231321e+06\n",
       "7   Mecklenburg Vorpommern     7.471901e+08  2.236547e+07  1.113888e+06\n",
       "8            Niedersachsen     7.356763e+08  2.239861e+07  1.096559e+06\n",
       "9      Nordrhein Westfalen     7.786287e+08  2.386556e+07  1.131895e+06\n",
       "10         Rheinland Pfalz     8.016822e+08  2.314713e+07  1.215445e+06\n",
       "11                Saarland     7.796011e+08  2.228165e+07  1.152553e+06\n",
       "12                 Sachsen     7.278303e+08  2.277413e+07  1.190512e+06\n",
       "13          Sachsen Anhalt     7.832816e+08  2.399868e+07  1.195790e+06\n",
       "14      Schleswig Holstein     7.414565e+08  2.408272e+07  1.189872e+06\n",
       "15               Thuringen     8.167426e+08  2.422229e+07  1.228001e+06"
      ],
      "text/html": "<div>\n<style scoped>\n    .dataframe tbody tr th:only-of-type {\n        vertical-align: middle;\n    }\n\n    .dataframe tbody tr th {\n        vertical-align: top;\n    }\n\n    .dataframe thead th {\n        text-align: right;\n    }\n</style>\n<table border=\"1\" class=\"dataframe\">\n  <thead>\n    <tr style=\"text-align: right;\">\n      <th></th>\n      <th>state</th>\n      <th>Visualizaciones</th>\n      <th>Likes</th>\n      <th>Dislikes</th>\n    </tr>\n  </thead>\n  <tbody>\n    <tr>\n      <th>0</th>\n      <td>Baden Wurttemberg</td>\n      <td>8.119452e+08</td>\n      <td>2.493568e+07</td>\n      <td>1.214649e+06</td>\n    </tr>\n    <tr>\n      <th>1</th>\n      <td>Bayern</td>\n      <td>7.388311e+08</td>\n      <td>2.258450e+07</td>\n      <td>1.133954e+06</td>\n    </tr>\n    <tr>\n      <th>2</th>\n      <td>Berlin</td>\n      <td>7.824877e+08</td>\n      <td>2.379965e+07</td>\n      <td>1.146620e+06</td>\n    </tr>\n    <tr>\n      <th>3</th>\n      <td>Brandenburg</td>\n      <td>7.749253e+08</td>\n      <td>2.430241e+07</td>\n      <td>1.153849e+06</td>\n    </tr>\n    <tr>\n      <th>4</th>\n      <td>Bremen</td>\n      <td>7.935513e+08</td>\n      <td>2.429791e+07</td>\n      <td>1.224909e+06</td>\n    </tr>\n    <tr>\n      <th>5</th>\n      <td>Hamburg</td>\n      <td>8.227177e+08</td>\n      <td>2.595908e+07</td>\n      <td>1.256706e+06</td>\n    </tr>\n    <tr>\n      <th>6</th>\n      <td>Hessen</td>\n      <td>8.026644e+08</td>\n      <td>2.508046e+07</td>\n      <td>1.231321e+06</td>\n    </tr>\n    <tr>\n      <th>7</th>\n      <td>Mecklenburg Vorpommern</td>\n      <td>7.471901e+08</td>\n      <td>2.236547e+07</td>\n      <td>1.113888e+06</td>\n    </tr>\n    <tr>\n      <th>8</th>\n      <td>Niedersachsen</td>\n      <td>7.356763e+08</td>\n      <td>2.239861e+07</td>\n      <td>1.096559e+06</td>\n    </tr>\n    <tr>\n      <th>9</th>\n      <td>Nordrhein Westfalen</td>\n      <td>7.786287e+08</td>\n      <td>2.386556e+07</td>\n      <td>1.131895e+06</td>\n    </tr>\n    <tr>\n      <th>10</th>\n      <td>Rheinland Pfalz</td>\n      <td>8.016822e+08</td>\n      <td>2.314713e+07</td>\n      <td>1.215445e+06</td>\n    </tr>\n    <tr>\n      <th>11</th>\n      <td>Saarland</td>\n      <td>7.796011e+08</td>\n      <td>2.228165e+07</td>\n      <td>1.152553e+06</td>\n    </tr>\n    <tr>\n      <th>12</th>\n      <td>Sachsen</td>\n      <td>7.278303e+08</td>\n      <td>2.277413e+07</td>\n      <td>1.190512e+06</td>\n    </tr>\n    <tr>\n      <th>13</th>\n      <td>Sachsen Anhalt</td>\n      <td>7.832816e+08</td>\n      <td>2.399868e+07</td>\n      <td>1.195790e+06</td>\n    </tr>\n    <tr>\n      <th>14</th>\n      <td>Schleswig Holstein</td>\n      <td>7.414565e+08</td>\n      <td>2.408272e+07</td>\n      <td>1.189872e+06</td>\n    </tr>\n    <tr>\n      <th>15</th>\n      <td>Thuringen</td>\n      <td>8.167426e+08</td>\n      <td>2.422229e+07</td>\n      <td>1.228001e+06</td>\n    </tr>\n  </tbody>\n</table>\n</div>"
     },
     "metadata": {},
     "execution_count": 169
    }
   ],
   "source": [
    "aux = df.copy()\n",
    "aux = aux[['state', 'views', 'likes', 'dislikes']]\n",
    "aux = aux.groupby('state').sum().reset_index()\n",
    "aux = aux.rename(columns={'views': 'Visualizaciones', 'likes': 'Likes', 'dislikes': 'Dislikes'})\n",
    "aux"
   ]
  },
  {
   "cell_type": "code",
   "execution_count": 170,
   "metadata": {},
   "outputs": [
    {
     "output_type": "execute_result",
     "data": {
      "text/plain": [
       "                     state        lat        lon\n",
       "30       Baden Wurttemberg  48.999992   8.399993\n",
       "13                  Bayern  50.266607  10.966607\n",
       "2                   Berlin  52.521819  13.401549\n",
       "8              Brandenburg  51.770418  14.329967\n",
       "31                  Bremen  53.550438   8.579982\n",
       "16                 Hamburg  53.550025   9.999999\n",
       "14                  Hessen  51.300007   9.500030\n",
       "15  Mecklenburg Vorpommern  53.633304  11.416699\n",
       "25           Niedersachsen  53.129999   8.220004\n",
       "6      Nordrhein Westfalen  52.029988   8.530011\n",
       "39         Rheinland Pfalz  49.982472   8.273219\n",
       "1                 Saarland  49.250390   6.970003\n",
       "4                  Sachsen  50.829984  12.919976\n",
       "12          Sachsen Anhalt  52.130421  11.620004\n",
       "0       Schleswig Holstein  54.783748   9.433315\n",
       "3                Thuringen  50.970053  11.029962"
      ],
      "text/html": "<div>\n<style scoped>\n    .dataframe tbody tr th:only-of-type {\n        vertical-align: middle;\n    }\n\n    .dataframe tbody tr th {\n        vertical-align: top;\n    }\n\n    .dataframe thead th {\n        text-align: right;\n    }\n</style>\n<table border=\"1\" class=\"dataframe\">\n  <thead>\n    <tr style=\"text-align: right;\">\n      <th></th>\n      <th>state</th>\n      <th>lat</th>\n      <th>lon</th>\n    </tr>\n  </thead>\n  <tbody>\n    <tr>\n      <th>30</th>\n      <td>Baden Wurttemberg</td>\n      <td>48.999992</td>\n      <td>8.399993</td>\n    </tr>\n    <tr>\n      <th>13</th>\n      <td>Bayern</td>\n      <td>50.266607</td>\n      <td>10.966607</td>\n    </tr>\n    <tr>\n      <th>2</th>\n      <td>Berlin</td>\n      <td>52.521819</td>\n      <td>13.401549</td>\n    </tr>\n    <tr>\n      <th>8</th>\n      <td>Brandenburg</td>\n      <td>51.770418</td>\n      <td>14.329967</td>\n    </tr>\n    <tr>\n      <th>31</th>\n      <td>Bremen</td>\n      <td>53.550438</td>\n      <td>8.579982</td>\n    </tr>\n    <tr>\n      <th>16</th>\n      <td>Hamburg</td>\n      <td>53.550025</td>\n      <td>9.999999</td>\n    </tr>\n    <tr>\n      <th>14</th>\n      <td>Hessen</td>\n      <td>51.300007</td>\n      <td>9.500030</td>\n    </tr>\n    <tr>\n      <th>15</th>\n      <td>Mecklenburg Vorpommern</td>\n      <td>53.633304</td>\n      <td>11.416699</td>\n    </tr>\n    <tr>\n      <th>25</th>\n      <td>Niedersachsen</td>\n      <td>53.129999</td>\n      <td>8.220004</td>\n    </tr>\n    <tr>\n      <th>6</th>\n      <td>Nordrhein Westfalen</td>\n      <td>52.029988</td>\n      <td>8.530011</td>\n    </tr>\n    <tr>\n      <th>39</th>\n      <td>Rheinland Pfalz</td>\n      <td>49.982472</td>\n      <td>8.273219</td>\n    </tr>\n    <tr>\n      <th>1</th>\n      <td>Saarland</td>\n      <td>49.250390</td>\n      <td>6.970003</td>\n    </tr>\n    <tr>\n      <th>4</th>\n      <td>Sachsen</td>\n      <td>50.829984</td>\n      <td>12.919976</td>\n    </tr>\n    <tr>\n      <th>12</th>\n      <td>Sachsen Anhalt</td>\n      <td>52.130421</td>\n      <td>11.620004</td>\n    </tr>\n    <tr>\n      <th>0</th>\n      <td>Schleswig Holstein</td>\n      <td>54.783748</td>\n      <td>9.433315</td>\n    </tr>\n    <tr>\n      <th>3</th>\n      <td>Thuringen</td>\n      <td>50.970053</td>\n      <td>11.029962</td>\n    </tr>\n  </tbody>\n</table>\n</div>"
     },
     "metadata": {},
     "execution_count": 170
    }
   ],
   "source": [
    "aux2 = df.copy()\n",
    "aux2 = aux2[['state', 'lat', 'lon']]\n",
    "aux2 = aux2.drop_duplicates()\n",
    "aux2 = aux2.sort_values('state')\n",
    "aux2"
   ]
  },
  {
   "cell_type": "code",
   "execution_count": 171,
   "metadata": {},
   "outputs": [
    {
     "output_type": "execute_result",
     "data": {
      "text/plain": [
       "                     state  Visualizaciones         Likes      Dislikes  \\\n",
       "0        Baden Wurttemberg     8.119452e+08  2.493568e+07  1.214649e+06   \n",
       "1                   Bayern     7.388311e+08  2.258450e+07  1.133954e+06   \n",
       "2                   Berlin     7.824877e+08  2.379965e+07  1.146620e+06   \n",
       "3              Brandenburg     7.749253e+08  2.430241e+07  1.153849e+06   \n",
       "4                   Bremen     7.935513e+08  2.429791e+07  1.224909e+06   \n",
       "5                  Hamburg     8.227177e+08  2.595908e+07  1.256706e+06   \n",
       "6                   Hessen     8.026644e+08  2.508046e+07  1.231321e+06   \n",
       "7   Mecklenburg Vorpommern     7.471901e+08  2.236547e+07  1.113888e+06   \n",
       "8            Niedersachsen     7.356763e+08  2.239861e+07  1.096559e+06   \n",
       "9      Nordrhein Westfalen     7.786287e+08  2.386556e+07  1.131895e+06   \n",
       "10         Rheinland Pfalz     8.016822e+08  2.314713e+07  1.215445e+06   \n",
       "11                Saarland     7.796011e+08  2.228165e+07  1.152553e+06   \n",
       "12                 Sachsen     7.278303e+08  2.277413e+07  1.190512e+06   \n",
       "13          Sachsen Anhalt     7.832816e+08  2.399868e+07  1.195790e+06   \n",
       "14      Schleswig Holstein     7.414565e+08  2.408272e+07  1.189872e+06   \n",
       "15               Thuringen     8.167426e+08  2.422229e+07  1.228001e+06   \n",
       "\n",
       "          lat        lon  \n",
       "0   48.999992   8.399993  \n",
       "1   50.266607  10.966607  \n",
       "2   52.521819  13.401549  \n",
       "3   51.770418  14.329967  \n",
       "4   53.550438   8.579982  \n",
       "5   53.550025   9.999999  \n",
       "6   51.300007   9.500030  \n",
       "7   53.633304  11.416699  \n",
       "8   53.129999   8.220004  \n",
       "9   52.029988   8.530011  \n",
       "10  49.982472   8.273219  \n",
       "11  49.250390   6.970003  \n",
       "12  50.829984  12.919976  \n",
       "13  52.130421  11.620004  \n",
       "14  54.783748   9.433315  \n",
       "15  50.970053  11.029962  "
      ],
      "text/html": "<div>\n<style scoped>\n    .dataframe tbody tr th:only-of-type {\n        vertical-align: middle;\n    }\n\n    .dataframe tbody tr th {\n        vertical-align: top;\n    }\n\n    .dataframe thead th {\n        text-align: right;\n    }\n</style>\n<table border=\"1\" class=\"dataframe\">\n  <thead>\n    <tr style=\"text-align: right;\">\n      <th></th>\n      <th>state</th>\n      <th>Visualizaciones</th>\n      <th>Likes</th>\n      <th>Dislikes</th>\n      <th>lat</th>\n      <th>lon</th>\n    </tr>\n  </thead>\n  <tbody>\n    <tr>\n      <th>0</th>\n      <td>Baden Wurttemberg</td>\n      <td>8.119452e+08</td>\n      <td>2.493568e+07</td>\n      <td>1.214649e+06</td>\n      <td>48.999992</td>\n      <td>8.399993</td>\n    </tr>\n    <tr>\n      <th>1</th>\n      <td>Bayern</td>\n      <td>7.388311e+08</td>\n      <td>2.258450e+07</td>\n      <td>1.133954e+06</td>\n      <td>50.266607</td>\n      <td>10.966607</td>\n    </tr>\n    <tr>\n      <th>2</th>\n      <td>Berlin</td>\n      <td>7.824877e+08</td>\n      <td>2.379965e+07</td>\n      <td>1.146620e+06</td>\n      <td>52.521819</td>\n      <td>13.401549</td>\n    </tr>\n    <tr>\n      <th>3</th>\n      <td>Brandenburg</td>\n      <td>7.749253e+08</td>\n      <td>2.430241e+07</td>\n      <td>1.153849e+06</td>\n      <td>51.770418</td>\n      <td>14.329967</td>\n    </tr>\n    <tr>\n      <th>4</th>\n      <td>Bremen</td>\n      <td>7.935513e+08</td>\n      <td>2.429791e+07</td>\n      <td>1.224909e+06</td>\n      <td>53.550438</td>\n      <td>8.579982</td>\n    </tr>\n    <tr>\n      <th>5</th>\n      <td>Hamburg</td>\n      <td>8.227177e+08</td>\n      <td>2.595908e+07</td>\n      <td>1.256706e+06</td>\n      <td>53.550025</td>\n      <td>9.999999</td>\n    </tr>\n    <tr>\n      <th>6</th>\n      <td>Hessen</td>\n      <td>8.026644e+08</td>\n      <td>2.508046e+07</td>\n      <td>1.231321e+06</td>\n      <td>51.300007</td>\n      <td>9.500030</td>\n    </tr>\n    <tr>\n      <th>7</th>\n      <td>Mecklenburg Vorpommern</td>\n      <td>7.471901e+08</td>\n      <td>2.236547e+07</td>\n      <td>1.113888e+06</td>\n      <td>53.633304</td>\n      <td>11.416699</td>\n    </tr>\n    <tr>\n      <th>8</th>\n      <td>Niedersachsen</td>\n      <td>7.356763e+08</td>\n      <td>2.239861e+07</td>\n      <td>1.096559e+06</td>\n      <td>53.129999</td>\n      <td>8.220004</td>\n    </tr>\n    <tr>\n      <th>9</th>\n      <td>Nordrhein Westfalen</td>\n      <td>7.786287e+08</td>\n      <td>2.386556e+07</td>\n      <td>1.131895e+06</td>\n      <td>52.029988</td>\n      <td>8.530011</td>\n    </tr>\n    <tr>\n      <th>10</th>\n      <td>Rheinland Pfalz</td>\n      <td>8.016822e+08</td>\n      <td>2.314713e+07</td>\n      <td>1.215445e+06</td>\n      <td>49.982472</td>\n      <td>8.273219</td>\n    </tr>\n    <tr>\n      <th>11</th>\n      <td>Saarland</td>\n      <td>7.796011e+08</td>\n      <td>2.228165e+07</td>\n      <td>1.152553e+06</td>\n      <td>49.250390</td>\n      <td>6.970003</td>\n    </tr>\n    <tr>\n      <th>12</th>\n      <td>Sachsen</td>\n      <td>7.278303e+08</td>\n      <td>2.277413e+07</td>\n      <td>1.190512e+06</td>\n      <td>50.829984</td>\n      <td>12.919976</td>\n    </tr>\n    <tr>\n      <th>13</th>\n      <td>Sachsen Anhalt</td>\n      <td>7.832816e+08</td>\n      <td>2.399868e+07</td>\n      <td>1.195790e+06</td>\n      <td>52.130421</td>\n      <td>11.620004</td>\n    </tr>\n    <tr>\n      <th>14</th>\n      <td>Schleswig Holstein</td>\n      <td>7.414565e+08</td>\n      <td>2.408272e+07</td>\n      <td>1.189872e+06</td>\n      <td>54.783748</td>\n      <td>9.433315</td>\n    </tr>\n    <tr>\n      <th>15</th>\n      <td>Thuringen</td>\n      <td>8.167426e+08</td>\n      <td>2.422229e+07</td>\n      <td>1.228001e+06</td>\n      <td>50.970053</td>\n      <td>11.029962</td>\n    </tr>\n  </tbody>\n</table>\n</div>"
     },
     "metadata": {},
     "execution_count": 171
    }
   ],
   "source": [
    "aux = aux.merge(aux2, on='state')\n",
    "aux"
   ]
  },
  {
   "cell_type": "code",
   "execution_count": 172,
   "metadata": {},
   "outputs": [
    {
     "output_type": "execute_result",
     "data": {
      "text/plain": [
       "                    Estado  Visualizaciones         Likes      Dislikes  \\\n",
       "0        Baden Wurttemberg     8.119452e+08  2.493568e+07  1.214649e+06   \n",
       "1                   Bayern     7.388311e+08  2.258450e+07  1.133954e+06   \n",
       "2                   Berlin     7.824877e+08  2.379965e+07  1.146620e+06   \n",
       "3              Brandenburg     7.749253e+08  2.430241e+07  1.153849e+06   \n",
       "4                   Bremen     7.935513e+08  2.429791e+07  1.224909e+06   \n",
       "5                  Hamburg     8.227177e+08  2.595908e+07  1.256706e+06   \n",
       "6                   Hessen     8.026644e+08  2.508046e+07  1.231321e+06   \n",
       "7   Mecklenburg Vorpommern     7.471901e+08  2.236547e+07  1.113888e+06   \n",
       "8            Niedersachsen     7.356763e+08  2.239861e+07  1.096559e+06   \n",
       "9      Nordrhein Westfalen     7.786287e+08  2.386556e+07  1.131895e+06   \n",
       "10         Rheinland Pfalz     8.016822e+08  2.314713e+07  1.215445e+06   \n",
       "11                Saarland     7.796011e+08  2.228165e+07  1.152553e+06   \n",
       "12                 Sachsen     7.278303e+08  2.277413e+07  1.190512e+06   \n",
       "13          Sachsen Anhalt     7.832816e+08  2.399868e+07  1.195790e+06   \n",
       "14      Schleswig Holstein     7.414565e+08  2.408272e+07  1.189872e+06   \n",
       "15               Thuringen     8.167426e+08  2.422229e+07  1.228001e+06   \n",
       "\n",
       "     Latitude  Longitude  \n",
       "0   48.999992   8.399993  \n",
       "1   50.266607  10.966607  \n",
       "2   52.521819  13.401549  \n",
       "3   51.770418  14.329967  \n",
       "4   53.550438   8.579982  \n",
       "5   53.550025   9.999999  \n",
       "6   51.300007   9.500030  \n",
       "7   53.633304  11.416699  \n",
       "8   53.129999   8.220004  \n",
       "9   52.029988   8.530011  \n",
       "10  49.982472   8.273219  \n",
       "11  49.250390   6.970003  \n",
       "12  50.829984  12.919976  \n",
       "13  52.130421  11.620004  \n",
       "14  54.783748   9.433315  \n",
       "15  50.970053  11.029962  "
      ],
      "text/html": "<div>\n<style scoped>\n    .dataframe tbody tr th:only-of-type {\n        vertical-align: middle;\n    }\n\n    .dataframe tbody tr th {\n        vertical-align: top;\n    }\n\n    .dataframe thead th {\n        text-align: right;\n    }\n</style>\n<table border=\"1\" class=\"dataframe\">\n  <thead>\n    <tr style=\"text-align: right;\">\n      <th></th>\n      <th>Estado</th>\n      <th>Visualizaciones</th>\n      <th>Likes</th>\n      <th>Dislikes</th>\n      <th>Latitude</th>\n      <th>Longitude</th>\n    </tr>\n  </thead>\n  <tbody>\n    <tr>\n      <th>0</th>\n      <td>Baden Wurttemberg</td>\n      <td>8.119452e+08</td>\n      <td>2.493568e+07</td>\n      <td>1.214649e+06</td>\n      <td>48.999992</td>\n      <td>8.399993</td>\n    </tr>\n    <tr>\n      <th>1</th>\n      <td>Bayern</td>\n      <td>7.388311e+08</td>\n      <td>2.258450e+07</td>\n      <td>1.133954e+06</td>\n      <td>50.266607</td>\n      <td>10.966607</td>\n    </tr>\n    <tr>\n      <th>2</th>\n      <td>Berlin</td>\n      <td>7.824877e+08</td>\n      <td>2.379965e+07</td>\n      <td>1.146620e+06</td>\n      <td>52.521819</td>\n      <td>13.401549</td>\n    </tr>\n    <tr>\n      <th>3</th>\n      <td>Brandenburg</td>\n      <td>7.749253e+08</td>\n      <td>2.430241e+07</td>\n      <td>1.153849e+06</td>\n      <td>51.770418</td>\n      <td>14.329967</td>\n    </tr>\n    <tr>\n      <th>4</th>\n      <td>Bremen</td>\n      <td>7.935513e+08</td>\n      <td>2.429791e+07</td>\n      <td>1.224909e+06</td>\n      <td>53.550438</td>\n      <td>8.579982</td>\n    </tr>\n    <tr>\n      <th>5</th>\n      <td>Hamburg</td>\n      <td>8.227177e+08</td>\n      <td>2.595908e+07</td>\n      <td>1.256706e+06</td>\n      <td>53.550025</td>\n      <td>9.999999</td>\n    </tr>\n    <tr>\n      <th>6</th>\n      <td>Hessen</td>\n      <td>8.026644e+08</td>\n      <td>2.508046e+07</td>\n      <td>1.231321e+06</td>\n      <td>51.300007</td>\n      <td>9.500030</td>\n    </tr>\n    <tr>\n      <th>7</th>\n      <td>Mecklenburg Vorpommern</td>\n      <td>7.471901e+08</td>\n      <td>2.236547e+07</td>\n      <td>1.113888e+06</td>\n      <td>53.633304</td>\n      <td>11.416699</td>\n    </tr>\n    <tr>\n      <th>8</th>\n      <td>Niedersachsen</td>\n      <td>7.356763e+08</td>\n      <td>2.239861e+07</td>\n      <td>1.096559e+06</td>\n      <td>53.129999</td>\n      <td>8.220004</td>\n    </tr>\n    <tr>\n      <th>9</th>\n      <td>Nordrhein Westfalen</td>\n      <td>7.786287e+08</td>\n      <td>2.386556e+07</td>\n      <td>1.131895e+06</td>\n      <td>52.029988</td>\n      <td>8.530011</td>\n    </tr>\n    <tr>\n      <th>10</th>\n      <td>Rheinland Pfalz</td>\n      <td>8.016822e+08</td>\n      <td>2.314713e+07</td>\n      <td>1.215445e+06</td>\n      <td>49.982472</td>\n      <td>8.273219</td>\n    </tr>\n    <tr>\n      <th>11</th>\n      <td>Saarland</td>\n      <td>7.796011e+08</td>\n      <td>2.228165e+07</td>\n      <td>1.152553e+06</td>\n      <td>49.250390</td>\n      <td>6.970003</td>\n    </tr>\n    <tr>\n      <th>12</th>\n      <td>Sachsen</td>\n      <td>7.278303e+08</td>\n      <td>2.277413e+07</td>\n      <td>1.190512e+06</td>\n      <td>50.829984</td>\n      <td>12.919976</td>\n    </tr>\n    <tr>\n      <th>13</th>\n      <td>Sachsen Anhalt</td>\n      <td>7.832816e+08</td>\n      <td>2.399868e+07</td>\n      <td>1.195790e+06</td>\n      <td>52.130421</td>\n      <td>11.620004</td>\n    </tr>\n    <tr>\n      <th>14</th>\n      <td>Schleswig Holstein</td>\n      <td>7.414565e+08</td>\n      <td>2.408272e+07</td>\n      <td>1.189872e+06</td>\n      <td>54.783748</td>\n      <td>9.433315</td>\n    </tr>\n    <tr>\n      <th>15</th>\n      <td>Thuringen</td>\n      <td>8.167426e+08</td>\n      <td>2.422229e+07</td>\n      <td>1.228001e+06</td>\n      <td>50.970053</td>\n      <td>11.029962</td>\n    </tr>\n  </tbody>\n</table>\n</div>"
     },
     "metadata": {},
     "execution_count": 172
    }
   ],
   "source": [
    "aux = aux.rename(columns={'state': 'Estado', 'lat': 'Latitude', 'lon': 'Longitude'})\n",
    "aux"
   ]
  },
  {
   "cell_type": "code",
   "execution_count": 176,
   "metadata": {},
   "outputs": [
    {
     "output_type": "display_data",
     "data": {
      "application/vnd.plotly.v1+json": {
       "config": {
        "plotlyServerURL": "https://plot.ly"
       },
       "data": [
        {
         "coloraxis": "coloraxis",
         "hovertemplate": "Visualizaciones=%{z}<br>Latitude=%{lat}<br>Longitude=%{lon}<extra></extra>",
         "lat": [
          48.99999229,
          50.26660748,
          52.52181866,
          51.7704175,
          53.55043805,
          53.55002464,
          51.30000694,
          53.63330408,
          53.1299986,
          52.02998822,
          49.98247246,
          49.25039044,
          50.82998395,
          52.13042137,
          54.78374778,
          50.97005292
         ],
         "lon": [
          8.399993448,
          10.96660681,
          13.40154862,
          14.32996741,
          8.579982461,
          9.999999144,
          9.500029662,
          11.41669861,
          8.220004434,
          8.530011351,
          8.273219156,
          6.970003213,
          12.91997595,
          11.62000362,
          9.433315388,
          11.02996212
         ],
         "name": "",
         "radius": 10,
         "subplot": "mapbox",
         "type": "densitymapbox",
         "z": [
          811945225.7319688,
          738831140.642119,
          782487656.7575318,
          774925324.9883604,
          793551321.6293371,
          822717726.2447505,
          802664422.0526476,
          747190089.3218205,
          735676313.1165556,
          778628683.231969,
          801682238.2834758,
          779601091.1037741,
          727830263.98836,
          783281601.347383,
          741456464.0394863,
          816742615.2319686
         ]
        }
       ],
       "layout": {
        "coloraxis": {
         "colorbar": {
          "title": {
           "text": "Visualizaciones"
          }
         },
         "colorscale": [
          [
           0,
           "#0d0887"
          ],
          [
           0.1111111111111111,
           "#46039f"
          ],
          [
           0.2222222222222222,
           "#7201a8"
          ],
          [
           0.3333333333333333,
           "#9c179e"
          ],
          [
           0.4444444444444444,
           "#bd3786"
          ],
          [
           0.5555555555555556,
           "#d8576b"
          ],
          [
           0.6666666666666666,
           "#ed7953"
          ],
          [
           0.7777777777777778,
           "#fb9f3a"
          ],
          [
           0.8888888888888888,
           "#fdca26"
          ],
          [
           1,
           "#f0f921"
          ]
         ]
        },
        "legend": {
         "tracegroupgap": 0
        },
        "mapbox": {
         "center": {
          "lat": 51,
          "lon": 10
         },
         "domain": {
          "x": [
           0,
           1
          ],
          "y": [
           0,
           1
          ]
         },
         "style": "stamen-terrain",
         "zoom": 3.9
        },
        "margin": {
         "t": 60
        },
        "template": {
         "data": {
          "bar": [
           {
            "error_x": {
             "color": "#2a3f5f"
            },
            "error_y": {
             "color": "#2a3f5f"
            },
            "marker": {
             "line": {
              "color": "#E5ECF6",
              "width": 0.5
             },
             "pattern": {
              "fillmode": "overlay",
              "size": 10,
              "solidity": 0.2
             }
            },
            "type": "bar"
           }
          ],
          "barpolar": [
           {
            "marker": {
             "line": {
              "color": "#E5ECF6",
              "width": 0.5
             },
             "pattern": {
              "fillmode": "overlay",
              "size": 10,
              "solidity": 0.2
             }
            },
            "type": "barpolar"
           }
          ],
          "carpet": [
           {
            "aaxis": {
             "endlinecolor": "#2a3f5f",
             "gridcolor": "white",
             "linecolor": "white",
             "minorgridcolor": "white",
             "startlinecolor": "#2a3f5f"
            },
            "baxis": {
             "endlinecolor": "#2a3f5f",
             "gridcolor": "white",
             "linecolor": "white",
             "minorgridcolor": "white",
             "startlinecolor": "#2a3f5f"
            },
            "type": "carpet"
           }
          ],
          "choropleth": [
           {
            "colorbar": {
             "outlinewidth": 0,
             "ticks": ""
            },
            "type": "choropleth"
           }
          ],
          "contour": [
           {
            "colorbar": {
             "outlinewidth": 0,
             "ticks": ""
            },
            "colorscale": [
             [
              0,
              "#0d0887"
             ],
             [
              0.1111111111111111,
              "#46039f"
             ],
             [
              0.2222222222222222,
              "#7201a8"
             ],
             [
              0.3333333333333333,
              "#9c179e"
             ],
             [
              0.4444444444444444,
              "#bd3786"
             ],
             [
              0.5555555555555556,
              "#d8576b"
             ],
             [
              0.6666666666666666,
              "#ed7953"
             ],
             [
              0.7777777777777778,
              "#fb9f3a"
             ],
             [
              0.8888888888888888,
              "#fdca26"
             ],
             [
              1,
              "#f0f921"
             ]
            ],
            "type": "contour"
           }
          ],
          "contourcarpet": [
           {
            "colorbar": {
             "outlinewidth": 0,
             "ticks": ""
            },
            "type": "contourcarpet"
           }
          ],
          "heatmap": [
           {
            "colorbar": {
             "outlinewidth": 0,
             "ticks": ""
            },
            "colorscale": [
             [
              0,
              "#0d0887"
             ],
             [
              0.1111111111111111,
              "#46039f"
             ],
             [
              0.2222222222222222,
              "#7201a8"
             ],
             [
              0.3333333333333333,
              "#9c179e"
             ],
             [
              0.4444444444444444,
              "#bd3786"
             ],
             [
              0.5555555555555556,
              "#d8576b"
             ],
             [
              0.6666666666666666,
              "#ed7953"
             ],
             [
              0.7777777777777778,
              "#fb9f3a"
             ],
             [
              0.8888888888888888,
              "#fdca26"
             ],
             [
              1,
              "#f0f921"
             ]
            ],
            "type": "heatmap"
           }
          ],
          "heatmapgl": [
           {
            "colorbar": {
             "outlinewidth": 0,
             "ticks": ""
            },
            "colorscale": [
             [
              0,
              "#0d0887"
             ],
             [
              0.1111111111111111,
              "#46039f"
             ],
             [
              0.2222222222222222,
              "#7201a8"
             ],
             [
              0.3333333333333333,
              "#9c179e"
             ],
             [
              0.4444444444444444,
              "#bd3786"
             ],
             [
              0.5555555555555556,
              "#d8576b"
             ],
             [
              0.6666666666666666,
              "#ed7953"
             ],
             [
              0.7777777777777778,
              "#fb9f3a"
             ],
             [
              0.8888888888888888,
              "#fdca26"
             ],
             [
              1,
              "#f0f921"
             ]
            ],
            "type": "heatmapgl"
           }
          ],
          "histogram": [
           {
            "marker": {
             "pattern": {
              "fillmode": "overlay",
              "size": 10,
              "solidity": 0.2
             }
            },
            "type": "histogram"
           }
          ],
          "histogram2d": [
           {
            "colorbar": {
             "outlinewidth": 0,
             "ticks": ""
            },
            "colorscale": [
             [
              0,
              "#0d0887"
             ],
             [
              0.1111111111111111,
              "#46039f"
             ],
             [
              0.2222222222222222,
              "#7201a8"
             ],
             [
              0.3333333333333333,
              "#9c179e"
             ],
             [
              0.4444444444444444,
              "#bd3786"
             ],
             [
              0.5555555555555556,
              "#d8576b"
             ],
             [
              0.6666666666666666,
              "#ed7953"
             ],
             [
              0.7777777777777778,
              "#fb9f3a"
             ],
             [
              0.8888888888888888,
              "#fdca26"
             ],
             [
              1,
              "#f0f921"
             ]
            ],
            "type": "histogram2d"
           }
          ],
          "histogram2dcontour": [
           {
            "colorbar": {
             "outlinewidth": 0,
             "ticks": ""
            },
            "colorscale": [
             [
              0,
              "#0d0887"
             ],
             [
              0.1111111111111111,
              "#46039f"
             ],
             [
              0.2222222222222222,
              "#7201a8"
             ],
             [
              0.3333333333333333,
              "#9c179e"
             ],
             [
              0.4444444444444444,
              "#bd3786"
             ],
             [
              0.5555555555555556,
              "#d8576b"
             ],
             [
              0.6666666666666666,
              "#ed7953"
             ],
             [
              0.7777777777777778,
              "#fb9f3a"
             ],
             [
              0.8888888888888888,
              "#fdca26"
             ],
             [
              1,
              "#f0f921"
             ]
            ],
            "type": "histogram2dcontour"
           }
          ],
          "mesh3d": [
           {
            "colorbar": {
             "outlinewidth": 0,
             "ticks": ""
            },
            "type": "mesh3d"
           }
          ],
          "parcoords": [
           {
            "line": {
             "colorbar": {
              "outlinewidth": 0,
              "ticks": ""
             }
            },
            "type": "parcoords"
           }
          ],
          "pie": [
           {
            "automargin": true,
            "type": "pie"
           }
          ],
          "scatter": [
           {
            "marker": {
             "colorbar": {
              "outlinewidth": 0,
              "ticks": ""
             }
            },
            "type": "scatter"
           }
          ],
          "scatter3d": [
           {
            "line": {
             "colorbar": {
              "outlinewidth": 0,
              "ticks": ""
             }
            },
            "marker": {
             "colorbar": {
              "outlinewidth": 0,
              "ticks": ""
             }
            },
            "type": "scatter3d"
           }
          ],
          "scattercarpet": [
           {
            "marker": {
             "colorbar": {
              "outlinewidth": 0,
              "ticks": ""
             }
            },
            "type": "scattercarpet"
           }
          ],
          "scattergeo": [
           {
            "marker": {
             "colorbar": {
              "outlinewidth": 0,
              "ticks": ""
             }
            },
            "type": "scattergeo"
           }
          ],
          "scattergl": [
           {
            "marker": {
             "colorbar": {
              "outlinewidth": 0,
              "ticks": ""
             }
            },
            "type": "scattergl"
           }
          ],
          "scattermapbox": [
           {
            "marker": {
             "colorbar": {
              "outlinewidth": 0,
              "ticks": ""
             }
            },
            "type": "scattermapbox"
           }
          ],
          "scatterpolar": [
           {
            "marker": {
             "colorbar": {
              "outlinewidth": 0,
              "ticks": ""
             }
            },
            "type": "scatterpolar"
           }
          ],
          "scatterpolargl": [
           {
            "marker": {
             "colorbar": {
              "outlinewidth": 0,
              "ticks": ""
             }
            },
            "type": "scatterpolargl"
           }
          ],
          "scatterternary": [
           {
            "marker": {
             "colorbar": {
              "outlinewidth": 0,
              "ticks": ""
             }
            },
            "type": "scatterternary"
           }
          ],
          "surface": [
           {
            "colorbar": {
             "outlinewidth": 0,
             "ticks": ""
            },
            "colorscale": [
             [
              0,
              "#0d0887"
             ],
             [
              0.1111111111111111,
              "#46039f"
             ],
             [
              0.2222222222222222,
              "#7201a8"
             ],
             [
              0.3333333333333333,
              "#9c179e"
             ],
             [
              0.4444444444444444,
              "#bd3786"
             ],
             [
              0.5555555555555556,
              "#d8576b"
             ],
             [
              0.6666666666666666,
              "#ed7953"
             ],
             [
              0.7777777777777778,
              "#fb9f3a"
             ],
             [
              0.8888888888888888,
              "#fdca26"
             ],
             [
              1,
              "#f0f921"
             ]
            ],
            "type": "surface"
           }
          ],
          "table": [
           {
            "cells": {
             "fill": {
              "color": "#EBF0F8"
             },
             "line": {
              "color": "white"
             }
            },
            "header": {
             "fill": {
              "color": "#C8D4E3"
             },
             "line": {
              "color": "white"
             }
            },
            "type": "table"
           }
          ]
         },
         "layout": {
          "annotationdefaults": {
           "arrowcolor": "#2a3f5f",
           "arrowhead": 0,
           "arrowwidth": 1
          },
          "autotypenumbers": "strict",
          "coloraxis": {
           "colorbar": {
            "outlinewidth": 0,
            "ticks": ""
           }
          },
          "colorscale": {
           "diverging": [
            [
             0,
             "#8e0152"
            ],
            [
             0.1,
             "#c51b7d"
            ],
            [
             0.2,
             "#de77ae"
            ],
            [
             0.3,
             "#f1b6da"
            ],
            [
             0.4,
             "#fde0ef"
            ],
            [
             0.5,
             "#f7f7f7"
            ],
            [
             0.6,
             "#e6f5d0"
            ],
            [
             0.7,
             "#b8e186"
            ],
            [
             0.8,
             "#7fbc41"
            ],
            [
             0.9,
             "#4d9221"
            ],
            [
             1,
             "#276419"
            ]
           ],
           "sequential": [
            [
             0,
             "#0d0887"
            ],
            [
             0.1111111111111111,
             "#46039f"
            ],
            [
             0.2222222222222222,
             "#7201a8"
            ],
            [
             0.3333333333333333,
             "#9c179e"
            ],
            [
             0.4444444444444444,
             "#bd3786"
            ],
            [
             0.5555555555555556,
             "#d8576b"
            ],
            [
             0.6666666666666666,
             "#ed7953"
            ],
            [
             0.7777777777777778,
             "#fb9f3a"
            ],
            [
             0.8888888888888888,
             "#fdca26"
            ],
            [
             1,
             "#f0f921"
            ]
           ],
           "sequentialminus": [
            [
             0,
             "#0d0887"
            ],
            [
             0.1111111111111111,
             "#46039f"
            ],
            [
             0.2222222222222222,
             "#7201a8"
            ],
            [
             0.3333333333333333,
             "#9c179e"
            ],
            [
             0.4444444444444444,
             "#bd3786"
            ],
            [
             0.5555555555555556,
             "#d8576b"
            ],
            [
             0.6666666666666666,
             "#ed7953"
            ],
            [
             0.7777777777777778,
             "#fb9f3a"
            ],
            [
             0.8888888888888888,
             "#fdca26"
            ],
            [
             1,
             "#f0f921"
            ]
           ]
          },
          "colorway": [
           "#636efa",
           "#EF553B",
           "#00cc96",
           "#ab63fa",
           "#FFA15A",
           "#19d3f3",
           "#FF6692",
           "#B6E880",
           "#FF97FF",
           "#FECB52"
          ],
          "font": {
           "color": "#2a3f5f"
          },
          "geo": {
           "bgcolor": "white",
           "lakecolor": "white",
           "landcolor": "#E5ECF6",
           "showlakes": true,
           "showland": true,
           "subunitcolor": "white"
          },
          "hoverlabel": {
           "align": "left"
          },
          "hovermode": "closest",
          "mapbox": {
           "style": "light"
          },
          "paper_bgcolor": "white",
          "plot_bgcolor": "#E5ECF6",
          "polar": {
           "angularaxis": {
            "gridcolor": "white",
            "linecolor": "white",
            "ticks": ""
           },
           "bgcolor": "#E5ECF6",
           "radialaxis": {
            "gridcolor": "white",
            "linecolor": "white",
            "ticks": ""
           }
          },
          "scene": {
           "xaxis": {
            "backgroundcolor": "#E5ECF6",
            "gridcolor": "white",
            "gridwidth": 2,
            "linecolor": "white",
            "showbackground": true,
            "ticks": "",
            "zerolinecolor": "white"
           },
           "yaxis": {
            "backgroundcolor": "#E5ECF6",
            "gridcolor": "white",
            "gridwidth": 2,
            "linecolor": "white",
            "showbackground": true,
            "ticks": "",
            "zerolinecolor": "white"
           },
           "zaxis": {
            "backgroundcolor": "#E5ECF6",
            "gridcolor": "white",
            "gridwidth": 2,
            "linecolor": "white",
            "showbackground": true,
            "ticks": "",
            "zerolinecolor": "white"
           }
          },
          "shapedefaults": {
           "line": {
            "color": "#2a3f5f"
           }
          },
          "ternary": {
           "aaxis": {
            "gridcolor": "white",
            "linecolor": "white",
            "ticks": ""
           },
           "baxis": {
            "gridcolor": "white",
            "linecolor": "white",
            "ticks": ""
           },
           "bgcolor": "#E5ECF6",
           "caxis": {
            "gridcolor": "white",
            "linecolor": "white",
            "ticks": ""
           }
          },
          "title": {
           "x": 0.05
          },
          "xaxis": {
           "automargin": true,
           "gridcolor": "white",
           "linecolor": "white",
           "ticks": "",
           "title": {
            "standoff": 15
           },
           "zerolinecolor": "white",
           "zerolinewidth": 2
          },
          "yaxis": {
           "automargin": true,
           "gridcolor": "white",
           "linecolor": "white",
           "ticks": "",
           "title": {
            "standoff": 15
           },
           "zerolinecolor": "white",
           "zerolinewidth": 2
          }
         }
        },
        "title": {
         "text": "Cantidad de visualizaciones por Estado"
        }
       }
      }
     },
     "metadata": {}
    }
   ],
   "source": [
    "fig = px.density_mapbox(aux, lat='Latitude', lon='Longitude', z='Visualizaciones', radius=10,\n",
    "                        center=dict(lat=51, lon=10), zoom=3.9,\n",
    "                        mapbox_style=\"stamen-terrain\")\n",
    "\n",
    "fig.update_layout(title=\"Cantidad de visualizaciones por Estado\")\n",
    "\n",
    "fig.show()"
   ]
  },
  {
   "cell_type": "code",
   "execution_count": 177,
   "metadata": {},
   "outputs": [
    {
     "output_type": "display_data",
     "data": {
      "application/vnd.plotly.v1+json": {
       "config": {
        "plotlyServerURL": "https://plot.ly"
       },
       "data": [
        {
         "coloraxis": "coloraxis",
         "hovertemplate": "Likes=%{z}<br>Latitude=%{lat}<br>Longitude=%{lon}<extra></extra>",
         "lat": [
          48.99999229,
          50.26660748,
          52.52181866,
          51.7704175,
          53.55043805,
          53.55002464,
          51.30000694,
          53.63330408,
          53.1299986,
          52.02998822,
          49.98247246,
          49.25039044,
          50.82998395,
          52.13042137,
          54.78374778,
          50.97005292
         ],
         "lon": [
          8.399993448,
          10.96660681,
          13.40154862,
          14.32996741,
          8.579982461,
          9.999999144,
          9.500029662,
          11.41669861,
          8.220004434,
          8.530011351,
          8.273219156,
          6.970003213,
          12.91997595,
          11.62000362,
          9.433315388,
          11.02996212
         ],
         "name": "",
         "radius": 10,
         "subplot": "mapbox",
         "type": "densitymapbox",
         "z": [
          24935675.41373176,
          22584504.955176093,
          23799646.01245107,
          24302406.942369252,
          24297909.088936318,
          25959083.48381357,
          25080461.471006725,
          22365470.279971536,
          22398612.68765564,
          23865559.146211296,
          23147125.477410175,
          22281646.61757382,
          22774129.681252226,
          23998682.33724652,
          24082717.420135163,
          24222289.216293115
         ]
        }
       ],
       "layout": {
        "coloraxis": {
         "colorbar": {
          "title": {
           "text": "Likes"
          }
         },
         "colorscale": [
          [
           0,
           "#0d0887"
          ],
          [
           0.1111111111111111,
           "#46039f"
          ],
          [
           0.2222222222222222,
           "#7201a8"
          ],
          [
           0.3333333333333333,
           "#9c179e"
          ],
          [
           0.4444444444444444,
           "#bd3786"
          ],
          [
           0.5555555555555556,
           "#d8576b"
          ],
          [
           0.6666666666666666,
           "#ed7953"
          ],
          [
           0.7777777777777778,
           "#fb9f3a"
          ],
          [
           0.8888888888888888,
           "#fdca26"
          ],
          [
           1,
           "#f0f921"
          ]
         ]
        },
        "legend": {
         "tracegroupgap": 0
        },
        "mapbox": {
         "center": {
          "lat": 51,
          "lon": 10
         },
         "domain": {
          "x": [
           0,
           1
          ],
          "y": [
           0,
           1
          ]
         },
         "style": "stamen-terrain",
         "zoom": 3.9
        },
        "margin": {
         "t": 60
        },
        "template": {
         "data": {
          "bar": [
           {
            "error_x": {
             "color": "#2a3f5f"
            },
            "error_y": {
             "color": "#2a3f5f"
            },
            "marker": {
             "line": {
              "color": "#E5ECF6",
              "width": 0.5
             },
             "pattern": {
              "fillmode": "overlay",
              "size": 10,
              "solidity": 0.2
             }
            },
            "type": "bar"
           }
          ],
          "barpolar": [
           {
            "marker": {
             "line": {
              "color": "#E5ECF6",
              "width": 0.5
             },
             "pattern": {
              "fillmode": "overlay",
              "size": 10,
              "solidity": 0.2
             }
            },
            "type": "barpolar"
           }
          ],
          "carpet": [
           {
            "aaxis": {
             "endlinecolor": "#2a3f5f",
             "gridcolor": "white",
             "linecolor": "white",
             "minorgridcolor": "white",
             "startlinecolor": "#2a3f5f"
            },
            "baxis": {
             "endlinecolor": "#2a3f5f",
             "gridcolor": "white",
             "linecolor": "white",
             "minorgridcolor": "white",
             "startlinecolor": "#2a3f5f"
            },
            "type": "carpet"
           }
          ],
          "choropleth": [
           {
            "colorbar": {
             "outlinewidth": 0,
             "ticks": ""
            },
            "type": "choropleth"
           }
          ],
          "contour": [
           {
            "colorbar": {
             "outlinewidth": 0,
             "ticks": ""
            },
            "colorscale": [
             [
              0,
              "#0d0887"
             ],
             [
              0.1111111111111111,
              "#46039f"
             ],
             [
              0.2222222222222222,
              "#7201a8"
             ],
             [
              0.3333333333333333,
              "#9c179e"
             ],
             [
              0.4444444444444444,
              "#bd3786"
             ],
             [
              0.5555555555555556,
              "#d8576b"
             ],
             [
              0.6666666666666666,
              "#ed7953"
             ],
             [
              0.7777777777777778,
              "#fb9f3a"
             ],
             [
              0.8888888888888888,
              "#fdca26"
             ],
             [
              1,
              "#f0f921"
             ]
            ],
            "type": "contour"
           }
          ],
          "contourcarpet": [
           {
            "colorbar": {
             "outlinewidth": 0,
             "ticks": ""
            },
            "type": "contourcarpet"
           }
          ],
          "heatmap": [
           {
            "colorbar": {
             "outlinewidth": 0,
             "ticks": ""
            },
            "colorscale": [
             [
              0,
              "#0d0887"
             ],
             [
              0.1111111111111111,
              "#46039f"
             ],
             [
              0.2222222222222222,
              "#7201a8"
             ],
             [
              0.3333333333333333,
              "#9c179e"
             ],
             [
              0.4444444444444444,
              "#bd3786"
             ],
             [
              0.5555555555555556,
              "#d8576b"
             ],
             [
              0.6666666666666666,
              "#ed7953"
             ],
             [
              0.7777777777777778,
              "#fb9f3a"
             ],
             [
              0.8888888888888888,
              "#fdca26"
             ],
             [
              1,
              "#f0f921"
             ]
            ],
            "type": "heatmap"
           }
          ],
          "heatmapgl": [
           {
            "colorbar": {
             "outlinewidth": 0,
             "ticks": ""
            },
            "colorscale": [
             [
              0,
              "#0d0887"
             ],
             [
              0.1111111111111111,
              "#46039f"
             ],
             [
              0.2222222222222222,
              "#7201a8"
             ],
             [
              0.3333333333333333,
              "#9c179e"
             ],
             [
              0.4444444444444444,
              "#bd3786"
             ],
             [
              0.5555555555555556,
              "#d8576b"
             ],
             [
              0.6666666666666666,
              "#ed7953"
             ],
             [
              0.7777777777777778,
              "#fb9f3a"
             ],
             [
              0.8888888888888888,
              "#fdca26"
             ],
             [
              1,
              "#f0f921"
             ]
            ],
            "type": "heatmapgl"
           }
          ],
          "histogram": [
           {
            "marker": {
             "pattern": {
              "fillmode": "overlay",
              "size": 10,
              "solidity": 0.2
             }
            },
            "type": "histogram"
           }
          ],
          "histogram2d": [
           {
            "colorbar": {
             "outlinewidth": 0,
             "ticks": ""
            },
            "colorscale": [
             [
              0,
              "#0d0887"
             ],
             [
              0.1111111111111111,
              "#46039f"
             ],
             [
              0.2222222222222222,
              "#7201a8"
             ],
             [
              0.3333333333333333,
              "#9c179e"
             ],
             [
              0.4444444444444444,
              "#bd3786"
             ],
             [
              0.5555555555555556,
              "#d8576b"
             ],
             [
              0.6666666666666666,
              "#ed7953"
             ],
             [
              0.7777777777777778,
              "#fb9f3a"
             ],
             [
              0.8888888888888888,
              "#fdca26"
             ],
             [
              1,
              "#f0f921"
             ]
            ],
            "type": "histogram2d"
           }
          ],
          "histogram2dcontour": [
           {
            "colorbar": {
             "outlinewidth": 0,
             "ticks": ""
            },
            "colorscale": [
             [
              0,
              "#0d0887"
             ],
             [
              0.1111111111111111,
              "#46039f"
             ],
             [
              0.2222222222222222,
              "#7201a8"
             ],
             [
              0.3333333333333333,
              "#9c179e"
             ],
             [
              0.4444444444444444,
              "#bd3786"
             ],
             [
              0.5555555555555556,
              "#d8576b"
             ],
             [
              0.6666666666666666,
              "#ed7953"
             ],
             [
              0.7777777777777778,
              "#fb9f3a"
             ],
             [
              0.8888888888888888,
              "#fdca26"
             ],
             [
              1,
              "#f0f921"
             ]
            ],
            "type": "histogram2dcontour"
           }
          ],
          "mesh3d": [
           {
            "colorbar": {
             "outlinewidth": 0,
             "ticks": ""
            },
            "type": "mesh3d"
           }
          ],
          "parcoords": [
           {
            "line": {
             "colorbar": {
              "outlinewidth": 0,
              "ticks": ""
             }
            },
            "type": "parcoords"
           }
          ],
          "pie": [
           {
            "automargin": true,
            "type": "pie"
           }
          ],
          "scatter": [
           {
            "marker": {
             "colorbar": {
              "outlinewidth": 0,
              "ticks": ""
             }
            },
            "type": "scatter"
           }
          ],
          "scatter3d": [
           {
            "line": {
             "colorbar": {
              "outlinewidth": 0,
              "ticks": ""
             }
            },
            "marker": {
             "colorbar": {
              "outlinewidth": 0,
              "ticks": ""
             }
            },
            "type": "scatter3d"
           }
          ],
          "scattercarpet": [
           {
            "marker": {
             "colorbar": {
              "outlinewidth": 0,
              "ticks": ""
             }
            },
            "type": "scattercarpet"
           }
          ],
          "scattergeo": [
           {
            "marker": {
             "colorbar": {
              "outlinewidth": 0,
              "ticks": ""
             }
            },
            "type": "scattergeo"
           }
          ],
          "scattergl": [
           {
            "marker": {
             "colorbar": {
              "outlinewidth": 0,
              "ticks": ""
             }
            },
            "type": "scattergl"
           }
          ],
          "scattermapbox": [
           {
            "marker": {
             "colorbar": {
              "outlinewidth": 0,
              "ticks": ""
             }
            },
            "type": "scattermapbox"
           }
          ],
          "scatterpolar": [
           {
            "marker": {
             "colorbar": {
              "outlinewidth": 0,
              "ticks": ""
             }
            },
            "type": "scatterpolar"
           }
          ],
          "scatterpolargl": [
           {
            "marker": {
             "colorbar": {
              "outlinewidth": 0,
              "ticks": ""
             }
            },
            "type": "scatterpolargl"
           }
          ],
          "scatterternary": [
           {
            "marker": {
             "colorbar": {
              "outlinewidth": 0,
              "ticks": ""
             }
            },
            "type": "scatterternary"
           }
          ],
          "surface": [
           {
            "colorbar": {
             "outlinewidth": 0,
             "ticks": ""
            },
            "colorscale": [
             [
              0,
              "#0d0887"
             ],
             [
              0.1111111111111111,
              "#46039f"
             ],
             [
              0.2222222222222222,
              "#7201a8"
             ],
             [
              0.3333333333333333,
              "#9c179e"
             ],
             [
              0.4444444444444444,
              "#bd3786"
             ],
             [
              0.5555555555555556,
              "#d8576b"
             ],
             [
              0.6666666666666666,
              "#ed7953"
             ],
             [
              0.7777777777777778,
              "#fb9f3a"
             ],
             [
              0.8888888888888888,
              "#fdca26"
             ],
             [
              1,
              "#f0f921"
             ]
            ],
            "type": "surface"
           }
          ],
          "table": [
           {
            "cells": {
             "fill": {
              "color": "#EBF0F8"
             },
             "line": {
              "color": "white"
             }
            },
            "header": {
             "fill": {
              "color": "#C8D4E3"
             },
             "line": {
              "color": "white"
             }
            },
            "type": "table"
           }
          ]
         },
         "layout": {
          "annotationdefaults": {
           "arrowcolor": "#2a3f5f",
           "arrowhead": 0,
           "arrowwidth": 1
          },
          "autotypenumbers": "strict",
          "coloraxis": {
           "colorbar": {
            "outlinewidth": 0,
            "ticks": ""
           }
          },
          "colorscale": {
           "diverging": [
            [
             0,
             "#8e0152"
            ],
            [
             0.1,
             "#c51b7d"
            ],
            [
             0.2,
             "#de77ae"
            ],
            [
             0.3,
             "#f1b6da"
            ],
            [
             0.4,
             "#fde0ef"
            ],
            [
             0.5,
             "#f7f7f7"
            ],
            [
             0.6,
             "#e6f5d0"
            ],
            [
             0.7,
             "#b8e186"
            ],
            [
             0.8,
             "#7fbc41"
            ],
            [
             0.9,
             "#4d9221"
            ],
            [
             1,
             "#276419"
            ]
           ],
           "sequential": [
            [
             0,
             "#0d0887"
            ],
            [
             0.1111111111111111,
             "#46039f"
            ],
            [
             0.2222222222222222,
             "#7201a8"
            ],
            [
             0.3333333333333333,
             "#9c179e"
            ],
            [
             0.4444444444444444,
             "#bd3786"
            ],
            [
             0.5555555555555556,
             "#d8576b"
            ],
            [
             0.6666666666666666,
             "#ed7953"
            ],
            [
             0.7777777777777778,
             "#fb9f3a"
            ],
            [
             0.8888888888888888,
             "#fdca26"
            ],
            [
             1,
             "#f0f921"
            ]
           ],
           "sequentialminus": [
            [
             0,
             "#0d0887"
            ],
            [
             0.1111111111111111,
             "#46039f"
            ],
            [
             0.2222222222222222,
             "#7201a8"
            ],
            [
             0.3333333333333333,
             "#9c179e"
            ],
            [
             0.4444444444444444,
             "#bd3786"
            ],
            [
             0.5555555555555556,
             "#d8576b"
            ],
            [
             0.6666666666666666,
             "#ed7953"
            ],
            [
             0.7777777777777778,
             "#fb9f3a"
            ],
            [
             0.8888888888888888,
             "#fdca26"
            ],
            [
             1,
             "#f0f921"
            ]
           ]
          },
          "colorway": [
           "#636efa",
           "#EF553B",
           "#00cc96",
           "#ab63fa",
           "#FFA15A",
           "#19d3f3",
           "#FF6692",
           "#B6E880",
           "#FF97FF",
           "#FECB52"
          ],
          "font": {
           "color": "#2a3f5f"
          },
          "geo": {
           "bgcolor": "white",
           "lakecolor": "white",
           "landcolor": "#E5ECF6",
           "showlakes": true,
           "showland": true,
           "subunitcolor": "white"
          },
          "hoverlabel": {
           "align": "left"
          },
          "hovermode": "closest",
          "mapbox": {
           "style": "light"
          },
          "paper_bgcolor": "white",
          "plot_bgcolor": "#E5ECF6",
          "polar": {
           "angularaxis": {
            "gridcolor": "white",
            "linecolor": "white",
            "ticks": ""
           },
           "bgcolor": "#E5ECF6",
           "radialaxis": {
            "gridcolor": "white",
            "linecolor": "white",
            "ticks": ""
           }
          },
          "scene": {
           "xaxis": {
            "backgroundcolor": "#E5ECF6",
            "gridcolor": "white",
            "gridwidth": 2,
            "linecolor": "white",
            "showbackground": true,
            "ticks": "",
            "zerolinecolor": "white"
           },
           "yaxis": {
            "backgroundcolor": "#E5ECF6",
            "gridcolor": "white",
            "gridwidth": 2,
            "linecolor": "white",
            "showbackground": true,
            "ticks": "",
            "zerolinecolor": "white"
           },
           "zaxis": {
            "backgroundcolor": "#E5ECF6",
            "gridcolor": "white",
            "gridwidth": 2,
            "linecolor": "white",
            "showbackground": true,
            "ticks": "",
            "zerolinecolor": "white"
           }
          },
          "shapedefaults": {
           "line": {
            "color": "#2a3f5f"
           }
          },
          "ternary": {
           "aaxis": {
            "gridcolor": "white",
            "linecolor": "white",
            "ticks": ""
           },
           "baxis": {
            "gridcolor": "white",
            "linecolor": "white",
            "ticks": ""
           },
           "bgcolor": "#E5ECF6",
           "caxis": {
            "gridcolor": "white",
            "linecolor": "white",
            "ticks": ""
           }
          },
          "title": {
           "x": 0.05
          },
          "xaxis": {
           "automargin": true,
           "gridcolor": "white",
           "linecolor": "white",
           "ticks": "",
           "title": {
            "standoff": 15
           },
           "zerolinecolor": "white",
           "zerolinewidth": 2
          },
          "yaxis": {
           "automargin": true,
           "gridcolor": "white",
           "linecolor": "white",
           "ticks": "",
           "title": {
            "standoff": 15
           },
           "zerolinecolor": "white",
           "zerolinewidth": 2
          }
         }
        },
        "title": {
         "text": "Cantidad de likes por Estado"
        }
       }
      }
     },
     "metadata": {}
    }
   ],
   "source": [
    "fig = px.density_mapbox(aux, lat='Latitude', lon='Longitude', z='Likes', radius=10,\n",
    "                        center=dict(lat=51, lon=10), zoom=3.9,\n",
    "                        mapbox_style=\"stamen-terrain\")\n",
    "\n",
    "fig.update_layout(title=\"Cantidad de likes por Estado\")\n",
    "\n",
    "fig.show()"
   ]
  },
  {
   "cell_type": "code",
   "execution_count": 178,
   "metadata": {},
   "outputs": [
    {
     "output_type": "display_data",
     "data": {
      "application/vnd.plotly.v1+json": {
       "config": {
        "plotlyServerURL": "https://plot.ly"
       },
       "data": [
        {
         "coloraxis": "coloraxis",
         "hovertemplate": "Dislikes=%{z}<br>Latitude=%{lat}<br>Longitude=%{lon}<extra></extra>",
         "lat": [
          48.99999229,
          50.26660748,
          52.52181866,
          51.7704175,
          53.55043805,
          53.55002464,
          51.30000694,
          53.63330408,
          53.1299986,
          52.02998822,
          49.98247246,
          49.25039044,
          50.82998395,
          52.13042137,
          54.78374778,
          50.97005292
         ],
         "lon": [
          8.399993448,
          10.96660681,
          13.40154862,
          14.32996741,
          8.579982461,
          9.999999144,
          9.500029662,
          11.41669861,
          8.220004434,
          8.530011351,
          8.273219156,
          6.970003213,
          12.91997595,
          11.62000362,
          9.433315388,
          11.02996212
         ],
         "name": "",
         "radius": 10,
         "subplot": "mapbox",
         "type": "densitymapbox",
         "z": [
          1214648.6070285088,
          1133954.010367431,
          1146620.1427046775,
          1153848.8296996458,
          1224908.6490318626,
          1256705.8958682693,
          1231320.600701323,
          1113887.6668699463,
          1096559.2393657542,
          1131895.0345327002,
          1215444.8055343768,
          1152553.1427046773,
          1190512.420033538,
          1195789.6427046773,
          1189871.8296996467,
          1228001.2635310234
         ]
        }
       ],
       "layout": {
        "coloraxis": {
         "colorbar": {
          "title": {
           "text": "Dislikes"
          }
         },
         "colorscale": [
          [
           0,
           "#0d0887"
          ],
          [
           0.1111111111111111,
           "#46039f"
          ],
          [
           0.2222222222222222,
           "#7201a8"
          ],
          [
           0.3333333333333333,
           "#9c179e"
          ],
          [
           0.4444444444444444,
           "#bd3786"
          ],
          [
           0.5555555555555556,
           "#d8576b"
          ],
          [
           0.6666666666666666,
           "#ed7953"
          ],
          [
           0.7777777777777778,
           "#fb9f3a"
          ],
          [
           0.8888888888888888,
           "#fdca26"
          ],
          [
           1,
           "#f0f921"
          ]
         ]
        },
        "legend": {
         "tracegroupgap": 0
        },
        "mapbox": {
         "center": {
          "lat": 51,
          "lon": 10
         },
         "domain": {
          "x": [
           0,
           1
          ],
          "y": [
           0,
           1
          ]
         },
         "style": "stamen-terrain",
         "zoom": 3.9
        },
        "margin": {
         "t": 60
        },
        "template": {
         "data": {
          "bar": [
           {
            "error_x": {
             "color": "#2a3f5f"
            },
            "error_y": {
             "color": "#2a3f5f"
            },
            "marker": {
             "line": {
              "color": "#E5ECF6",
              "width": 0.5
             },
             "pattern": {
              "fillmode": "overlay",
              "size": 10,
              "solidity": 0.2
             }
            },
            "type": "bar"
           }
          ],
          "barpolar": [
           {
            "marker": {
             "line": {
              "color": "#E5ECF6",
              "width": 0.5
             },
             "pattern": {
              "fillmode": "overlay",
              "size": 10,
              "solidity": 0.2
             }
            },
            "type": "barpolar"
           }
          ],
          "carpet": [
           {
            "aaxis": {
             "endlinecolor": "#2a3f5f",
             "gridcolor": "white",
             "linecolor": "white",
             "minorgridcolor": "white",
             "startlinecolor": "#2a3f5f"
            },
            "baxis": {
             "endlinecolor": "#2a3f5f",
             "gridcolor": "white",
             "linecolor": "white",
             "minorgridcolor": "white",
             "startlinecolor": "#2a3f5f"
            },
            "type": "carpet"
           }
          ],
          "choropleth": [
           {
            "colorbar": {
             "outlinewidth": 0,
             "ticks": ""
            },
            "type": "choropleth"
           }
          ],
          "contour": [
           {
            "colorbar": {
             "outlinewidth": 0,
             "ticks": ""
            },
            "colorscale": [
             [
              0,
              "#0d0887"
             ],
             [
              0.1111111111111111,
              "#46039f"
             ],
             [
              0.2222222222222222,
              "#7201a8"
             ],
             [
              0.3333333333333333,
              "#9c179e"
             ],
             [
              0.4444444444444444,
              "#bd3786"
             ],
             [
              0.5555555555555556,
              "#d8576b"
             ],
             [
              0.6666666666666666,
              "#ed7953"
             ],
             [
              0.7777777777777778,
              "#fb9f3a"
             ],
             [
              0.8888888888888888,
              "#fdca26"
             ],
             [
              1,
              "#f0f921"
             ]
            ],
            "type": "contour"
           }
          ],
          "contourcarpet": [
           {
            "colorbar": {
             "outlinewidth": 0,
             "ticks": ""
            },
            "type": "contourcarpet"
           }
          ],
          "heatmap": [
           {
            "colorbar": {
             "outlinewidth": 0,
             "ticks": ""
            },
            "colorscale": [
             [
              0,
              "#0d0887"
             ],
             [
              0.1111111111111111,
              "#46039f"
             ],
             [
              0.2222222222222222,
              "#7201a8"
             ],
             [
              0.3333333333333333,
              "#9c179e"
             ],
             [
              0.4444444444444444,
              "#bd3786"
             ],
             [
              0.5555555555555556,
              "#d8576b"
             ],
             [
              0.6666666666666666,
              "#ed7953"
             ],
             [
              0.7777777777777778,
              "#fb9f3a"
             ],
             [
              0.8888888888888888,
              "#fdca26"
             ],
             [
              1,
              "#f0f921"
             ]
            ],
            "type": "heatmap"
           }
          ],
          "heatmapgl": [
           {
            "colorbar": {
             "outlinewidth": 0,
             "ticks": ""
            },
            "colorscale": [
             [
              0,
              "#0d0887"
             ],
             [
              0.1111111111111111,
              "#46039f"
             ],
             [
              0.2222222222222222,
              "#7201a8"
             ],
             [
              0.3333333333333333,
              "#9c179e"
             ],
             [
              0.4444444444444444,
              "#bd3786"
             ],
             [
              0.5555555555555556,
              "#d8576b"
             ],
             [
              0.6666666666666666,
              "#ed7953"
             ],
             [
              0.7777777777777778,
              "#fb9f3a"
             ],
             [
              0.8888888888888888,
              "#fdca26"
             ],
             [
              1,
              "#f0f921"
             ]
            ],
            "type": "heatmapgl"
           }
          ],
          "histogram": [
           {
            "marker": {
             "pattern": {
              "fillmode": "overlay",
              "size": 10,
              "solidity": 0.2
             }
            },
            "type": "histogram"
           }
          ],
          "histogram2d": [
           {
            "colorbar": {
             "outlinewidth": 0,
             "ticks": ""
            },
            "colorscale": [
             [
              0,
              "#0d0887"
             ],
             [
              0.1111111111111111,
              "#46039f"
             ],
             [
              0.2222222222222222,
              "#7201a8"
             ],
             [
              0.3333333333333333,
              "#9c179e"
             ],
             [
              0.4444444444444444,
              "#bd3786"
             ],
             [
              0.5555555555555556,
              "#d8576b"
             ],
             [
              0.6666666666666666,
              "#ed7953"
             ],
             [
              0.7777777777777778,
              "#fb9f3a"
             ],
             [
              0.8888888888888888,
              "#fdca26"
             ],
             [
              1,
              "#f0f921"
             ]
            ],
            "type": "histogram2d"
           }
          ],
          "histogram2dcontour": [
           {
            "colorbar": {
             "outlinewidth": 0,
             "ticks": ""
            },
            "colorscale": [
             [
              0,
              "#0d0887"
             ],
             [
              0.1111111111111111,
              "#46039f"
             ],
             [
              0.2222222222222222,
              "#7201a8"
             ],
             [
              0.3333333333333333,
              "#9c179e"
             ],
             [
              0.4444444444444444,
              "#bd3786"
             ],
             [
              0.5555555555555556,
              "#d8576b"
             ],
             [
              0.6666666666666666,
              "#ed7953"
             ],
             [
              0.7777777777777778,
              "#fb9f3a"
             ],
             [
              0.8888888888888888,
              "#fdca26"
             ],
             [
              1,
              "#f0f921"
             ]
            ],
            "type": "histogram2dcontour"
           }
          ],
          "mesh3d": [
           {
            "colorbar": {
             "outlinewidth": 0,
             "ticks": ""
            },
            "type": "mesh3d"
           }
          ],
          "parcoords": [
           {
            "line": {
             "colorbar": {
              "outlinewidth": 0,
              "ticks": ""
             }
            },
            "type": "parcoords"
           }
          ],
          "pie": [
           {
            "automargin": true,
            "type": "pie"
           }
          ],
          "scatter": [
           {
            "marker": {
             "colorbar": {
              "outlinewidth": 0,
              "ticks": ""
             }
            },
            "type": "scatter"
           }
          ],
          "scatter3d": [
           {
            "line": {
             "colorbar": {
              "outlinewidth": 0,
              "ticks": ""
             }
            },
            "marker": {
             "colorbar": {
              "outlinewidth": 0,
              "ticks": ""
             }
            },
            "type": "scatter3d"
           }
          ],
          "scattercarpet": [
           {
            "marker": {
             "colorbar": {
              "outlinewidth": 0,
              "ticks": ""
             }
            },
            "type": "scattercarpet"
           }
          ],
          "scattergeo": [
           {
            "marker": {
             "colorbar": {
              "outlinewidth": 0,
              "ticks": ""
             }
            },
            "type": "scattergeo"
           }
          ],
          "scattergl": [
           {
            "marker": {
             "colorbar": {
              "outlinewidth": 0,
              "ticks": ""
             }
            },
            "type": "scattergl"
           }
          ],
          "scattermapbox": [
           {
            "marker": {
             "colorbar": {
              "outlinewidth": 0,
              "ticks": ""
             }
            },
            "type": "scattermapbox"
           }
          ],
          "scatterpolar": [
           {
            "marker": {
             "colorbar": {
              "outlinewidth": 0,
              "ticks": ""
             }
            },
            "type": "scatterpolar"
           }
          ],
          "scatterpolargl": [
           {
            "marker": {
             "colorbar": {
              "outlinewidth": 0,
              "ticks": ""
             }
            },
            "type": "scatterpolargl"
           }
          ],
          "scatterternary": [
           {
            "marker": {
             "colorbar": {
              "outlinewidth": 0,
              "ticks": ""
             }
            },
            "type": "scatterternary"
           }
          ],
          "surface": [
           {
            "colorbar": {
             "outlinewidth": 0,
             "ticks": ""
            },
            "colorscale": [
             [
              0,
              "#0d0887"
             ],
             [
              0.1111111111111111,
              "#46039f"
             ],
             [
              0.2222222222222222,
              "#7201a8"
             ],
             [
              0.3333333333333333,
              "#9c179e"
             ],
             [
              0.4444444444444444,
              "#bd3786"
             ],
             [
              0.5555555555555556,
              "#d8576b"
             ],
             [
              0.6666666666666666,
              "#ed7953"
             ],
             [
              0.7777777777777778,
              "#fb9f3a"
             ],
             [
              0.8888888888888888,
              "#fdca26"
             ],
             [
              1,
              "#f0f921"
             ]
            ],
            "type": "surface"
           }
          ],
          "table": [
           {
            "cells": {
             "fill": {
              "color": "#EBF0F8"
             },
             "line": {
              "color": "white"
             }
            },
            "header": {
             "fill": {
              "color": "#C8D4E3"
             },
             "line": {
              "color": "white"
             }
            },
            "type": "table"
           }
          ]
         },
         "layout": {
          "annotationdefaults": {
           "arrowcolor": "#2a3f5f",
           "arrowhead": 0,
           "arrowwidth": 1
          },
          "autotypenumbers": "strict",
          "coloraxis": {
           "colorbar": {
            "outlinewidth": 0,
            "ticks": ""
           }
          },
          "colorscale": {
           "diverging": [
            [
             0,
             "#8e0152"
            ],
            [
             0.1,
             "#c51b7d"
            ],
            [
             0.2,
             "#de77ae"
            ],
            [
             0.3,
             "#f1b6da"
            ],
            [
             0.4,
             "#fde0ef"
            ],
            [
             0.5,
             "#f7f7f7"
            ],
            [
             0.6,
             "#e6f5d0"
            ],
            [
             0.7,
             "#b8e186"
            ],
            [
             0.8,
             "#7fbc41"
            ],
            [
             0.9,
             "#4d9221"
            ],
            [
             1,
             "#276419"
            ]
           ],
           "sequential": [
            [
             0,
             "#0d0887"
            ],
            [
             0.1111111111111111,
             "#46039f"
            ],
            [
             0.2222222222222222,
             "#7201a8"
            ],
            [
             0.3333333333333333,
             "#9c179e"
            ],
            [
             0.4444444444444444,
             "#bd3786"
            ],
            [
             0.5555555555555556,
             "#d8576b"
            ],
            [
             0.6666666666666666,
             "#ed7953"
            ],
            [
             0.7777777777777778,
             "#fb9f3a"
            ],
            [
             0.8888888888888888,
             "#fdca26"
            ],
            [
             1,
             "#f0f921"
            ]
           ],
           "sequentialminus": [
            [
             0,
             "#0d0887"
            ],
            [
             0.1111111111111111,
             "#46039f"
            ],
            [
             0.2222222222222222,
             "#7201a8"
            ],
            [
             0.3333333333333333,
             "#9c179e"
            ],
            [
             0.4444444444444444,
             "#bd3786"
            ],
            [
             0.5555555555555556,
             "#d8576b"
            ],
            [
             0.6666666666666666,
             "#ed7953"
            ],
            [
             0.7777777777777778,
             "#fb9f3a"
            ],
            [
             0.8888888888888888,
             "#fdca26"
            ],
            [
             1,
             "#f0f921"
            ]
           ]
          },
          "colorway": [
           "#636efa",
           "#EF553B",
           "#00cc96",
           "#ab63fa",
           "#FFA15A",
           "#19d3f3",
           "#FF6692",
           "#B6E880",
           "#FF97FF",
           "#FECB52"
          ],
          "font": {
           "color": "#2a3f5f"
          },
          "geo": {
           "bgcolor": "white",
           "lakecolor": "white",
           "landcolor": "#E5ECF6",
           "showlakes": true,
           "showland": true,
           "subunitcolor": "white"
          },
          "hoverlabel": {
           "align": "left"
          },
          "hovermode": "closest",
          "mapbox": {
           "style": "light"
          },
          "paper_bgcolor": "white",
          "plot_bgcolor": "#E5ECF6",
          "polar": {
           "angularaxis": {
            "gridcolor": "white",
            "linecolor": "white",
            "ticks": ""
           },
           "bgcolor": "#E5ECF6",
           "radialaxis": {
            "gridcolor": "white",
            "linecolor": "white",
            "ticks": ""
           }
          },
          "scene": {
           "xaxis": {
            "backgroundcolor": "#E5ECF6",
            "gridcolor": "white",
            "gridwidth": 2,
            "linecolor": "white",
            "showbackground": true,
            "ticks": "",
            "zerolinecolor": "white"
           },
           "yaxis": {
            "backgroundcolor": "#E5ECF6",
            "gridcolor": "white",
            "gridwidth": 2,
            "linecolor": "white",
            "showbackground": true,
            "ticks": "",
            "zerolinecolor": "white"
           },
           "zaxis": {
            "backgroundcolor": "#E5ECF6",
            "gridcolor": "white",
            "gridwidth": 2,
            "linecolor": "white",
            "showbackground": true,
            "ticks": "",
            "zerolinecolor": "white"
           }
          },
          "shapedefaults": {
           "line": {
            "color": "#2a3f5f"
           }
          },
          "ternary": {
           "aaxis": {
            "gridcolor": "white",
            "linecolor": "white",
            "ticks": ""
           },
           "baxis": {
            "gridcolor": "white",
            "linecolor": "white",
            "ticks": ""
           },
           "bgcolor": "#E5ECF6",
           "caxis": {
            "gridcolor": "white",
            "linecolor": "white",
            "ticks": ""
           }
          },
          "title": {
           "x": 0.05
          },
          "xaxis": {
           "automargin": true,
           "gridcolor": "white",
           "linecolor": "white",
           "ticks": "",
           "title": {
            "standoff": 15
           },
           "zerolinecolor": "white",
           "zerolinewidth": 2
          },
          "yaxis": {
           "automargin": true,
           "gridcolor": "white",
           "linecolor": "white",
           "ticks": "",
           "title": {
            "standoff": 15
           },
           "zerolinecolor": "white",
           "zerolinewidth": 2
          }
         }
        },
        "title": {
         "text": "Cantidad de dislikes por Estado"
        }
       }
      }
     },
     "metadata": {}
    }
   ],
   "source": [
    "fig = px.density_mapbox(aux, lat='Latitude', lon='Longitude', z='Dislikes', radius=10,\n",
    "                        center=dict(lat=51, lon=10), zoom=3.9,\n",
    "                        mapbox_style=\"stamen-terrain\")\n",
    "\n",
    "fig.update_layout(title=\"Cantidad de dislikes por Estado\")\n",
    "\n",
    "fig.show()"
   ]
  },
  {
   "cell_type": "code",
   "execution_count": null,
   "metadata": {},
   "outputs": [],
   "source": []
  }
 ],
 "metadata": {
  "kernelspec": {
   "name": "python3",
   "display_name": "Python 3.9.0 64-bit"
  },
  "language_info": {
   "codemirror_mode": {
    "name": "ipython",
    "version": 3
   },
   "file_extension": ".py",
   "mimetype": "text/x-python",
   "name": "python",
   "nbconvert_exporter": "python",
   "pygments_lexer": "ipython3",
   "version": "3.9.0"
  },
  "interpreter": {
   "hash": "2e3c1e8da6e821b0193601da5a0e541c0efda9704da45b6b820f5f4c317f2def"
  }
 },
 "nbformat": 4,
 "nbformat_minor": 5
}