{
 "metadata": {
  "language_info": {
   "codemirror_mode": {
    "name": "ipython",
    "version": 3
   },
   "file_extension": ".py",
   "mimetype": "text/x-python",
   "name": "python",
   "nbconvert_exporter": "python",
   "pygments_lexer": "ipython3",
   "version": "3.9.4"
  },
  "orig_nbformat": 4,
  "kernelspec": {
   "name": "python3",
   "display_name": "Python 3.9.4 64-bit"
  },
  "interpreter": {
   "hash": "77eae0d149ba61c2d600661d89f90b4aa2630fec4556ce7a67e67a981106c5c1"
  }
 },
 "nbformat": 4,
 "nbformat_minor": 2,
 "cells": [
  {
   "cell_type": "code",
   "execution_count": 1,
   "metadata": {},
   "outputs": [],
   "source": [
    "import numpy as np\n",
    "import pandas as pd\n",
    "import json\n",
    "import matplotlib.pyplot as plt\n",
    "import datetime"
   ]
  },
  {
   "cell_type": "code",
   "execution_count": 2,
   "metadata": {},
   "outputs": [
    {
     "output_type": "execute_result",
     "data": {
      "text/plain": [
       "video_id                   object\n",
       "trending_date              object\n",
       "title                      object\n",
       "channel_title              object\n",
       "category_id                 int64\n",
       "publish_time               object\n",
       "tags                       object\n",
       "views                       int64\n",
       "likes                       int64\n",
       "dislikes                    int64\n",
       "comment_count               int64\n",
       "thumbnail_link             object\n",
       "comments_disabled            bool\n",
       "ratings_disabled             bool\n",
       "video_error_or_removed       bool\n",
       "description                object\n",
       "state                      object\n",
       "lat                       float64\n",
       "lon                       float64\n",
       "geometry                   object\n",
       "dtype: object"
      ]
     },
     "metadata": {},
     "execution_count": 2
    }
   ],
   "source": [
    "dfvid = pd.read_csv('../data/original/DEvideos_cc50_202101.csv')\n",
    "dfvid.dtypes"
   ]
  },
  {
   "cell_type": "code",
   "execution_count": 3,
   "metadata": {},
   "outputs": [
    {
     "output_type": "execute_result",
     "data": {
      "text/plain": [
       "kind                  object\n",
       "etag                  object\n",
       "id                    object\n",
       "snippet.channelId     object\n",
       "snippet.title         object\n",
       "snippet.assignable      bool\n",
       "dtype: object"
      ]
     },
     "metadata": {},
     "execution_count": 3
    }
   ],
   "source": [
    "#Aqui leemos el archivo json y usamos la función json_normalize para que las categorias estén al mismo nivel\n",
    "with open('../data/original/DE_category_id.json','r') as f:\n",
    "    data = json.loads(f.read())\n",
    "dfcatDE = pd.json_normalize(data,record_path=['items'])\n",
    "with open('../data/original/US_category_id.json','r') as f:\n",
    "    data = json.loads(f.read())\n",
    "dfcatUS = pd.json_normalize(data,record_path=['items'])\n",
    "dfcat = pd.concat([dfcatDE,dfcatUS])\n",
    "dfcat.dtypes"
   ]
  },
  {
   "cell_type": "code",
   "execution_count": 4,
   "metadata": {},
   "outputs": [
    {
     "output_type": "execute_result",
     "data": {
      "text/plain": [
       "id                int32\n",
       "snippet.title    object\n",
       "dtype: object"
      ]
     },
     "metadata": {},
     "execution_count": 4
    }
   ],
   "source": [
    "#Limpiamos primero el dataset de dfcat\n",
    "#eliminamos kind y etag\n",
    "dfcat = dfcat.drop(['kind','etag','snippet.channelId','snippet.assignable'],axis=1, errors='ignore')\n",
    "#convertimos el id a int, para hacer join con el otro dataframe\n",
    "dfcat = dfcat.astype({'id':int})\n",
    "#eliminamos las filas repetidas\n",
    "dfcat.drop_duplicates(keep='first',inplace=True)\n",
    "dfcat.dtypes"
   ]
  },
  {
   "cell_type": "code",
   "execution_count": 5,
   "metadata": {},
   "outputs": [
    {
     "output_type": "execute_result",
     "data": {
      "text/plain": [
       "video_id                   object\n",
       "trending_date              object\n",
       "title                      object\n",
       "channel_title              object\n",
       "publish_time               object\n",
       "tags                       object\n",
       "views                       int64\n",
       "likes                       int64\n",
       "dislikes                    int64\n",
       "comment_count               int64\n",
       "thumbnail_link             object\n",
       "comments_disabled            bool\n",
       "ratings_disabled             bool\n",
       "video_error_or_removed       bool\n",
       "description                object\n",
       "state                      object\n",
       "lat                       float64\n",
       "lon                       float64\n",
       "geometry                   object\n",
       "snippet.title              object\n",
       "dtype: object"
      ]
     },
     "metadata": {},
     "execution_count": 5
    }
   ],
   "source": [
    "#Unimos los datasets\n",
    "dfvid = dfvid.astype({'category_id':int})\n",
    "dfvid = pd.merge(dfvid,dfcat,how='inner',left_on='category_id',right_on='id').drop(['id','category_id'],axis=1)\n",
    "dfvid.dtypes"
   ]
  },
  {
   "cell_type": "code",
   "execution_count": 6,
   "metadata": {},
   "outputs": [
    {
     "output_type": "execute_result",
     "data": {
      "text/plain": [
       "          video_id trending_date  \\\n",
       "0      LgVi6y5QIjM    2017-11-14   \n",
       "1      1ZAPwfrtAFY    2017-11-14   \n",
       "2      ZJ9We4bjcg0    2017-11-14   \n",
       "3      2hu_evXPpMM    2017-11-14   \n",
       "4      OKYUtHvgMhc    2017-11-14   \n",
       "...            ...           ...   \n",
       "40835  YvlYjLPgrCE    2018-06-11   \n",
       "40836  GZa2B-knFGw    2018-06-14   \n",
       "40837  riupcv-tf1s    2018-03-25   \n",
       "40838  l7E0kTvARsA    2018-06-01   \n",
       "40839  l7E0kTvARsA    2018-06-02   \n",
       "\n",
       "                                                   title  \\\n",
       "0      Sing zu Ende! | Gesangseinlagen vom Feinsten |...   \n",
       "1      The Trump Presidency: Last Week Tonight with J...   \n",
       "2               18 SONGS mit Kelly MissesVlog (Sing-off)   \n",
       "3      Dagi Bee wird Heiraten | Coldmirror bekommt Eh...   \n",
       "4          Die Welt in 30 Jahren - Sommer 2047 -  VOLKAN   \n",
       "...                                                  ...   \n",
       "40835  Street Food in Ghana - GIANT CHOP-BAR LUNCH an...   \n",
       "40836  Village Food in West Africa - BEST FUFU and EX...   \n",
       "40837                          Fack Ju Göhte 3 - Trailer   \n",
       "40838  Golak Bugni Bank Te Batua Full Movie (HD) | Ha...   \n",
       "40839  Golak Bugni Bank Te Batua Full Movie (HD) | Ha...   \n",
       "\n",
       "                   channel_title              publish_time  \\\n",
       "0                      inscope21 2017-11-13 17:08:49+00:00   \n",
       "1                LastWeekTonight 2017-11-13 07:30:00+00:00   \n",
       "2                           rezo 2017-11-12 13:10:36+00:00   \n",
       "3                   HerrNewstime 2017-11-12 16:33:18+00:00   \n",
       "4                         VOLKAN 2017-11-12 16:09:44+00:00   \n",
       "...                          ...                       ...   \n",
       "40835                 Mark Wiens 2018-06-10 13:00:08+00:00   \n",
       "40836                 Mark Wiens 2018-06-13 13:00:04+00:00   \n",
       "40837  Fack Ju Göhte 3 - Trailer 2018-03-08 22:42:50+00:00   \n",
       "40838                Rhythm Boyz 2018-05-31 13:30:04+00:00   \n",
       "40839                Rhythm Boyz 2018-05-31 13:30:04+00:00   \n",
       "\n",
       "                                                    tags    views   likes  \\\n",
       "0      inscope21|\"sing zu ende\"|\"gesangseinlagen\"|\"ge...   252786   35885   \n",
       "1      last week tonight trump presidency|\"last week ...  2418783   97190   \n",
       "2      kelly|\"missesvlog\"|\"kelly song\"|\"bausa\"|\"bausa...   822213  100684   \n",
       "3      Dagi Bee|\"Heiraten\"|\"Coldmirror\"|\"YouTube\"|\"Tr...   228574   11349   \n",
       "4            Welt|\"Natur\"|\"Umwelt\"|\"Klima\"|\"Klimawandel\"    37877    1839   \n",
       "...                                                  ...      ...     ...   \n",
       "40835  Ghana|\"Ghana food\"|\"Ghanaian food\"|\"fufu\"|\"ban...   304116   11398   \n",
       "40836  ghana|\"fufu\"|\"West Africa\"|\"African food\"|\"Gha...   252328   13557   \n",
       "40837                                             [none]     8804       0   \n",
       "40838  full movie|\"full punjabi movie\"|\"golak\"|\"bugni...   781977   22027   \n",
       "40839  full movie|\"full punjabi movie\"|\"golak\"|\"bugni...  2289027   41807   \n",
       "\n",
       "       dislikes  comment_count  \\\n",
       "0           230           1539   \n",
       "1          6146          12703   \n",
       "2          2467          10244   \n",
       "3           990           1049   \n",
       "4           327            170   \n",
       "...         ...            ...   \n",
       "40835       333           1883   \n",
       "40836       235           2253   \n",
       "40837         0              0   \n",
       "40838       783           1096   \n",
       "40839      1811           2153   \n",
       "\n",
       "                                       thumbnail_link  comments_disabled  \\\n",
       "0      https://i.ytimg.com/vi/LgVi6y5QIjM/default.jpg              False   \n",
       "1      https://i.ytimg.com/vi/1ZAPwfrtAFY/default.jpg              False   \n",
       "2      https://i.ytimg.com/vi/ZJ9We4bjcg0/default.jpg              False   \n",
       "3      https://i.ytimg.com/vi/2hu_evXPpMM/default.jpg              False   \n",
       "4      https://i.ytimg.com/vi/OKYUtHvgMhc/default.jpg              False   \n",
       "...                                               ...                ...   \n",
       "40835  https://i.ytimg.com/vi/YvlYjLPgrCE/default.jpg              False   \n",
       "40836  https://i.ytimg.com/vi/GZa2B-knFGw/default.jpg              False   \n",
       "40837  https://i.ytimg.com/vi/riupcv-tf1s/default.jpg               True   \n",
       "40838  https://i.ytimg.com/vi/l7E0kTvARsA/default.jpg              False   \n",
       "40839  https://i.ytimg.com/vi/l7E0kTvARsA/default.jpg              False   \n",
       "\n",
       "       ratings_disabled  video_error_or_removed  \\\n",
       "0                 False                   False   \n",
       "1                 False                   False   \n",
       "2                 False                   False   \n",
       "3                 False                   False   \n",
       "4                 False                   False   \n",
       "...                 ...                     ...   \n",
       "40835             False                   False   \n",
       "40836             False                   False   \n",
       "40837             False                   False   \n",
       "40838             False                   False   \n",
       "40839             False                   False   \n",
       "\n",
       "                                             description                state  \\\n",
       "0      Heute gibt es mal wieder ein neues Format... w...   Schleswig Holstein   \n",
       "1      One year after the presidential election, John...             Saarland   \n",
       "2      18 Song Mashup über den (veränderten) Beat von...               Berlin   \n",
       "3      Dagi Bee wird Heiraten | Coldmirror bekommt Eh...            Thuringen   \n",
       "4      Über die Zukunft nachzudenken macht Spaß, oder...              Sachsen   \n",
       "...                                                  ...                  ...   \n",
       "40835  This was an incredible day of street food in G...  Nordrhein Westfalen   \n",
       "40836  This was one of the most rewarding experiences...   Schleswig Holstein   \n",
       "40837  Homo Faber, Kurvendiskussion, Asbest in den To...        Niedersachsen   \n",
       "40838  Rhythm Boyz Entertainment & Hayre Omjee Studio...      Rheinland Pfalz   \n",
       "40839  Rhythm Boyz Entertainment & Hayre Omjee Studio...              Hamburg   \n",
       "\n",
       "             lat        lon                               geometry  \\\n",
       "0      54.783748   9.433315        POINT (9.433315388 54.78374778)   \n",
       "1      49.250390   6.970003        POINT (6.970003213 49.25039044)   \n",
       "2      52.521819  13.401549        POINT (13.40154862 52.52181866)   \n",
       "3      50.970053  11.029962        POINT (11.02996212 50.97005292)   \n",
       "4      50.829984  12.919976        POINT (12.91997595 50.82998395)   \n",
       "...          ...        ...                                    ...   \n",
       "40835  52.029988   8.530011  POINT (8.530011351000001 52.02998822)   \n",
       "40836  54.783748   9.433315        POINT (9.433315388 54.78374778)   \n",
       "40837  53.129999   8.220004         POINT (8.220004434 53.1299986)   \n",
       "40838  49.982472   8.273219        POINT (8.273219156 49.98247246)   \n",
       "40839  53.550025   9.999999        POINT (9.999999144 53.55002464)   \n",
       "\n",
       "         snippet.title  \n",
       "0        Entertainment  \n",
       "1        Entertainment  \n",
       "2        Entertainment  \n",
       "3        Entertainment  \n",
       "4        Entertainment  \n",
       "...                ...  \n",
       "40835  Travel & Events  \n",
       "40836  Travel & Events  \n",
       "40837         Trailers  \n",
       "40838           Movies  \n",
       "40839           Movies  \n",
       "\n",
       "[40840 rows x 20 columns]"
      ],
      "text/html": "<div>\n<style scoped>\n    .dataframe tbody tr th:only-of-type {\n        vertical-align: middle;\n    }\n\n    .dataframe tbody tr th {\n        vertical-align: top;\n    }\n\n    .dataframe thead th {\n        text-align: right;\n    }\n</style>\n<table border=\"1\" class=\"dataframe\">\n  <thead>\n    <tr style=\"text-align: right;\">\n      <th></th>\n      <th>video_id</th>\n      <th>trending_date</th>\n      <th>title</th>\n      <th>channel_title</th>\n      <th>publish_time</th>\n      <th>tags</th>\n      <th>views</th>\n      <th>likes</th>\n      <th>dislikes</th>\n      <th>comment_count</th>\n      <th>thumbnail_link</th>\n      <th>comments_disabled</th>\n      <th>ratings_disabled</th>\n      <th>video_error_or_removed</th>\n      <th>description</th>\n      <th>state</th>\n      <th>lat</th>\n      <th>lon</th>\n      <th>geometry</th>\n      <th>snippet.title</th>\n    </tr>\n  </thead>\n  <tbody>\n    <tr>\n      <th>0</th>\n      <td>LgVi6y5QIjM</td>\n      <td>2017-11-14</td>\n      <td>Sing zu Ende! | Gesangseinlagen vom Feinsten |...</td>\n      <td>inscope21</td>\n      <td>2017-11-13 17:08:49+00:00</td>\n      <td>inscope21|\"sing zu ende\"|\"gesangseinlagen\"|\"ge...</td>\n      <td>252786</td>\n      <td>35885</td>\n      <td>230</td>\n      <td>1539</td>\n      <td>https://i.ytimg.com/vi/LgVi6y5QIjM/default.jpg</td>\n      <td>False</td>\n      <td>False</td>\n      <td>False</td>\n      <td>Heute gibt es mal wieder ein neues Format... w...</td>\n      <td>Schleswig Holstein</td>\n      <td>54.783748</td>\n      <td>9.433315</td>\n      <td>POINT (9.433315388 54.78374778)</td>\n      <td>Entertainment</td>\n    </tr>\n    <tr>\n      <th>1</th>\n      <td>1ZAPwfrtAFY</td>\n      <td>2017-11-14</td>\n      <td>The Trump Presidency: Last Week Tonight with J...</td>\n      <td>LastWeekTonight</td>\n      <td>2017-11-13 07:30:00+00:00</td>\n      <td>last week tonight trump presidency|\"last week ...</td>\n      <td>2418783</td>\n      <td>97190</td>\n      <td>6146</td>\n      <td>12703</td>\n      <td>https://i.ytimg.com/vi/1ZAPwfrtAFY/default.jpg</td>\n      <td>False</td>\n      <td>False</td>\n      <td>False</td>\n      <td>One year after the presidential election, John...</td>\n      <td>Saarland</td>\n      <td>49.250390</td>\n      <td>6.970003</td>\n      <td>POINT (6.970003213 49.25039044)</td>\n      <td>Entertainment</td>\n    </tr>\n    <tr>\n      <th>2</th>\n      <td>ZJ9We4bjcg0</td>\n      <td>2017-11-14</td>\n      <td>18 SONGS mit Kelly MissesVlog (Sing-off)</td>\n      <td>rezo</td>\n      <td>2017-11-12 13:10:36+00:00</td>\n      <td>kelly|\"missesvlog\"|\"kelly song\"|\"bausa\"|\"bausa...</td>\n      <td>822213</td>\n      <td>100684</td>\n      <td>2467</td>\n      <td>10244</td>\n      <td>https://i.ytimg.com/vi/ZJ9We4bjcg0/default.jpg</td>\n      <td>False</td>\n      <td>False</td>\n      <td>False</td>\n      <td>18 Song Mashup über den (veränderten) Beat von...</td>\n      <td>Berlin</td>\n      <td>52.521819</td>\n      <td>13.401549</td>\n      <td>POINT (13.40154862 52.52181866)</td>\n      <td>Entertainment</td>\n    </tr>\n    <tr>\n      <th>3</th>\n      <td>2hu_evXPpMM</td>\n      <td>2017-11-14</td>\n      <td>Dagi Bee wird Heiraten | Coldmirror bekommt Eh...</td>\n      <td>HerrNewstime</td>\n      <td>2017-11-12 16:33:18+00:00</td>\n      <td>Dagi Bee|\"Heiraten\"|\"Coldmirror\"|\"YouTube\"|\"Tr...</td>\n      <td>228574</td>\n      <td>11349</td>\n      <td>990</td>\n      <td>1049</td>\n      <td>https://i.ytimg.com/vi/2hu_evXPpMM/default.jpg</td>\n      <td>False</td>\n      <td>False</td>\n      <td>False</td>\n      <td>Dagi Bee wird Heiraten | Coldmirror bekommt Eh...</td>\n      <td>Thuringen</td>\n      <td>50.970053</td>\n      <td>11.029962</td>\n      <td>POINT (11.02996212 50.97005292)</td>\n      <td>Entertainment</td>\n    </tr>\n    <tr>\n      <th>4</th>\n      <td>OKYUtHvgMhc</td>\n      <td>2017-11-14</td>\n      <td>Die Welt in 30 Jahren - Sommer 2047 -  VOLKAN</td>\n      <td>VOLKAN</td>\n      <td>2017-11-12 16:09:44+00:00</td>\n      <td>Welt|\"Natur\"|\"Umwelt\"|\"Klima\"|\"Klimawandel\"</td>\n      <td>37877</td>\n      <td>1839</td>\n      <td>327</td>\n      <td>170</td>\n      <td>https://i.ytimg.com/vi/OKYUtHvgMhc/default.jpg</td>\n      <td>False</td>\n      <td>False</td>\n      <td>False</td>\n      <td>Über die Zukunft nachzudenken macht Spaß, oder...</td>\n      <td>Sachsen</td>\n      <td>50.829984</td>\n      <td>12.919976</td>\n      <td>POINT (12.91997595 50.82998395)</td>\n      <td>Entertainment</td>\n    </tr>\n    <tr>\n      <th>...</th>\n      <td>...</td>\n      <td>...</td>\n      <td>...</td>\n      <td>...</td>\n      <td>...</td>\n      <td>...</td>\n      <td>...</td>\n      <td>...</td>\n      <td>...</td>\n      <td>...</td>\n      <td>...</td>\n      <td>...</td>\n      <td>...</td>\n      <td>...</td>\n      <td>...</td>\n      <td>...</td>\n      <td>...</td>\n      <td>...</td>\n      <td>...</td>\n      <td>...</td>\n    </tr>\n    <tr>\n      <th>40835</th>\n      <td>YvlYjLPgrCE</td>\n      <td>2018-06-11</td>\n      <td>Street Food in Ghana - GIANT CHOP-BAR LUNCH an...</td>\n      <td>Mark Wiens</td>\n      <td>2018-06-10 13:00:08+00:00</td>\n      <td>Ghana|\"Ghana food\"|\"Ghanaian food\"|\"fufu\"|\"ban...</td>\n      <td>304116</td>\n      <td>11398</td>\n      <td>333</td>\n      <td>1883</td>\n      <td>https://i.ytimg.com/vi/YvlYjLPgrCE/default.jpg</td>\n      <td>False</td>\n      <td>False</td>\n      <td>False</td>\n      <td>This was an incredible day of street food in G...</td>\n      <td>Nordrhein Westfalen</td>\n      <td>52.029988</td>\n      <td>8.530011</td>\n      <td>POINT (8.530011351000001 52.02998822)</td>\n      <td>Travel &amp; Events</td>\n    </tr>\n    <tr>\n      <th>40836</th>\n      <td>GZa2B-knFGw</td>\n      <td>2018-06-14</td>\n      <td>Village Food in West Africa - BEST FUFU and EX...</td>\n      <td>Mark Wiens</td>\n      <td>2018-06-13 13:00:04+00:00</td>\n      <td>ghana|\"fufu\"|\"West Africa\"|\"African food\"|\"Gha...</td>\n      <td>252328</td>\n      <td>13557</td>\n      <td>235</td>\n      <td>2253</td>\n      <td>https://i.ytimg.com/vi/GZa2B-knFGw/default.jpg</td>\n      <td>False</td>\n      <td>False</td>\n      <td>False</td>\n      <td>This was one of the most rewarding experiences...</td>\n      <td>Schleswig Holstein</td>\n      <td>54.783748</td>\n      <td>9.433315</td>\n      <td>POINT (9.433315388 54.78374778)</td>\n      <td>Travel &amp; Events</td>\n    </tr>\n    <tr>\n      <th>40837</th>\n      <td>riupcv-tf1s</td>\n      <td>2018-03-25</td>\n      <td>Fack Ju Göhte 3 - Trailer</td>\n      <td>Fack Ju Göhte 3 - Trailer</td>\n      <td>2018-03-08 22:42:50+00:00</td>\n      <td>[none]</td>\n      <td>8804</td>\n      <td>0</td>\n      <td>0</td>\n      <td>0</td>\n      <td>https://i.ytimg.com/vi/riupcv-tf1s/default.jpg</td>\n      <td>True</td>\n      <td>False</td>\n      <td>False</td>\n      <td>Homo Faber, Kurvendiskussion, Asbest in den To...</td>\n      <td>Niedersachsen</td>\n      <td>53.129999</td>\n      <td>8.220004</td>\n      <td>POINT (8.220004434 53.1299986)</td>\n      <td>Trailers</td>\n    </tr>\n    <tr>\n      <th>40838</th>\n      <td>l7E0kTvARsA</td>\n      <td>2018-06-01</td>\n      <td>Golak Bugni Bank Te Batua Full Movie (HD) | Ha...</td>\n      <td>Rhythm Boyz</td>\n      <td>2018-05-31 13:30:04+00:00</td>\n      <td>full movie|\"full punjabi movie\"|\"golak\"|\"bugni...</td>\n      <td>781977</td>\n      <td>22027</td>\n      <td>783</td>\n      <td>1096</td>\n      <td>https://i.ytimg.com/vi/l7E0kTvARsA/default.jpg</td>\n      <td>False</td>\n      <td>False</td>\n      <td>False</td>\n      <td>Rhythm Boyz Entertainment &amp; Hayre Omjee Studio...</td>\n      <td>Rheinland Pfalz</td>\n      <td>49.982472</td>\n      <td>8.273219</td>\n      <td>POINT (8.273219156 49.98247246)</td>\n      <td>Movies</td>\n    </tr>\n    <tr>\n      <th>40839</th>\n      <td>l7E0kTvARsA</td>\n      <td>2018-06-02</td>\n      <td>Golak Bugni Bank Te Batua Full Movie (HD) | Ha...</td>\n      <td>Rhythm Boyz</td>\n      <td>2018-05-31 13:30:04+00:00</td>\n      <td>full movie|\"full punjabi movie\"|\"golak\"|\"bugni...</td>\n      <td>2289027</td>\n      <td>41807</td>\n      <td>1811</td>\n      <td>2153</td>\n      <td>https://i.ytimg.com/vi/l7E0kTvARsA/default.jpg</td>\n      <td>False</td>\n      <td>False</td>\n      <td>False</td>\n      <td>Rhythm Boyz Entertainment &amp; Hayre Omjee Studio...</td>\n      <td>Hamburg</td>\n      <td>53.550025</td>\n      <td>9.999999</td>\n      <td>POINT (9.999999144 53.55002464)</td>\n      <td>Movies</td>\n    </tr>\n  </tbody>\n</table>\n<p>40840 rows × 20 columns</p>\n</div>"
     },
     "metadata": {},
     "execution_count": 6
    }
   ],
   "source": [
    "#Ahora convertimos los datos \n",
    "dfvid['video_id'] = dfvid['video_id'].astype(str)\n",
    "dfvid['title'] = dfvid['title'].astype(str)\n",
    "dfvid['channel_title'] = dfvid['channel_title'].astype(str)\n",
    "dfvid['tags'] = dfvid['tags'].astype(str)\n",
    "dfvid['thumbnail_link'] = dfvid['thumbnail_link'].astype(str)\n",
    "dfvid['description'] = dfvid['description'].astype(str)\n",
    "dfvid['state'] = dfvid['state'].astype(str)\n",
    "dfvid['snippet.title'] = dfvid['snippet.title'].astype(str)\n",
    "dfvid['trending_date'] = pd.to_datetime(dfvid['trending_date'], format=\"%y.%d.%m\")\n",
    "dfvid['publish_time'] = pd.to_datetime(dfvid['publish_time'])\n",
    "dfvid"
   ]
  },
  {
   "cell_type": "code",
   "execution_count": 7,
   "metadata": {},
   "outputs": [
    {
     "output_type": "execute_result",
     "data": {
      "text/plain": [
       "video_id                  0\n",
       "trending_date             0\n",
       "title                     0\n",
       "channel_title             0\n",
       "publish_time              0\n",
       "tags                      0\n",
       "views                     0\n",
       "likes                     0\n",
       "dislikes                  0\n",
       "comment_count             0\n",
       "thumbnail_link            0\n",
       "comments_disabled         0\n",
       "ratings_disabled          0\n",
       "video_error_or_removed    0\n",
       "description               0\n",
       "state                     0\n",
       "lat                       0\n",
       "lon                       0\n",
       "geometry                  0\n",
       "snippet.title             0\n",
       "dtype: int64"
      ]
     },
     "metadata": {},
     "execution_count": 7
    }
   ],
   "source": [
    "dfvid.isnull().sum() "
   ]
  },
  {
   "cell_type": "code",
   "execution_count": 9,
   "metadata": {},
   "outputs": [
    {
     "output_type": "execute_result",
     "data": {
      "text/plain": [
       "'videos con views en 0: 0 | videos con comment_count en 0: 5440 | videos con dislikes en 0: 4960 | videos con likes en 0: 120'"
      ]
     },
     "metadata": {},
     "execution_count": 9
    }
   ],
   "source": [
    "#Normalización\n",
    "#Vamos a crear un nuevo dataframe a base del actual, que tenga los comentarios activados \n",
    "dfnew = dfvid[(dfvid['comments_disabled']==False) & (dfvid['ratings_disabled']==False)]\n",
    "#Ahora analizamos las columnas: \n",
    "'videos con views en 0: '+str(dfnew[(dfnew['views']==0)].count().sum())+' | videos con comment_count en 0: '+str(dfnew[(dfnew['comment_count']==0)].count().sum())+' | videos con dislikes en 0: '+str(dfnew[(dfnew['dislikes']==0)].count().sum())+' | videos con likes en 0: '+str(dfnew[(dfnew['likes']==0)].count().sum())\n"
   ]
  },
  {
   "cell_type": "code",
   "execution_count": 10,
   "metadata": {},
   "outputs": [],
   "source": [
    "dfnew.to_csv('../data/moded/dfvideos_comentarios_valoraciones.csv')\n"
   ]
  }
 ]
}