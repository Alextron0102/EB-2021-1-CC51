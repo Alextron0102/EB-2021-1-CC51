{
 "cells": [
  {
   "cell_type": "code",
   "execution_count": 19,
   "metadata": {
    "collapsed": false
   },
   "outputs": [],
   "source": [
    "from sklearn.model_selection import train_test_split\n",
    "import pandas as pd\n",
    "import numpy as np\n",
    "import matplotlib.pyplot as plt\n",
    "import seaborn as sns\n",
    "%matplotlib inline"
   ]
  },
  {
   "cell_type": "code",
   "execution_count": 20,
   "metadata": {
    "collapsed": false,
    "scrolled": true
   },
   "outputs": [],
   "source": [
    "videos = pd.read_csv('../data/moded/DE_videos_outliers.csv')"
   ]
  },
  {
   "cell_type": "code",
   "execution_count": 21,
   "metadata": {
    "collapsed": false
   },
   "outputs": [
    {
     "data": {
      "text/html": [
       "<div>\n",
       "<style scoped>\n",
       "    .dataframe tbody tr th:only-of-type {\n",
       "        vertical-align: middle;\n",
       "    }\n",
       "\n",
       "    .dataframe tbody tr th {\n",
       "        vertical-align: top;\n",
       "    }\n",
       "\n",
       "    .dataframe thead th {\n",
       "        text-align: right;\n",
       "    }\n",
       "</style>\n",
       "<table border=\"1\" class=\"dataframe\">\n",
       "  <thead>\n",
       "    <tr style=\"text-align: right;\">\n",
       "      <th></th>\n",
       "      <th>Unnamed: 0</th>\n",
       "      <th>X</th>\n",
       "      <th>video_id</th>\n",
       "      <th>trending_date</th>\n",
       "      <th>title</th>\n",
       "      <th>channel_title</th>\n",
       "      <th>publish_time</th>\n",
       "      <th>tags</th>\n",
       "      <th>views</th>\n",
       "      <th>likes</th>\n",
       "      <th>...</th>\n",
       "      <th>thumbnail_link</th>\n",
       "      <th>comments_disabled</th>\n",
       "      <th>ratings_disabled</th>\n",
       "      <th>video_error_or_removed</th>\n",
       "      <th>description</th>\n",
       "      <th>state</th>\n",
       "      <th>lat</th>\n",
       "      <th>lon</th>\n",
       "      <th>geometry</th>\n",
       "      <th>snippet.title</th>\n",
       "    </tr>\n",
       "  </thead>\n",
       "  <tbody>\n",
       "    <tr>\n",
       "      <th>0</th>\n",
       "      <td>1</td>\n",
       "      <td>0</td>\n",
       "      <td>LgVi6y5QIjM</td>\n",
       "      <td>2017-11-14</td>\n",
       "      <td>Sing zu Ende! | Gesangseinlagen vom Feinsten |...</td>\n",
       "      <td>inscope21</td>\n",
       "      <td>2017-11-13 17:08:49+00:00</td>\n",
       "      <td>inscope21|\\sing zu ende\\\"|\\\"gesangseinlagen\\\"|...</td>\n",
       "      <td>252786.0</td>\n",
       "      <td>35885.0</td>\n",
       "      <td>...</td>\n",
       "      <td>https://i.ytimg.com/vi/LgVi6y5QIjM/default.jpg</td>\n",
       "      <td>False</td>\n",
       "      <td>False</td>\n",
       "      <td>False</td>\n",
       "      <td>Heute gibt es mal wieder ein neues Format... w...</td>\n",
       "      <td>Schleswig Holstein</td>\n",
       "      <td>54.783748</td>\n",
       "      <td>9.433315</td>\n",
       "      <td>POINT (9.433315388 54.78374778)</td>\n",
       "      <td>Entertainment</td>\n",
       "    </tr>\n",
       "    <tr>\n",
       "      <th>1</th>\n",
       "      <td>2</td>\n",
       "      <td>1</td>\n",
       "      <td>1ZAPwfrtAFY</td>\n",
       "      <td>2017-11-14</td>\n",
       "      <td>The Trump Presidency: Last Week Tonight with J...</td>\n",
       "      <td>LastWeekTonight</td>\n",
       "      <td>2017-11-13 07:30:00+00:00</td>\n",
       "      <td>last week tonight trump presidency|\\last week ...</td>\n",
       "      <td>161781.5</td>\n",
       "      <td>3787.0</td>\n",
       "      <td>...</td>\n",
       "      <td>https://i.ytimg.com/vi/1ZAPwfrtAFY/default.jpg</td>\n",
       "      <td>False</td>\n",
       "      <td>False</td>\n",
       "      <td>False</td>\n",
       "      <td>One year after the presidential election, John...</td>\n",
       "      <td>Saarland</td>\n",
       "      <td>49.250390</td>\n",
       "      <td>6.970003</td>\n",
       "      <td>POINT (6.970003213 49.25039044)</td>\n",
       "      <td>Entertainment</td>\n",
       "    </tr>\n",
       "    <tr>\n",
       "      <th>2</th>\n",
       "      <td>3</td>\n",
       "      <td>2</td>\n",
       "      <td>ZJ9We4bjcg0</td>\n",
       "      <td>2017-11-14</td>\n",
       "      <td>18 SONGS mit Kelly MissesVlog (Sing-off)</td>\n",
       "      <td>rezo</td>\n",
       "      <td>2017-11-12 13:10:36+00:00</td>\n",
       "      <td>kelly|\\missesvlog\\\"|\\\"kelly song\\\"|\\\"bausa\\\"|\\...</td>\n",
       "      <td>822213.0</td>\n",
       "      <td>3787.0</td>\n",
       "      <td>...</td>\n",
       "      <td>https://i.ytimg.com/vi/ZJ9We4bjcg0/default.jpg</td>\n",
       "      <td>False</td>\n",
       "      <td>False</td>\n",
       "      <td>False</td>\n",
       "      <td>18 Song Mashup über den (veränderten) Beat von...</td>\n",
       "      <td>Berlin</td>\n",
       "      <td>52.521819</td>\n",
       "      <td>13.401549</td>\n",
       "      <td>POINT (13.40154862 52.52181866)</td>\n",
       "      <td>Entertainment</td>\n",
       "    </tr>\n",
       "    <tr>\n",
       "      <th>3</th>\n",
       "      <td>4</td>\n",
       "      <td>3</td>\n",
       "      <td>2hu_evXPpMM</td>\n",
       "      <td>2017-11-14</td>\n",
       "      <td>Dagi Bee wird Heiraten | Coldmirror bekommt Eh...</td>\n",
       "      <td>HerrNewstime</td>\n",
       "      <td>2017-11-12 16:33:18+00:00</td>\n",
       "      <td>Dagi Bee|\\Heiraten\\\"|\\\"Coldmirror\\\"|\\\"YouTube\\...</td>\n",
       "      <td>228574.0</td>\n",
       "      <td>11349.0</td>\n",
       "      <td>...</td>\n",
       "      <td>https://i.ytimg.com/vi/2hu_evXPpMM/default.jpg</td>\n",
       "      <td>False</td>\n",
       "      <td>False</td>\n",
       "      <td>False</td>\n",
       "      <td>Dagi Bee wird Heiraten | Coldmirror bekommt Eh...</td>\n",
       "      <td>Thuringen</td>\n",
       "      <td>50.970053</td>\n",
       "      <td>11.029962</td>\n",
       "      <td>POINT (11.02996212 50.97005292)</td>\n",
       "      <td>Entertainment</td>\n",
       "    </tr>\n",
       "    <tr>\n",
       "      <th>4</th>\n",
       "      <td>5</td>\n",
       "      <td>4</td>\n",
       "      <td>OKYUtHvgMhc</td>\n",
       "      <td>2017-11-14</td>\n",
       "      <td>Die Welt in 30 Jahren - Sommer 2047 -  VOLKAN</td>\n",
       "      <td>VOLKAN</td>\n",
       "      <td>2017-11-12 16:09:44+00:00</td>\n",
       "      <td>Welt|\\Natur\\\"|\\\"Umwelt\\\"|\\\"Klima\\\"|\\\"Klimawand...</td>\n",
       "      <td>37877.0</td>\n",
       "      <td>1839.0</td>\n",
       "      <td>...</td>\n",
       "      <td>https://i.ytimg.com/vi/OKYUtHvgMhc/default.jpg</td>\n",
       "      <td>False</td>\n",
       "      <td>False</td>\n",
       "      <td>False</td>\n",
       "      <td>Über die Zukunft nachzudenken macht Spaß, oder...</td>\n",
       "      <td>Sachsen</td>\n",
       "      <td>50.829984</td>\n",
       "      <td>12.919976</td>\n",
       "      <td>POINT (12.91997595 50.82998395)</td>\n",
       "      <td>Entertainment</td>\n",
       "    </tr>\n",
       "  </tbody>\n",
       "</table>\n",
       "<p>5 rows × 22 columns</p>\n",
       "</div>"
      ],
      "text/plain": [
       "   Unnamed: 0  X     video_id trending_date  \\\n",
       "0           1  0  LgVi6y5QIjM    2017-11-14   \n",
       "1           2  1  1ZAPwfrtAFY    2017-11-14   \n",
       "2           3  2  ZJ9We4bjcg0    2017-11-14   \n",
       "3           4  3  2hu_evXPpMM    2017-11-14   \n",
       "4           5  4  OKYUtHvgMhc    2017-11-14   \n",
       "\n",
       "                                               title    channel_title  \\\n",
       "0  Sing zu Ende! | Gesangseinlagen vom Feinsten |...        inscope21   \n",
       "1  The Trump Presidency: Last Week Tonight with J...  LastWeekTonight   \n",
       "2           18 SONGS mit Kelly MissesVlog (Sing-off)             rezo   \n",
       "3  Dagi Bee wird Heiraten | Coldmirror bekommt Eh...     HerrNewstime   \n",
       "4      Die Welt in 30 Jahren - Sommer 2047 -  VOLKAN           VOLKAN   \n",
       "\n",
       "                publish_time  \\\n",
       "0  2017-11-13 17:08:49+00:00   \n",
       "1  2017-11-13 07:30:00+00:00   \n",
       "2  2017-11-12 13:10:36+00:00   \n",
       "3  2017-11-12 16:33:18+00:00   \n",
       "4  2017-11-12 16:09:44+00:00   \n",
       "\n",
       "                                                tags     views    likes  ...  \\\n",
       "0  inscope21|\\sing zu ende\\\"|\\\"gesangseinlagen\\\"|...  252786.0  35885.0  ...   \n",
       "1  last week tonight trump presidency|\\last week ...  161781.5   3787.0  ...   \n",
       "2  kelly|\\missesvlog\\\"|\\\"kelly song\\\"|\\\"bausa\\\"|\\...  822213.0   3787.0  ...   \n",
       "3  Dagi Bee|\\Heiraten\\\"|\\\"Coldmirror\\\"|\\\"YouTube\\...  228574.0  11349.0  ...   \n",
       "4  Welt|\\Natur\\\"|\\\"Umwelt\\\"|\\\"Klima\\\"|\\\"Klimawand...   37877.0   1839.0  ...   \n",
       "\n",
       "                                   thumbnail_link  comments_disabled  \\\n",
       "0  https://i.ytimg.com/vi/LgVi6y5QIjM/default.jpg              False   \n",
       "1  https://i.ytimg.com/vi/1ZAPwfrtAFY/default.jpg              False   \n",
       "2  https://i.ytimg.com/vi/ZJ9We4bjcg0/default.jpg              False   \n",
       "3  https://i.ytimg.com/vi/2hu_evXPpMM/default.jpg              False   \n",
       "4  https://i.ytimg.com/vi/OKYUtHvgMhc/default.jpg              False   \n",
       "\n",
       "  ratings_disabled  video_error_or_removed  \\\n",
       "0            False                   False   \n",
       "1            False                   False   \n",
       "2            False                   False   \n",
       "3            False                   False   \n",
       "4            False                   False   \n",
       "\n",
       "                                         description               state  \\\n",
       "0  Heute gibt es mal wieder ein neues Format... w...  Schleswig Holstein   \n",
       "1  One year after the presidential election, John...            Saarland   \n",
       "2  18 Song Mashup über den (veränderten) Beat von...              Berlin   \n",
       "3  Dagi Bee wird Heiraten | Coldmirror bekommt Eh...           Thuringen   \n",
       "4  Über die Zukunft nachzudenken macht Spaß, oder...             Sachsen   \n",
       "\n",
       "         lat        lon                         geometry  snippet.title  \n",
       "0  54.783748   9.433315  POINT (9.433315388 54.78374778)  Entertainment  \n",
       "1  49.250390   6.970003  POINT (6.970003213 49.25039044)  Entertainment  \n",
       "2  52.521819  13.401549  POINT (13.40154862 52.52181866)  Entertainment  \n",
       "3  50.970053  11.029962  POINT (11.02996212 50.97005292)  Entertainment  \n",
       "4  50.829984  12.919976  POINT (12.91997595 50.82998395)  Entertainment  \n",
       "\n",
       "[5 rows x 22 columns]"
      ]
     },
     "execution_count": 21,
     "metadata": {},
     "output_type": "execute_result"
    }
   ],
   "source": [
    "videos.head()"
   ]
  },
  {
   "cell_type": "code",
   "execution_count": 96,
   "metadata": {
    "collapsed": false
   },
   "outputs": [],
   "source": [
    "X = videos[['likes','dislikes','comment_count']]\n",
    "y = videos['views']"
   ]
  },
  {
   "cell_type": "code",
   "execution_count": 97,
   "metadata": {
    "collapsed": false
   },
   "outputs": [],
   "source": [
    "X_train, X_test, y_train, y_test = train_test_split(X, y, test_size=1, random_state=101)"
   ]
  },
  {
   "cell_type": "code",
   "execution_count": 98,
   "metadata": {
    "collapsed": false
   },
   "outputs": [],
   "source": [
    "from sklearn.linear_model import LinearRegression"
   ]
  },
  {
   "cell_type": "code",
   "execution_count": 99,
   "metadata": {
    "collapsed": false
   },
   "outputs": [],
   "source": [
    "lm = LinearRegression()"
   ]
  },
  {
   "cell_type": "code",
   "execution_count": 100,
   "metadata": {
    "collapsed": false
   },
   "outputs": [
    {
     "data": {
      "text/plain": [
       "LinearRegression()"
      ]
     },
     "execution_count": 100,
     "metadata": {},
     "output_type": "execute_result"
    }
   ],
   "source": [
    "lm.fit(X_train,y_train)"
   ]
  },
  {
   "cell_type": "code",
   "execution_count": 101,
   "metadata": {
    "collapsed": false
   },
   "outputs": [
    {
     "name": "stdout",
     "output_type": "stream",
     "text": [
      "Las pendientes 'w1' del modelo son:  [  6.98189824 144.73090824  38.7955556 ]\n",
      "El término independiente de la recta 'w0' es:  132806.6975453797\n"
     ]
    }
   ],
   "source": [
    "slope = lm.coef_  # w1\n",
    "intercept = lm.intercept_ # w0\n",
    "\n",
    "print(\"Las pendientes 'w1' del modelo son: \", slope)\n",
    "print(\"El término independiente de la recta 'w0' es: \", intercept)"
   ]
  },
  {
   "cell_type": "code",
   "execution_count": 102,
   "metadata": {
    "collapsed": false
   },
   "outputs": [
    {
     "data": {
      "text/html": [
       "<div>\n",
       "<style scoped>\n",
       "    .dataframe tbody tr th:only-of-type {\n",
       "        vertical-align: middle;\n",
       "    }\n",
       "\n",
       "    .dataframe tbody tr th {\n",
       "        vertical-align: top;\n",
       "    }\n",
       "\n",
       "    .dataframe thead th {\n",
       "        text-align: right;\n",
       "    }\n",
       "</style>\n",
       "<table border=\"1\" class=\"dataframe\">\n",
       "  <thead>\n",
       "    <tr style=\"text-align: right;\">\n",
       "      <th></th>\n",
       "      <th>Coeficiente</th>\n",
       "    </tr>\n",
       "  </thead>\n",
       "  <tbody>\n",
       "    <tr>\n",
       "      <th>likes</th>\n",
       "      <td>6.981898</td>\n",
       "    </tr>\n",
       "    <tr>\n",
       "      <th>dislikes</th>\n",
       "      <td>144.730908</td>\n",
       "    </tr>\n",
       "    <tr>\n",
       "      <th>comment_count</th>\n",
       "      <td>38.795556</td>\n",
       "    </tr>\n",
       "  </tbody>\n",
       "</table>\n",
       "</div>"
      ],
      "text/plain": [
       "               Coeficiente\n",
       "likes             6.981898\n",
       "dislikes        144.730908\n",
       "comment_count    38.795556"
      ]
     },
     "execution_count": 102,
     "metadata": {},
     "output_type": "execute_result"
    }
   ],
   "source": [
    "coef_df = pd.DataFrame(lm.coef_,X.columns,columns=['Coeficiente'])\n",
    "coef_df"
   ]
  },
  {
   "cell_type": "code",
   "execution_count": 0,
   "metadata": {
    "collapsed": false
   },
   "outputs": [],
   "source": []
  },
  {
   "cell_type": "code",
   "execution_count": 0,
   "metadata": {
    "collapsed": false
   },
   "outputs": [],
   "source": []
  }
 ],
 "metadata": {
  "kernelspec": {
   "display_name": "Python 3 (system-wide)",
   "language": "python",
   "metadata": {
    "cocalc": {
     "description": "Python 3 programming language",
     "priority": 100,
     "url": "https://www.python.org/"
    }
   },
   "name": "python3",
   "resource_dir": "/ext/jupyter/kernels/python3"
  },
  "language_info": {
   "codemirror_mode": {
    "name": "ipython",
    "version": 3
   },
   "file_extension": ".py",
   "mimetype": "text/x-python",
   "name": "python",
   "nbconvert_exporter": "python",
   "pygments_lexer": "ipython3",
   "version": "3.8.5"
  }
 },
 "nbformat": 4,
 "nbformat_minor": 4
}